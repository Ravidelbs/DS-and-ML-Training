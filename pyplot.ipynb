{
 "cells": [
  {
   "cell_type": "code",
   "execution_count": null,
   "metadata": {},
   "outputs": [],
   "source": [
    "import pandas as pd\n",
    "import numpy as np\n",
    "import plotly as pl\n",
    "import cufflinks as cf\n",
    "import plotly.offline as po\n",
    "%matplotlib inline"
   ]
  },
  {
   "cell_type": "code",
   "execution_count": null,
   "metadata": {},
   "outputs": [],
   "source": [
    "po.init_notebook_mode(connected=True)"
   ]
  },
  {
   "cell_type": "code",
   "execution_count": null,
   "metadata": {},
   "outputs": [],
   "source": [
    "cf.go_offline()"
   ]
  },
  {
   "cell_type": "code",
   "execution_count": null,
   "metadata": {},
   "outputs": [],
   "source": [
    "df =  pd.DataFrame(np.random.rand(100, 5), columns=['a', 'b', 'c', 'd', 'e'])"
   ]
  },
  {
   "cell_type": "code",
   "execution_count": null,
   "metadata": {},
   "outputs": [],
   "source": [
    "df2 = pd.DataFrame({'x': [3, 4, 7, 8, 12], 'y': [1, 2, 3, 4, 5], 'z': [6, 7, 8, 4, 3]})"
   ]
  },
  {
   "cell_type": "code",
   "execution_count": null,
   "metadata": {},
   "outputs": [],
   "source": [
    "df.iplot(kind='scatter', x='a', y='b', mode='markers', size=7, symbol='x', colorscale='paired')"
   ]
  },
  {
   "cell_type": "code",
   "execution_count": null,
   "metadata": {},
   "outputs": [],
   "source": [
    "df2.iplot(kind='surface')"
   ]
  },
  {
   "cell_type": "code",
   "execution_count": null,
   "metadata": {},
   "outputs": [],
   "source": [
    "cf.datagen.sinwave(10,.25).iplot(kind='surface', theme='solar', colorscale='brbg', margin=(0,0,0,0))"
   ]
  },
  {
   "cell_type": "code",
   "execution_count": 19,
   "metadata": {},
   "outputs": [
    {
     "data": {
      "application/vnd.plotly.v1+json": {
       "config": {
        "linkText": "Export to plot.ly",
        "plotlyServerURL": "https://plot.ly",
        "showLink": true
       },
       "data": [
        {
         "marker": {
          "color": "rgba(255, 153, 51, 0.6)",
          "line": {
           "color": "rgba(255, 153, 51, 1.0)",
           "width": 1
          }
         },
         "name": "None",
         "orientation": "v",
         "text": "",
         "type": "bar",
         "x": [
          "a",
          "b",
          "c",
          "d",
          "e"
         ],
         "y": [
          100,
          100,
          100,
          100,
          100
         ]
        }
       ],
       "layout": {
        "legend": {
         "bgcolor": "#F5F6F9",
         "font": {
          "color": "#4D5663"
         }
        },
        "paper_bgcolor": "#F5F6F9",
        "plot_bgcolor": "#F5F6F9",
        "template": {
         "data": {
          "bar": [
           {
            "error_x": {
             "color": "#2a3f5f"
            },
            "error_y": {
             "color": "#2a3f5f"
            },
            "marker": {
             "line": {
              "color": "#E5ECF6",
              "width": 0.5
             }
            },
            "type": "bar"
           }
          ],
          "barpolar": [
           {
            "marker": {
             "line": {
              "color": "#E5ECF6",
              "width": 0.5
             }
            },
            "type": "barpolar"
           }
          ],
          "carpet": [
           {
            "aaxis": {
             "endlinecolor": "#2a3f5f",
             "gridcolor": "white",
             "linecolor": "white",
             "minorgridcolor": "white",
             "startlinecolor": "#2a3f5f"
            },
            "baxis": {
             "endlinecolor": "#2a3f5f",
             "gridcolor": "white",
             "linecolor": "white",
             "minorgridcolor": "white",
             "startlinecolor": "#2a3f5f"
            },
            "type": "carpet"
           }
          ],
          "choropleth": [
           {
            "colorbar": {
             "outlinewidth": 0,
             "ticks": ""
            },
            "type": "choropleth"
           }
          ],
          "contour": [
           {
            "colorbar": {
             "outlinewidth": 0,
             "ticks": ""
            },
            "colorscale": [
             [
              0,
              "#0d0887"
             ],
             [
              0.1111111111111111,
              "#46039f"
             ],
             [
              0.2222222222222222,
              "#7201a8"
             ],
             [
              0.3333333333333333,
              "#9c179e"
             ],
             [
              0.4444444444444444,
              "#bd3786"
             ],
             [
              0.5555555555555556,
              "#d8576b"
             ],
             [
              0.6666666666666666,
              "#ed7953"
             ],
             [
              0.7777777777777778,
              "#fb9f3a"
             ],
             [
              0.8888888888888888,
              "#fdca26"
             ],
             [
              1,
              "#f0f921"
             ]
            ],
            "type": "contour"
           }
          ],
          "contourcarpet": [
           {
            "colorbar": {
             "outlinewidth": 0,
             "ticks": ""
            },
            "type": "contourcarpet"
           }
          ],
          "heatmap": [
           {
            "colorbar": {
             "outlinewidth": 0,
             "ticks": ""
            },
            "colorscale": [
             [
              0,
              "#0d0887"
             ],
             [
              0.1111111111111111,
              "#46039f"
             ],
             [
              0.2222222222222222,
              "#7201a8"
             ],
             [
              0.3333333333333333,
              "#9c179e"
             ],
             [
              0.4444444444444444,
              "#bd3786"
             ],
             [
              0.5555555555555556,
              "#d8576b"
             ],
             [
              0.6666666666666666,
              "#ed7953"
             ],
             [
              0.7777777777777778,
              "#fb9f3a"
             ],
             [
              0.8888888888888888,
              "#fdca26"
             ],
             [
              1,
              "#f0f921"
             ]
            ],
            "type": "heatmap"
           }
          ],
          "heatmapgl": [
           {
            "colorbar": {
             "outlinewidth": 0,
             "ticks": ""
            },
            "colorscale": [
             [
              0,
              "#0d0887"
             ],
             [
              0.1111111111111111,
              "#46039f"
             ],
             [
              0.2222222222222222,
              "#7201a8"
             ],
             [
              0.3333333333333333,
              "#9c179e"
             ],
             [
              0.4444444444444444,
              "#bd3786"
             ],
             [
              0.5555555555555556,
              "#d8576b"
             ],
             [
              0.6666666666666666,
              "#ed7953"
             ],
             [
              0.7777777777777778,
              "#fb9f3a"
             ],
             [
              0.8888888888888888,
              "#fdca26"
             ],
             [
              1,
              "#f0f921"
             ]
            ],
            "type": "heatmapgl"
           }
          ],
          "histogram": [
           {
            "marker": {
             "colorbar": {
              "outlinewidth": 0,
              "ticks": ""
             }
            },
            "type": "histogram"
           }
          ],
          "histogram2d": [
           {
            "colorbar": {
             "outlinewidth": 0,
             "ticks": ""
            },
            "colorscale": [
             [
              0,
              "#0d0887"
             ],
             [
              0.1111111111111111,
              "#46039f"
             ],
             [
              0.2222222222222222,
              "#7201a8"
             ],
             [
              0.3333333333333333,
              "#9c179e"
             ],
             [
              0.4444444444444444,
              "#bd3786"
             ],
             [
              0.5555555555555556,
              "#d8576b"
             ],
             [
              0.6666666666666666,
              "#ed7953"
             ],
             [
              0.7777777777777778,
              "#fb9f3a"
             ],
             [
              0.8888888888888888,
              "#fdca26"
             ],
             [
              1,
              "#f0f921"
             ]
            ],
            "type": "histogram2d"
           }
          ],
          "histogram2dcontour": [
           {
            "colorbar": {
             "outlinewidth": 0,
             "ticks": ""
            },
            "colorscale": [
             [
              0,
              "#0d0887"
             ],
             [
              0.1111111111111111,
              "#46039f"
             ],
             [
              0.2222222222222222,
              "#7201a8"
             ],
             [
              0.3333333333333333,
              "#9c179e"
             ],
             [
              0.4444444444444444,
              "#bd3786"
             ],
             [
              0.5555555555555556,
              "#d8576b"
             ],
             [
              0.6666666666666666,
              "#ed7953"
             ],
             [
              0.7777777777777778,
              "#fb9f3a"
             ],
             [
              0.8888888888888888,
              "#fdca26"
             ],
             [
              1,
              "#f0f921"
             ]
            ],
            "type": "histogram2dcontour"
           }
          ],
          "mesh3d": [
           {
            "colorbar": {
             "outlinewidth": 0,
             "ticks": ""
            },
            "type": "mesh3d"
           }
          ],
          "parcoords": [
           {
            "line": {
             "colorbar": {
              "outlinewidth": 0,
              "ticks": ""
             }
            },
            "type": "parcoords"
           }
          ],
          "pie": [
           {
            "automargin": true,
            "type": "pie"
           }
          ],
          "scatter": [
           {
            "marker": {
             "colorbar": {
              "outlinewidth": 0,
              "ticks": ""
             }
            },
            "type": "scatter"
           }
          ],
          "scatter3d": [
           {
            "line": {
             "colorbar": {
              "outlinewidth": 0,
              "ticks": ""
             }
            },
            "marker": {
             "colorbar": {
              "outlinewidth": 0,
              "ticks": ""
             }
            },
            "type": "scatter3d"
           }
          ],
          "scattercarpet": [
           {
            "marker": {
             "colorbar": {
              "outlinewidth": 0,
              "ticks": ""
             }
            },
            "type": "scattercarpet"
           }
          ],
          "scattergeo": [
           {
            "marker": {
             "colorbar": {
              "outlinewidth": 0,
              "ticks": ""
             }
            },
            "type": "scattergeo"
           }
          ],
          "scattergl": [
           {
            "marker": {
             "colorbar": {
              "outlinewidth": 0,
              "ticks": ""
             }
            },
            "type": "scattergl"
           }
          ],
          "scattermapbox": [
           {
            "marker": {
             "colorbar": {
              "outlinewidth": 0,
              "ticks": ""
             }
            },
            "type": "scattermapbox"
           }
          ],
          "scatterpolar": [
           {
            "marker": {
             "colorbar": {
              "outlinewidth": 0,
              "ticks": ""
             }
            },
            "type": "scatterpolar"
           }
          ],
          "scatterpolargl": [
           {
            "marker": {
             "colorbar": {
              "outlinewidth": 0,
              "ticks": ""
             }
            },
            "type": "scatterpolargl"
           }
          ],
          "scatterternary": [
           {
            "marker": {
             "colorbar": {
              "outlinewidth": 0,
              "ticks": ""
             }
            },
            "type": "scatterternary"
           }
          ],
          "surface": [
           {
            "colorbar": {
             "outlinewidth": 0,
             "ticks": ""
            },
            "colorscale": [
             [
              0,
              "#0d0887"
             ],
             [
              0.1111111111111111,
              "#46039f"
             ],
             [
              0.2222222222222222,
              "#7201a8"
             ],
             [
              0.3333333333333333,
              "#9c179e"
             ],
             [
              0.4444444444444444,
              "#bd3786"
             ],
             [
              0.5555555555555556,
              "#d8576b"
             ],
             [
              0.6666666666666666,
              "#ed7953"
             ],
             [
              0.7777777777777778,
              "#fb9f3a"
             ],
             [
              0.8888888888888888,
              "#fdca26"
             ],
             [
              1,
              "#f0f921"
             ]
            ],
            "type": "surface"
           }
          ],
          "table": [
           {
            "cells": {
             "fill": {
              "color": "#EBF0F8"
             },
             "line": {
              "color": "white"
             }
            },
            "header": {
             "fill": {
              "color": "#C8D4E3"
             },
             "line": {
              "color": "white"
             }
            },
            "type": "table"
           }
          ]
         },
         "layout": {
          "annotationdefaults": {
           "arrowcolor": "#2a3f5f",
           "arrowhead": 0,
           "arrowwidth": 1
          },
          "coloraxis": {
           "colorbar": {
            "outlinewidth": 0,
            "ticks": ""
           }
          },
          "colorscale": {
           "diverging": [
            [
             0,
             "#8e0152"
            ],
            [
             0.1,
             "#c51b7d"
            ],
            [
             0.2,
             "#de77ae"
            ],
            [
             0.3,
             "#f1b6da"
            ],
            [
             0.4,
             "#fde0ef"
            ],
            [
             0.5,
             "#f7f7f7"
            ],
            [
             0.6,
             "#e6f5d0"
            ],
            [
             0.7,
             "#b8e186"
            ],
            [
             0.8,
             "#7fbc41"
            ],
            [
             0.9,
             "#4d9221"
            ],
            [
             1,
             "#276419"
            ]
           ],
           "sequential": [
            [
             0,
             "#0d0887"
            ],
            [
             0.1111111111111111,
             "#46039f"
            ],
            [
             0.2222222222222222,
             "#7201a8"
            ],
            [
             0.3333333333333333,
             "#9c179e"
            ],
            [
             0.4444444444444444,
             "#bd3786"
            ],
            [
             0.5555555555555556,
             "#d8576b"
            ],
            [
             0.6666666666666666,
             "#ed7953"
            ],
            [
             0.7777777777777778,
             "#fb9f3a"
            ],
            [
             0.8888888888888888,
             "#fdca26"
            ],
            [
             1,
             "#f0f921"
            ]
           ],
           "sequentialminus": [
            [
             0,
             "#0d0887"
            ],
            [
             0.1111111111111111,
             "#46039f"
            ],
            [
             0.2222222222222222,
             "#7201a8"
            ],
            [
             0.3333333333333333,
             "#9c179e"
            ],
            [
             0.4444444444444444,
             "#bd3786"
            ],
            [
             0.5555555555555556,
             "#d8576b"
            ],
            [
             0.6666666666666666,
             "#ed7953"
            ],
            [
             0.7777777777777778,
             "#fb9f3a"
            ],
            [
             0.8888888888888888,
             "#fdca26"
            ],
            [
             1,
             "#f0f921"
            ]
           ]
          },
          "colorway": [
           "#636efa",
           "#EF553B",
           "#00cc96",
           "#ab63fa",
           "#FFA15A",
           "#19d3f3",
           "#FF6692",
           "#B6E880",
           "#FF97FF",
           "#FECB52"
          ],
          "font": {
           "color": "#2a3f5f"
          },
          "geo": {
           "bgcolor": "white",
           "lakecolor": "white",
           "landcolor": "#E5ECF6",
           "showlakes": true,
           "showland": true,
           "subunitcolor": "white"
          },
          "hoverlabel": {
           "align": "left"
          },
          "hovermode": "closest",
          "mapbox": {
           "style": "light"
          },
          "paper_bgcolor": "white",
          "plot_bgcolor": "#E5ECF6",
          "polar": {
           "angularaxis": {
            "gridcolor": "white",
            "linecolor": "white",
            "ticks": ""
           },
           "bgcolor": "#E5ECF6",
           "radialaxis": {
            "gridcolor": "white",
            "linecolor": "white",
            "ticks": ""
           }
          },
          "scene": {
           "xaxis": {
            "backgroundcolor": "#E5ECF6",
            "gridcolor": "white",
            "gridwidth": 2,
            "linecolor": "white",
            "showbackground": true,
            "ticks": "",
            "zerolinecolor": "white"
           },
           "yaxis": {
            "backgroundcolor": "#E5ECF6",
            "gridcolor": "white",
            "gridwidth": 2,
            "linecolor": "white",
            "showbackground": true,
            "ticks": "",
            "zerolinecolor": "white"
           },
           "zaxis": {
            "backgroundcolor": "#E5ECF6",
            "gridcolor": "white",
            "gridwidth": 2,
            "linecolor": "white",
            "showbackground": true,
            "ticks": "",
            "zerolinecolor": "white"
           }
          },
          "shapedefaults": {
           "line": {
            "color": "#2a3f5f"
           }
          },
          "ternary": {
           "aaxis": {
            "gridcolor": "white",
            "linecolor": "white",
            "ticks": ""
           },
           "baxis": {
            "gridcolor": "white",
            "linecolor": "white",
            "ticks": ""
           },
           "bgcolor": "#E5ECF6",
           "caxis": {
            "gridcolor": "white",
            "linecolor": "white",
            "ticks": ""
           }
          },
          "title": {
           "x": 0.05
          },
          "xaxis": {
           "automargin": true,
           "gridcolor": "white",
           "linecolor": "white",
           "ticks": "",
           "title": {
            "standoff": 15
           },
           "zerolinecolor": "white",
           "zerolinewidth": 2
          },
          "yaxis": {
           "automargin": true,
           "gridcolor": "white",
           "linecolor": "white",
           "ticks": "",
           "title": {
            "standoff": 15
           },
           "zerolinecolor": "white",
           "zerolinewidth": 2
          }
         }
        },
        "title": {
         "font": {
          "color": "#4D5663"
         }
        },
        "xaxis": {
         "gridcolor": "#E1E5ED",
         "showgrid": true,
         "tickfont": {
          "color": "#4D5663"
         },
         "title": {
          "font": {
           "color": "#4D5663"
          },
          "text": ""
         },
         "zerolinecolor": "#E1E5ED"
        },
        "yaxis": {
         "gridcolor": "#E1E5ED",
         "showgrid": true,
         "tickfont": {
          "color": "#4D5663"
         },
         "title": {
          "font": {
           "color": "#4D5663"
          },
          "text": ""
         },
         "zerolinecolor": "#E1E5ED"
        }
       }
      },
      "text/html": [
       "<div>\n",
       "        \n",
       "        \n",
       "            <div id=\"257a713c-79a8-470a-98f3-7d6aa5965666\" class=\"plotly-graph-div\" style=\"height:525px; width:100%;\"></div>\n",
       "            <script type=\"text/javascript\">\n",
       "                require([\"plotly\"], function(Plotly) {\n",
       "                    window.PLOTLYENV=window.PLOTLYENV || {};\n",
       "                    window.PLOTLYENV.BASE_URL='https://plot.ly';\n",
       "                    \n",
       "                if (document.getElementById(\"257a713c-79a8-470a-98f3-7d6aa5965666\")) {\n",
       "                    Plotly.newPlot(\n",
       "                        '257a713c-79a8-470a-98f3-7d6aa5965666',\n",
       "                        [{\"marker\": {\"color\": \"rgba(255, 153, 51, 0.6)\", \"line\": {\"color\": \"rgba(255, 153, 51, 1.0)\", \"width\": 1}}, \"name\": \"None\", \"orientation\": \"v\", \"text\": \"\", \"type\": \"bar\", \"x\": [\"a\", \"b\", \"c\", \"d\", \"e\"], \"y\": [100, 100, 100, 100, 100]}],\n",
       "                        {\"legend\": {\"bgcolor\": \"#F5F6F9\", \"font\": {\"color\": \"#4D5663\"}}, \"paper_bgcolor\": \"#F5F6F9\", \"plot_bgcolor\": \"#F5F6F9\", \"template\": {\"data\": {\"bar\": [{\"error_x\": {\"color\": \"#2a3f5f\"}, \"error_y\": {\"color\": \"#2a3f5f\"}, \"marker\": {\"line\": {\"color\": \"#E5ECF6\", \"width\": 0.5}}, \"type\": \"bar\"}], \"barpolar\": [{\"marker\": {\"line\": {\"color\": \"#E5ECF6\", \"width\": 0.5}}, \"type\": \"barpolar\"}], \"carpet\": [{\"aaxis\": {\"endlinecolor\": \"#2a3f5f\", \"gridcolor\": \"white\", \"linecolor\": \"white\", \"minorgridcolor\": \"white\", \"startlinecolor\": \"#2a3f5f\"}, \"baxis\": {\"endlinecolor\": \"#2a3f5f\", \"gridcolor\": \"white\", \"linecolor\": \"white\", \"minorgridcolor\": \"white\", \"startlinecolor\": \"#2a3f5f\"}, \"type\": \"carpet\"}], \"choropleth\": [{\"colorbar\": {\"outlinewidth\": 0, \"ticks\": \"\"}, \"type\": \"choropleth\"}], \"contour\": [{\"colorbar\": {\"outlinewidth\": 0, \"ticks\": \"\"}, \"colorscale\": [[0.0, \"#0d0887\"], [0.1111111111111111, \"#46039f\"], [0.2222222222222222, \"#7201a8\"], [0.3333333333333333, \"#9c179e\"], [0.4444444444444444, \"#bd3786\"], [0.5555555555555556, \"#d8576b\"], [0.6666666666666666, \"#ed7953\"], [0.7777777777777778, \"#fb9f3a\"], [0.8888888888888888, \"#fdca26\"], [1.0, \"#f0f921\"]], \"type\": \"contour\"}], \"contourcarpet\": [{\"colorbar\": {\"outlinewidth\": 0, \"ticks\": \"\"}, \"type\": \"contourcarpet\"}], \"heatmap\": [{\"colorbar\": {\"outlinewidth\": 0, \"ticks\": \"\"}, \"colorscale\": [[0.0, \"#0d0887\"], [0.1111111111111111, \"#46039f\"], [0.2222222222222222, \"#7201a8\"], [0.3333333333333333, \"#9c179e\"], [0.4444444444444444, \"#bd3786\"], [0.5555555555555556, \"#d8576b\"], [0.6666666666666666, \"#ed7953\"], [0.7777777777777778, \"#fb9f3a\"], [0.8888888888888888, \"#fdca26\"], [1.0, \"#f0f921\"]], \"type\": \"heatmap\"}], \"heatmapgl\": [{\"colorbar\": {\"outlinewidth\": 0, \"ticks\": \"\"}, \"colorscale\": [[0.0, \"#0d0887\"], [0.1111111111111111, \"#46039f\"], [0.2222222222222222, \"#7201a8\"], [0.3333333333333333, \"#9c179e\"], [0.4444444444444444, \"#bd3786\"], [0.5555555555555556, \"#d8576b\"], [0.6666666666666666, \"#ed7953\"], [0.7777777777777778, \"#fb9f3a\"], [0.8888888888888888, \"#fdca26\"], [1.0, \"#f0f921\"]], \"type\": \"heatmapgl\"}], \"histogram\": [{\"marker\": {\"colorbar\": {\"outlinewidth\": 0, \"ticks\": \"\"}}, \"type\": \"histogram\"}], \"histogram2d\": [{\"colorbar\": {\"outlinewidth\": 0, \"ticks\": \"\"}, \"colorscale\": [[0.0, \"#0d0887\"], [0.1111111111111111, \"#46039f\"], [0.2222222222222222, \"#7201a8\"], [0.3333333333333333, \"#9c179e\"], [0.4444444444444444, \"#bd3786\"], [0.5555555555555556, \"#d8576b\"], [0.6666666666666666, \"#ed7953\"], [0.7777777777777778, \"#fb9f3a\"], [0.8888888888888888, \"#fdca26\"], [1.0, \"#f0f921\"]], \"type\": \"histogram2d\"}], \"histogram2dcontour\": [{\"colorbar\": {\"outlinewidth\": 0, \"ticks\": \"\"}, \"colorscale\": [[0.0, \"#0d0887\"], [0.1111111111111111, \"#46039f\"], [0.2222222222222222, \"#7201a8\"], [0.3333333333333333, \"#9c179e\"], [0.4444444444444444, \"#bd3786\"], [0.5555555555555556, \"#d8576b\"], [0.6666666666666666, \"#ed7953\"], [0.7777777777777778, \"#fb9f3a\"], [0.8888888888888888, \"#fdca26\"], [1.0, \"#f0f921\"]], \"type\": \"histogram2dcontour\"}], \"mesh3d\": [{\"colorbar\": {\"outlinewidth\": 0, \"ticks\": \"\"}, \"type\": \"mesh3d\"}], \"parcoords\": [{\"line\": {\"colorbar\": {\"outlinewidth\": 0, \"ticks\": \"\"}}, \"type\": \"parcoords\"}], \"pie\": [{\"automargin\": true, \"type\": \"pie\"}], \"scatter\": [{\"marker\": {\"colorbar\": {\"outlinewidth\": 0, \"ticks\": \"\"}}, \"type\": \"scatter\"}], \"scatter3d\": [{\"line\": {\"colorbar\": {\"outlinewidth\": 0, \"ticks\": \"\"}}, \"marker\": {\"colorbar\": {\"outlinewidth\": 0, \"ticks\": \"\"}}, \"type\": \"scatter3d\"}], \"scattercarpet\": [{\"marker\": {\"colorbar\": {\"outlinewidth\": 0, \"ticks\": \"\"}}, \"type\": \"scattercarpet\"}], \"scattergeo\": [{\"marker\": {\"colorbar\": {\"outlinewidth\": 0, \"ticks\": \"\"}}, \"type\": \"scattergeo\"}], \"scattergl\": [{\"marker\": {\"colorbar\": {\"outlinewidth\": 0, \"ticks\": \"\"}}, \"type\": \"scattergl\"}], \"scattermapbox\": [{\"marker\": {\"colorbar\": {\"outlinewidth\": 0, \"ticks\": \"\"}}, \"type\": \"scattermapbox\"}], \"scatterpolar\": [{\"marker\": {\"colorbar\": {\"outlinewidth\": 0, \"ticks\": \"\"}}, \"type\": \"scatterpolar\"}], \"scatterpolargl\": [{\"marker\": {\"colorbar\": {\"outlinewidth\": 0, \"ticks\": \"\"}}, \"type\": \"scatterpolargl\"}], \"scatterternary\": [{\"marker\": {\"colorbar\": {\"outlinewidth\": 0, \"ticks\": \"\"}}, \"type\": \"scatterternary\"}], \"surface\": [{\"colorbar\": {\"outlinewidth\": 0, \"ticks\": \"\"}, \"colorscale\": [[0.0, \"#0d0887\"], [0.1111111111111111, \"#46039f\"], [0.2222222222222222, \"#7201a8\"], [0.3333333333333333, \"#9c179e\"], [0.4444444444444444, \"#bd3786\"], [0.5555555555555556, \"#d8576b\"], [0.6666666666666666, \"#ed7953\"], [0.7777777777777778, \"#fb9f3a\"], [0.8888888888888888, \"#fdca26\"], [1.0, \"#f0f921\"]], \"type\": \"surface\"}], \"table\": [{\"cells\": {\"fill\": {\"color\": \"#EBF0F8\"}, \"line\": {\"color\": \"white\"}}, \"header\": {\"fill\": {\"color\": \"#C8D4E3\"}, \"line\": {\"color\": \"white\"}}, \"type\": \"table\"}]}, \"layout\": {\"annotationdefaults\": {\"arrowcolor\": \"#2a3f5f\", \"arrowhead\": 0, \"arrowwidth\": 1}, \"coloraxis\": {\"colorbar\": {\"outlinewidth\": 0, \"ticks\": \"\"}}, \"colorscale\": {\"diverging\": [[0, \"#8e0152\"], [0.1, \"#c51b7d\"], [0.2, \"#de77ae\"], [0.3, \"#f1b6da\"], [0.4, \"#fde0ef\"], [0.5, \"#f7f7f7\"], [0.6, \"#e6f5d0\"], [0.7, \"#b8e186\"], [0.8, \"#7fbc41\"], [0.9, \"#4d9221\"], [1, \"#276419\"]], \"sequential\": [[0.0, \"#0d0887\"], [0.1111111111111111, \"#46039f\"], [0.2222222222222222, \"#7201a8\"], [0.3333333333333333, \"#9c179e\"], [0.4444444444444444, \"#bd3786\"], [0.5555555555555556, \"#d8576b\"], [0.6666666666666666, \"#ed7953\"], [0.7777777777777778, \"#fb9f3a\"], [0.8888888888888888, \"#fdca26\"], [1.0, \"#f0f921\"]], \"sequentialminus\": [[0.0, \"#0d0887\"], [0.1111111111111111, \"#46039f\"], [0.2222222222222222, \"#7201a8\"], [0.3333333333333333, \"#9c179e\"], [0.4444444444444444, \"#bd3786\"], [0.5555555555555556, \"#d8576b\"], [0.6666666666666666, \"#ed7953\"], [0.7777777777777778, \"#fb9f3a\"], [0.8888888888888888, \"#fdca26\"], [1.0, \"#f0f921\"]]}, \"colorway\": [\"#636efa\", \"#EF553B\", \"#00cc96\", \"#ab63fa\", \"#FFA15A\", \"#19d3f3\", \"#FF6692\", \"#B6E880\", \"#FF97FF\", \"#FECB52\"], \"font\": {\"color\": \"#2a3f5f\"}, \"geo\": {\"bgcolor\": \"white\", \"lakecolor\": \"white\", \"landcolor\": \"#E5ECF6\", \"showlakes\": true, \"showland\": true, \"subunitcolor\": \"white\"}, \"hoverlabel\": {\"align\": \"left\"}, \"hovermode\": \"closest\", \"mapbox\": {\"style\": \"light\"}, \"paper_bgcolor\": \"white\", \"plot_bgcolor\": \"#E5ECF6\", \"polar\": {\"angularaxis\": {\"gridcolor\": \"white\", \"linecolor\": \"white\", \"ticks\": \"\"}, \"bgcolor\": \"#E5ECF6\", \"radialaxis\": {\"gridcolor\": \"white\", \"linecolor\": \"white\", \"ticks\": \"\"}}, \"scene\": {\"xaxis\": {\"backgroundcolor\": \"#E5ECF6\", \"gridcolor\": \"white\", \"gridwidth\": 2, \"linecolor\": \"white\", \"showbackground\": true, \"ticks\": \"\", \"zerolinecolor\": \"white\"}, \"yaxis\": {\"backgroundcolor\": \"#E5ECF6\", \"gridcolor\": \"white\", \"gridwidth\": 2, \"linecolor\": \"white\", \"showbackground\": true, \"ticks\": \"\", \"zerolinecolor\": \"white\"}, \"zaxis\": {\"backgroundcolor\": \"#E5ECF6\", \"gridcolor\": \"white\", \"gridwidth\": 2, \"linecolor\": \"white\", \"showbackground\": true, \"ticks\": \"\", \"zerolinecolor\": \"white\"}}, \"shapedefaults\": {\"line\": {\"color\": \"#2a3f5f\"}}, \"ternary\": {\"aaxis\": {\"gridcolor\": \"white\", \"linecolor\": \"white\", \"ticks\": \"\"}, \"baxis\": {\"gridcolor\": \"white\", \"linecolor\": \"white\", \"ticks\": \"\"}, \"bgcolor\": \"#E5ECF6\", \"caxis\": {\"gridcolor\": \"white\", \"linecolor\": \"white\", \"ticks\": \"\"}}, \"title\": {\"x\": 0.05}, \"xaxis\": {\"automargin\": true, \"gridcolor\": \"white\", \"linecolor\": \"white\", \"ticks\": \"\", \"title\": {\"standoff\": 15}, \"zerolinecolor\": \"white\", \"zerolinewidth\": 2}, \"yaxis\": {\"automargin\": true, \"gridcolor\": \"white\", \"linecolor\": \"white\", \"ticks\": \"\", \"title\": {\"standoff\": 15}, \"zerolinecolor\": \"white\", \"zerolinewidth\": 2}}}, \"title\": {\"font\": {\"color\": \"#4D5663\"}}, \"xaxis\": {\"gridcolor\": \"#E1E5ED\", \"showgrid\": true, \"tickfont\": {\"color\": \"#4D5663\"}, \"title\": {\"font\": {\"color\": \"#4D5663\"}, \"text\": \"\"}, \"zerolinecolor\": \"#E1E5ED\"}, \"yaxis\": {\"gridcolor\": \"#E1E5ED\", \"showgrid\": true, \"tickfont\": {\"color\": \"#4D5663\"}, \"title\": {\"font\": {\"color\": \"#4D5663\"}, \"text\": \"\"}, \"zerolinecolor\": \"#E1E5ED\"}},\n",
       "                        {\"showLink\": true, \"linkText\": \"Export to plot.ly\", \"plotlyServerURL\": \"https://plot.ly\", \"responsive\": true}\n",
       "                    ).then(function(){\n",
       "                            \n",
       "var gd = document.getElementById('257a713c-79a8-470a-98f3-7d6aa5965666');\n",
       "var x = new MutationObserver(function (mutations, observer) {{\n",
       "        var display = window.getComputedStyle(gd).display;\n",
       "        if (!display || display === 'none') {{\n",
       "            console.log([gd, 'removed!']);\n",
       "            Plotly.purge(gd);\n",
       "            observer.disconnect();\n",
       "        }}\n",
       "}});\n",
       "\n",
       "// Listen for the removal of the full notebook cells\n",
       "var notebookContainer = gd.closest('#notebook-container');\n",
       "if (notebookContainer) {{\n",
       "    x.observe(notebookContainer, {childList: true});\n",
       "}}\n",
       "\n",
       "// Listen for the clearing of the current output cell\n",
       "var outputEl = gd.closest('.output');\n",
       "if (outputEl) {{\n",
       "    x.observe(outputEl, {childList: true});\n",
       "}}\n",
       "\n",
       "                        })\n",
       "                };\n",
       "                });\n",
       "            </script>\n",
       "        </div>"
      ]
     },
     "metadata": {},
     "output_type": "display_data"
    }
   ],
   "source": [
    "df.count().iplot(kind='bar')"
   ]
  },
  {
   "cell_type": "code",
   "execution_count": 20,
   "metadata": {},
   "outputs": [
    {
     "data": {
      "application/vnd.plotly.v1+json": {
       "config": {
        "linkText": "Export to plot.ly",
        "plotlyServerURL": "https://plot.ly",
        "showLink": true
       },
       "data": [
        {
         "histfunc": "count",
         "histnorm": "",
         "marker": {
          "color": "rgba(255, 153, 51, 1.0)",
          "line": {
           "color": "#4D5663",
           "width": 1.3
          }
         },
         "name": "a",
         "opacity": 0.8,
         "orientation": "v",
         "type": "histogram",
         "x": [
          0.5455922216802196,
          0.43472500449870477,
          0.613642013686985,
          0.9211448307679699,
          0.2588938404677139,
          0.18935557603674213,
          0.9745657493445745,
          0.9377281421796986,
          0.22123585838170656,
          0.572233811834976,
          0.18054447650951355,
          0.666350405851922,
          0.23953597422162398,
          0.30093904689715467,
          0.9847621169618693,
          0.24802386351476724,
          0.9308873833185077,
          0.5840465242216989,
          0.3071437567529606,
          0.12354577497377328,
          0.07938597912175616,
          0.17263742068543397,
          0.4962355048927183,
          0.8947578768508239,
          0.7235331078724248,
          0.6217985486529243,
          0.3952021176214062,
          0.05373830066802243,
          0.9611244565709495,
          0.17456623430209883,
          0.7568444007001681,
          0.1934428035899871,
          0.7627246256391255,
          0.7943996030326728,
          0.8443509164901559,
          0.11312102824454573,
          0.4090022894174953,
          0.318756421775908,
          0.5312350498129236,
          0.14822024697091385,
          0.9072840499197423,
          0.5060896061779371,
          0.07246298772731308,
          0.10180596440846501,
          0.8009943335091578,
          0.39274176246891745,
          0.1926532068538217,
          0.21244924134944043,
          0.2743173978517537,
          0.5714718805753365,
          0.773544437204778,
          0.9841771752342547,
          0.43039526895454105,
          0.7151577476514861,
          0.5409781796556354,
          0.36278440920163013,
          0.6296835123206291,
          0.6187736514808505,
          0.5163059077341391,
          0.784028482171324,
          0.5556983121221952,
          0.31550494191037604,
          0.13855210157086983,
          0.5524249187209392,
          0.016424038801321594,
          0.7886351012793188,
          0.5646911014806594,
          0.5892082844262537,
          0.2612580471499718,
          0.352065021568685,
          0.020638606510735014,
          0.960064787997212,
          0.18703023173673383,
          0.39734893639452695,
          0.8977084479850741,
          0.6813816976740278,
          0.7972228365574756,
          0.7153000764825456,
          0.653455964981695,
          0.01518918044487616,
          0.4067779299332781,
          0.8676292823290721,
          0.38570407959340847,
          0.9397726852152095,
          0.9917770609932849,
          0.3567897551362671,
          0.34294040178204543,
          0.8565073714002363,
          0.13279344343600996,
          0.36779623411195317,
          0.08496244903920802,
          0.40750341718954264,
          0.2995369189488719,
          0.3055325623431403,
          0.8234513700236281,
          0.04053935232111938,
          0.38295587514489204,
          0.8717039984904328,
          0.8089398107303143,
          0.1657573080052983
         ]
        },
        {
         "histfunc": "count",
         "histnorm": "",
         "marker": {
          "color": "rgba(55, 128, 191, 1.0)",
          "line": {
           "color": "#4D5663",
           "width": 1.3
          }
         },
         "name": "b",
         "opacity": 0.8,
         "orientation": "v",
         "type": "histogram",
         "x": [
          0.008484814894207826,
          0.8408479999493951,
          0.8499214452829574,
          0.5726771585836316,
          0.7865207990605371,
          0.7868377706280152,
          0.09720434892168417,
          0.9494074364619389,
          0.4386672132622379,
          0.7629220061419595,
          0.056655897142321,
          0.7369903838613389,
          0.9709681427516909,
          0.24416216093550347,
          0.29338210543863463,
          0.055089101912519256,
          0.39345938549636283,
          0.3339973741128144,
          0.9309010709818574,
          0.13512306879244207,
          0.3884001102057618,
          0.8256722204525522,
          0.03511092320587539,
          0.5615365058229448,
          0.9356855175647266,
          0.217697614912566,
          0.22692541921786968,
          0.20564345276651597,
          0.054424671337641284,
          0.5917786983674175,
          0.3658592010457351,
          0.0012792365005099837,
          0.7599424049298078,
          0.5700800909309705,
          0.05494013209509341,
          0.031219043527694335,
          0.6718729767981022,
          0.5862550646386457,
          0.44069065381378925,
          0.21962685524970615,
          0.8553220260778102,
          0.8782358429876926,
          0.2008189984927159,
          0.7269546513000072,
          0.5372377973135868,
          0.5116943266117566,
          0.9508867242899575,
          0.44147878414871056,
          0.5908137530816118,
          0.35424418360906385,
          0.5005999286558352,
          0.48775082970760364,
          0.3539052285926868,
          0.7630157555677833,
          0.40949665811605096,
          0.8284905373570312,
          0.8861626191405431,
          0.1374749929531599,
          0.3957989792125023,
          0.42968323528611496,
          0.24435483367344113,
          0.2313971748498158,
          0.17670212864692225,
          0.313455930870694,
          0.12797016098328184,
          0.4571636692075972,
          0.6567516576675733,
          0.8706051731500367,
          0.9051970591113245,
          0.3674249362996005,
          0.27471815762714136,
          0.9676528405632756,
          0.8010191677470813,
          0.4715048968630188,
          0.9870821947624538,
          0.10140246552964183,
          0.9940694283325159,
          0.5961713631022668,
          0.9206435579608296,
          0.6459779880477002,
          0.0972014606164534,
          0.18370190107812612,
          0.3698640126475756,
          0.6469474984880067,
          0.46457428431396475,
          0.5278219299898446,
          0.8682356857825627,
          0.4927307544647007,
          0.30555468856181967,
          0.14959904816371816,
          0.4451892754818141,
          0.8272338866902836,
          0.43321447664383506,
          0.2540841307502508,
          0.2647811939835465,
          0.40321827487092576,
          0.6769394162895097,
          0.7679311470343188,
          0.036123287913476854,
          0.8873171445150825
         ]
        },
        {
         "histfunc": "count",
         "histnorm": "",
         "marker": {
          "color": "rgba(50, 171, 96, 1.0)",
          "line": {
           "color": "#4D5663",
           "width": 1.3
          }
         },
         "name": "c",
         "opacity": 0.8,
         "orientation": "v",
         "type": "histogram",
         "x": [
          0.04613811798592782,
          0.34607045731146424,
          0.17028813074289184,
          0.2864007792724781,
          0.48877205467824625,
          0.956309208939353,
          0.3629837434671247,
          0.8638492135946637,
          0.7437077970900959,
          0.4469424776981441,
          0.18229917948169394,
          0.5285815086388055,
          0.34506684381582164,
          0.09333922524644733,
          0.3285811071121212,
          0.471248518708244,
          0.7571499910510242,
          0.5781068134212827,
          0.6587484482528596,
          0.6844868063330476,
          0.48758576159643996,
          0.47653810629404636,
          0.8910728234484395,
          0.04210674855959318,
          0.6530706550124397,
          0.21547349841214203,
          0.2642087947305727,
          0.2782390836896538,
          0.7443726147927304,
          0.2204682241935758,
          0.3999825077003105,
          0.6997236683061265,
          0.16084021945523408,
          0.5631654082682856,
          0.9381249546544231,
          0.13859362968919697,
          0.5128851208131295,
          0.4482643268389004,
          0.48360284976090473,
          0.9881471283548107,
          0.11167270895833392,
          0.012938588047189281,
          0.45139911102761654,
          0.28269195158225,
          0.23007343539170066,
          0.6524531230420789,
          0.2024651211752877,
          0.5207293317128894,
          0.7176684444789336,
          0.810884480364629,
          0.7114618836611942,
          0.7910756616594143,
          0.13336043836213696,
          0.6509202548866944,
          0.33855831141540627,
          0.5944437961335536,
          0.9636764914481345,
          0.7558556625527437,
          0.9318494784313223,
          0.7102057730458753,
          0.9052148422448995,
          0.8980378688418761,
          0.27076650817640624,
          0.7900287856073639,
          0.46046096553207383,
          0.20410602224683072,
          0.7734434030254108,
          0.5602247073818434,
          0.26240247202561595,
          0.688411320297325,
          0.9745962232002224,
          0.383493356446618,
          0.23178364502854687,
          0.37464216951685014,
          0.6625195527337091,
          0.9735951731358191,
          0.0314450269096751,
          0.2713264251966431,
          0.31066907724467363,
          0.32479756738015864,
          0.9341224217790378,
          0.7144664058124355,
          0.49495085171140896,
          0.6777524719951455,
          0.43063395060179477,
          0.31828524251255264,
          0.7313674300702365,
          0.1895057031751206,
          0.6628399090039835,
          0.7291762855736365,
          0.9560739317752358,
          0.11542907755383736,
          0.5751579027609738,
          0.3675439222311988,
          0.399767266530899,
          0.8716114714963399,
          0.9307084479236808,
          0.6014087233828076,
          0.6213969982422567,
          0.13314755008335377
         ]
        },
        {
         "histfunc": "count",
         "histnorm": "",
         "marker": {
          "color": "rgba(128, 0, 128, 1.0)",
          "line": {
           "color": "#4D5663",
           "width": 1.3
          }
         },
         "name": "d",
         "opacity": 0.8,
         "orientation": "v",
         "type": "histogram",
         "x": [
          0.9566108073977128,
          0.8444191875503092,
          0.18334171011962908,
          0.608089647470051,
          0.6812389337946556,
          0.367842639379405,
          0.8011488673947204,
          0.4429191697777034,
          0.2810099357785899,
          0.8086402365632324,
          0.6825277099525353,
          0.26427839284915466,
          0.039748768271550716,
          0.8670004079276084,
          0.23396643137989948,
          0.5620654766002696,
          0.02403338031186386,
          0.2243387129729496,
          0.27060159034340603,
          0.2218321570061872,
          0.8092652834038221,
          0.2186741680474139,
          0.2902639105895267,
          0.1951631702100578,
          0.5204544963593836,
          0.435934578539095,
          0.13960745030482435,
          0.6011421706053695,
          0.6986424998000117,
          0.8150009941683579,
          0.5747388981492346,
          0.2159716225635646,
          0.6132049616082921,
          0.18939630044993205,
          0.9960903671582757,
          0.7831881905393172,
          0.6569872345230608,
          0.09253724018061382,
          0.9540750043511717,
          0.8948911559514927,
          0.8899914668139246,
          0.4504009311032493,
          0.49016355457675265,
          0.8161065439165177,
          0.19535207601662496,
          0.0564254955730954,
          0.6948551429393903,
          0.5332775070089872,
          0.6569285714779126,
          0.645828609615786,
          0.47401998827529235,
          0.20952726391112453,
          0.47424192754348593,
          0.4612596177744622,
          0.5342267533908256,
          0.11314174460315607,
          0.6549678266598988,
          0.8841606646837228,
          0.9430488376015432,
          0.7986078792165076,
          0.3636545080909319,
          0.7928660284340845,
          0.7398529066920971,
          0.5279994666453754,
          0.7776078267301005,
          0.48886506124487494,
          0.17318360582676184,
          0.9259185188747907,
          0.7240864876428721,
          0.2297746347261278,
          0.7419247382429166,
          0.7240439314010384,
          0.9922555910049015,
          0.5150390145851004,
          0.2001285970908857,
          0.22602327261445576,
          0.34057694043450293,
          0.743467114325375,
          0.5170549783522641,
          0.7077575336708546,
          0.05464685732645247,
          0.6361908760100221,
          0.6100767341201884,
          0.6587634700336871,
          0.4783795013613179,
          0.11949228088174157,
          0.8180776834399803,
          0.8856318467398211,
          0.48233987309482107,
          0.18697045258522627,
          0.15310566740162657,
          0.14592239288812514,
          0.3110522636599604,
          0.06985482875904436,
          0.39092531967933797,
          0.4986772151376274,
          0.41408390976067444,
          0.5488987989904192,
          0.42723654108315146,
          0.7795830982870661
         ]
        },
        {
         "histfunc": "count",
         "histnorm": "",
         "marker": {
          "color": "rgba(219, 64, 82, 1.0)",
          "line": {
           "color": "#4D5663",
           "width": 1.3
          }
         },
         "name": "e",
         "opacity": 0.8,
         "orientation": "v",
         "type": "histogram",
         "x": [
          0.6013637156399603,
          0.5271682788505216,
          0.5513440216419655,
          0.7110113720482127,
          0.4667017394606837,
          0.6639238658652822,
          0.3169723234560681,
          0.25128064265296957,
          0.728302979344527,
          0.9947241563841406,
          0.9167049562270316,
          0.6298628389994819,
          0.0165647968132151,
          0.8662885044313382,
          0.1187791556506772,
          0.11889860761146165,
          0.394919623658572,
          0.8273414672204222,
          0.96669111078202,
          0.5410037328827398,
          0.6926761792945402,
          0.16410612026388716,
          0.8079185931275206,
          0.7087151540307003,
          0.4939215298483909,
          0.7654003949541137,
          0.8671681989707414,
          0.4385138197907362,
          0.6749644204934976,
          0.6539276156154139,
          0.7333239002591271,
          0.7023693813398851,
          0.7519839597632265,
          0.3951476231451576,
          0.4294342564744037,
          0.2904463113532679,
          0.6365218552278359,
          0.21811523008402212,
          0.13753113887204949,
          0.321437374566665,
          0.8913107529581442,
          0.6275734226410186,
          0.06714635132266034,
          0.43874671669245946,
          0.2619242073819328,
          0.8411216034018133,
          0.09532463901003685,
          0.1869289067100144,
          0.6100949971579153,
          0.5352382961130531,
          0.2285755331697662,
          0.19442723605847445,
          0.002823657853186279,
          0.45263296935945885,
          0.5333382410880027,
          0.07837305411466644,
          0.10584270878671753,
          0.5360539260669133,
          0.2710213037672593,
          0.5757638949706747,
          0.5889980755153273,
          0.4200946458091561,
          0.7436043788209346,
          0.049512513321167684,
          0.2836180797446246,
          0.09968941176568857,
          0.5371217266947671,
          0.45257271760479356,
          0.16561220574734903,
          0.05635686071257162,
          0.8187071868069177,
          0.7702765188149665,
          0.5482628644135715,
          0.45638575578704543,
          0.9136497498592872,
          0.7175712030667944,
          0.19659640722490734,
          0.15893996849909597,
          0.1888235749058922,
          0.06069763513678328,
          0.1878771679671366,
          0.9891889952474058,
          0.3738964806317848,
          0.9668583624591595,
          0.1631586313843798,
          0.7702814971249056,
          0.18699856804117,
          0.8185558799761203,
          0.7858704625347678,
          0.36841508288287106,
          0.8461307454389135,
          0.45449519099258584,
          0.6924253065822177,
          0.5218994880625021,
          0.5860411412917591,
          0.7982945500766028,
          0.756073030726754,
          0.4017982721516776,
          0.657169143756664,
          0.3993520250228566
         ]
        }
       ],
       "layout": {
        "barmode": "overlay",
        "legend": {
         "bgcolor": "#F5F6F9",
         "font": {
          "color": "#4D5663"
         }
        },
        "paper_bgcolor": "#F5F6F9",
        "plot_bgcolor": "#F5F6F9",
        "template": {
         "data": {
          "bar": [
           {
            "error_x": {
             "color": "#2a3f5f"
            },
            "error_y": {
             "color": "#2a3f5f"
            },
            "marker": {
             "line": {
              "color": "#E5ECF6",
              "width": 0.5
             }
            },
            "type": "bar"
           }
          ],
          "barpolar": [
           {
            "marker": {
             "line": {
              "color": "#E5ECF6",
              "width": 0.5
             }
            },
            "type": "barpolar"
           }
          ],
          "carpet": [
           {
            "aaxis": {
             "endlinecolor": "#2a3f5f",
             "gridcolor": "white",
             "linecolor": "white",
             "minorgridcolor": "white",
             "startlinecolor": "#2a3f5f"
            },
            "baxis": {
             "endlinecolor": "#2a3f5f",
             "gridcolor": "white",
             "linecolor": "white",
             "minorgridcolor": "white",
             "startlinecolor": "#2a3f5f"
            },
            "type": "carpet"
           }
          ],
          "choropleth": [
           {
            "colorbar": {
             "outlinewidth": 0,
             "ticks": ""
            },
            "type": "choropleth"
           }
          ],
          "contour": [
           {
            "colorbar": {
             "outlinewidth": 0,
             "ticks": ""
            },
            "colorscale": [
             [
              0,
              "#0d0887"
             ],
             [
              0.1111111111111111,
              "#46039f"
             ],
             [
              0.2222222222222222,
              "#7201a8"
             ],
             [
              0.3333333333333333,
              "#9c179e"
             ],
             [
              0.4444444444444444,
              "#bd3786"
             ],
             [
              0.5555555555555556,
              "#d8576b"
             ],
             [
              0.6666666666666666,
              "#ed7953"
             ],
             [
              0.7777777777777778,
              "#fb9f3a"
             ],
             [
              0.8888888888888888,
              "#fdca26"
             ],
             [
              1,
              "#f0f921"
             ]
            ],
            "type": "contour"
           }
          ],
          "contourcarpet": [
           {
            "colorbar": {
             "outlinewidth": 0,
             "ticks": ""
            },
            "type": "contourcarpet"
           }
          ],
          "heatmap": [
           {
            "colorbar": {
             "outlinewidth": 0,
             "ticks": ""
            },
            "colorscale": [
             [
              0,
              "#0d0887"
             ],
             [
              0.1111111111111111,
              "#46039f"
             ],
             [
              0.2222222222222222,
              "#7201a8"
             ],
             [
              0.3333333333333333,
              "#9c179e"
             ],
             [
              0.4444444444444444,
              "#bd3786"
             ],
             [
              0.5555555555555556,
              "#d8576b"
             ],
             [
              0.6666666666666666,
              "#ed7953"
             ],
             [
              0.7777777777777778,
              "#fb9f3a"
             ],
             [
              0.8888888888888888,
              "#fdca26"
             ],
             [
              1,
              "#f0f921"
             ]
            ],
            "type": "heatmap"
           }
          ],
          "heatmapgl": [
           {
            "colorbar": {
             "outlinewidth": 0,
             "ticks": ""
            },
            "colorscale": [
             [
              0,
              "#0d0887"
             ],
             [
              0.1111111111111111,
              "#46039f"
             ],
             [
              0.2222222222222222,
              "#7201a8"
             ],
             [
              0.3333333333333333,
              "#9c179e"
             ],
             [
              0.4444444444444444,
              "#bd3786"
             ],
             [
              0.5555555555555556,
              "#d8576b"
             ],
             [
              0.6666666666666666,
              "#ed7953"
             ],
             [
              0.7777777777777778,
              "#fb9f3a"
             ],
             [
              0.8888888888888888,
              "#fdca26"
             ],
             [
              1,
              "#f0f921"
             ]
            ],
            "type": "heatmapgl"
           }
          ],
          "histogram": [
           {
            "marker": {
             "colorbar": {
              "outlinewidth": 0,
              "ticks": ""
             }
            },
            "type": "histogram"
           }
          ],
          "histogram2d": [
           {
            "colorbar": {
             "outlinewidth": 0,
             "ticks": ""
            },
            "colorscale": [
             [
              0,
              "#0d0887"
             ],
             [
              0.1111111111111111,
              "#46039f"
             ],
             [
              0.2222222222222222,
              "#7201a8"
             ],
             [
              0.3333333333333333,
              "#9c179e"
             ],
             [
              0.4444444444444444,
              "#bd3786"
             ],
             [
              0.5555555555555556,
              "#d8576b"
             ],
             [
              0.6666666666666666,
              "#ed7953"
             ],
             [
              0.7777777777777778,
              "#fb9f3a"
             ],
             [
              0.8888888888888888,
              "#fdca26"
             ],
             [
              1,
              "#f0f921"
             ]
            ],
            "type": "histogram2d"
           }
          ],
          "histogram2dcontour": [
           {
            "colorbar": {
             "outlinewidth": 0,
             "ticks": ""
            },
            "colorscale": [
             [
              0,
              "#0d0887"
             ],
             [
              0.1111111111111111,
              "#46039f"
             ],
             [
              0.2222222222222222,
              "#7201a8"
             ],
             [
              0.3333333333333333,
              "#9c179e"
             ],
             [
              0.4444444444444444,
              "#bd3786"
             ],
             [
              0.5555555555555556,
              "#d8576b"
             ],
             [
              0.6666666666666666,
              "#ed7953"
             ],
             [
              0.7777777777777778,
              "#fb9f3a"
             ],
             [
              0.8888888888888888,
              "#fdca26"
             ],
             [
              1,
              "#f0f921"
             ]
            ],
            "type": "histogram2dcontour"
           }
          ],
          "mesh3d": [
           {
            "colorbar": {
             "outlinewidth": 0,
             "ticks": ""
            },
            "type": "mesh3d"
           }
          ],
          "parcoords": [
           {
            "line": {
             "colorbar": {
              "outlinewidth": 0,
              "ticks": ""
             }
            },
            "type": "parcoords"
           }
          ],
          "pie": [
           {
            "automargin": true,
            "type": "pie"
           }
          ],
          "scatter": [
           {
            "marker": {
             "colorbar": {
              "outlinewidth": 0,
              "ticks": ""
             }
            },
            "type": "scatter"
           }
          ],
          "scatter3d": [
           {
            "line": {
             "colorbar": {
              "outlinewidth": 0,
              "ticks": ""
             }
            },
            "marker": {
             "colorbar": {
              "outlinewidth": 0,
              "ticks": ""
             }
            },
            "type": "scatter3d"
           }
          ],
          "scattercarpet": [
           {
            "marker": {
             "colorbar": {
              "outlinewidth": 0,
              "ticks": ""
             }
            },
            "type": "scattercarpet"
           }
          ],
          "scattergeo": [
           {
            "marker": {
             "colorbar": {
              "outlinewidth": 0,
              "ticks": ""
             }
            },
            "type": "scattergeo"
           }
          ],
          "scattergl": [
           {
            "marker": {
             "colorbar": {
              "outlinewidth": 0,
              "ticks": ""
             }
            },
            "type": "scattergl"
           }
          ],
          "scattermapbox": [
           {
            "marker": {
             "colorbar": {
              "outlinewidth": 0,
              "ticks": ""
             }
            },
            "type": "scattermapbox"
           }
          ],
          "scatterpolar": [
           {
            "marker": {
             "colorbar": {
              "outlinewidth": 0,
              "ticks": ""
             }
            },
            "type": "scatterpolar"
           }
          ],
          "scatterpolargl": [
           {
            "marker": {
             "colorbar": {
              "outlinewidth": 0,
              "ticks": ""
             }
            },
            "type": "scatterpolargl"
           }
          ],
          "scatterternary": [
           {
            "marker": {
             "colorbar": {
              "outlinewidth": 0,
              "ticks": ""
             }
            },
            "type": "scatterternary"
           }
          ],
          "surface": [
           {
            "colorbar": {
             "outlinewidth": 0,
             "ticks": ""
            },
            "colorscale": [
             [
              0,
              "#0d0887"
             ],
             [
              0.1111111111111111,
              "#46039f"
             ],
             [
              0.2222222222222222,
              "#7201a8"
             ],
             [
              0.3333333333333333,
              "#9c179e"
             ],
             [
              0.4444444444444444,
              "#bd3786"
             ],
             [
              0.5555555555555556,
              "#d8576b"
             ],
             [
              0.6666666666666666,
              "#ed7953"
             ],
             [
              0.7777777777777778,
              "#fb9f3a"
             ],
             [
              0.8888888888888888,
              "#fdca26"
             ],
             [
              1,
              "#f0f921"
             ]
            ],
            "type": "surface"
           }
          ],
          "table": [
           {
            "cells": {
             "fill": {
              "color": "#EBF0F8"
             },
             "line": {
              "color": "white"
             }
            },
            "header": {
             "fill": {
              "color": "#C8D4E3"
             },
             "line": {
              "color": "white"
             }
            },
            "type": "table"
           }
          ]
         },
         "layout": {
          "annotationdefaults": {
           "arrowcolor": "#2a3f5f",
           "arrowhead": 0,
           "arrowwidth": 1
          },
          "coloraxis": {
           "colorbar": {
            "outlinewidth": 0,
            "ticks": ""
           }
          },
          "colorscale": {
           "diverging": [
            [
             0,
             "#8e0152"
            ],
            [
             0.1,
             "#c51b7d"
            ],
            [
             0.2,
             "#de77ae"
            ],
            [
             0.3,
             "#f1b6da"
            ],
            [
             0.4,
             "#fde0ef"
            ],
            [
             0.5,
             "#f7f7f7"
            ],
            [
             0.6,
             "#e6f5d0"
            ],
            [
             0.7,
             "#b8e186"
            ],
            [
             0.8,
             "#7fbc41"
            ],
            [
             0.9,
             "#4d9221"
            ],
            [
             1,
             "#276419"
            ]
           ],
           "sequential": [
            [
             0,
             "#0d0887"
            ],
            [
             0.1111111111111111,
             "#46039f"
            ],
            [
             0.2222222222222222,
             "#7201a8"
            ],
            [
             0.3333333333333333,
             "#9c179e"
            ],
            [
             0.4444444444444444,
             "#bd3786"
            ],
            [
             0.5555555555555556,
             "#d8576b"
            ],
            [
             0.6666666666666666,
             "#ed7953"
            ],
            [
             0.7777777777777778,
             "#fb9f3a"
            ],
            [
             0.8888888888888888,
             "#fdca26"
            ],
            [
             1,
             "#f0f921"
            ]
           ],
           "sequentialminus": [
            [
             0,
             "#0d0887"
            ],
            [
             0.1111111111111111,
             "#46039f"
            ],
            [
             0.2222222222222222,
             "#7201a8"
            ],
            [
             0.3333333333333333,
             "#9c179e"
            ],
            [
             0.4444444444444444,
             "#bd3786"
            ],
            [
             0.5555555555555556,
             "#d8576b"
            ],
            [
             0.6666666666666666,
             "#ed7953"
            ],
            [
             0.7777777777777778,
             "#fb9f3a"
            ],
            [
             0.8888888888888888,
             "#fdca26"
            ],
            [
             1,
             "#f0f921"
            ]
           ]
          },
          "colorway": [
           "#636efa",
           "#EF553B",
           "#00cc96",
           "#ab63fa",
           "#FFA15A",
           "#19d3f3",
           "#FF6692",
           "#B6E880",
           "#FF97FF",
           "#FECB52"
          ],
          "font": {
           "color": "#2a3f5f"
          },
          "geo": {
           "bgcolor": "white",
           "lakecolor": "white",
           "landcolor": "#E5ECF6",
           "showlakes": true,
           "showland": true,
           "subunitcolor": "white"
          },
          "hoverlabel": {
           "align": "left"
          },
          "hovermode": "closest",
          "mapbox": {
           "style": "light"
          },
          "paper_bgcolor": "white",
          "plot_bgcolor": "#E5ECF6",
          "polar": {
           "angularaxis": {
            "gridcolor": "white",
            "linecolor": "white",
            "ticks": ""
           },
           "bgcolor": "#E5ECF6",
           "radialaxis": {
            "gridcolor": "white",
            "linecolor": "white",
            "ticks": ""
           }
          },
          "scene": {
           "xaxis": {
            "backgroundcolor": "#E5ECF6",
            "gridcolor": "white",
            "gridwidth": 2,
            "linecolor": "white",
            "showbackground": true,
            "ticks": "",
            "zerolinecolor": "white"
           },
           "yaxis": {
            "backgroundcolor": "#E5ECF6",
            "gridcolor": "white",
            "gridwidth": 2,
            "linecolor": "white",
            "showbackground": true,
            "ticks": "",
            "zerolinecolor": "white"
           },
           "zaxis": {
            "backgroundcolor": "#E5ECF6",
            "gridcolor": "white",
            "gridwidth": 2,
            "linecolor": "white",
            "showbackground": true,
            "ticks": "",
            "zerolinecolor": "white"
           }
          },
          "shapedefaults": {
           "line": {
            "color": "#2a3f5f"
           }
          },
          "ternary": {
           "aaxis": {
            "gridcolor": "white",
            "linecolor": "white",
            "ticks": ""
           },
           "baxis": {
            "gridcolor": "white",
            "linecolor": "white",
            "ticks": ""
           },
           "bgcolor": "#E5ECF6",
           "caxis": {
            "gridcolor": "white",
            "linecolor": "white",
            "ticks": ""
           }
          },
          "title": {
           "x": 0.05
          },
          "xaxis": {
           "automargin": true,
           "gridcolor": "white",
           "linecolor": "white",
           "ticks": "",
           "title": {
            "standoff": 15
           },
           "zerolinecolor": "white",
           "zerolinewidth": 2
          },
          "yaxis": {
           "automargin": true,
           "gridcolor": "white",
           "linecolor": "white",
           "ticks": "",
           "title": {
            "standoff": 15
           },
           "zerolinecolor": "white",
           "zerolinewidth": 2
          }
         }
        },
        "title": {
         "font": {
          "color": "#4D5663"
         }
        },
        "xaxis": {
         "gridcolor": "#E1E5ED",
         "showgrid": true,
         "tickfont": {
          "color": "#4D5663"
         },
         "title": {
          "font": {
           "color": "#4D5663"
          },
          "text": ""
         },
         "zerolinecolor": "#E1E5ED"
        },
        "yaxis": {
         "gridcolor": "#E1E5ED",
         "showgrid": true,
         "tickfont": {
          "color": "#4D5663"
         },
         "title": {
          "font": {
           "color": "#4D5663"
          },
          "text": ""
         },
         "zerolinecolor": "#E1E5ED"
        }
       }
      },
      "text/html": [
       "<div>\n",
       "        \n",
       "        \n",
       "            <div id=\"f8b3242b-cdc5-4f04-bdc0-7ae674388d39\" class=\"plotly-graph-div\" style=\"height:525px; width:100%;\"></div>\n",
       "            <script type=\"text/javascript\">\n",
       "                require([\"plotly\"], function(Plotly) {\n",
       "                    window.PLOTLYENV=window.PLOTLYENV || {};\n",
       "                    window.PLOTLYENV.BASE_URL='https://plot.ly';\n",
       "                    \n",
       "                if (document.getElementById(\"f8b3242b-cdc5-4f04-bdc0-7ae674388d39\")) {\n",
       "                    Plotly.newPlot(\n",
       "                        'f8b3242b-cdc5-4f04-bdc0-7ae674388d39',\n",
       "                        [{\"histfunc\": \"count\", \"histnorm\": \"\", \"marker\": {\"color\": \"rgba(255, 153, 51, 1.0)\", \"line\": {\"color\": \"#4D5663\", \"width\": 1.3}}, \"name\": \"a\", \"opacity\": 0.8, \"orientation\": \"v\", \"type\": \"histogram\", \"x\": [0.5455922216802196, 0.43472500449870477, 0.613642013686985, 0.9211448307679699, 0.2588938404677139, 0.18935557603674213, 0.9745657493445745, 0.9377281421796986, 0.22123585838170656, 0.572233811834976, 0.18054447650951355, 0.666350405851922, 0.23953597422162398, 0.30093904689715467, 0.9847621169618693, 0.24802386351476724, 0.9308873833185077, 0.5840465242216989, 0.3071437567529606, 0.12354577497377328, 0.07938597912175616, 0.17263742068543397, 0.4962355048927183, 0.8947578768508239, 0.7235331078724248, 0.6217985486529243, 0.3952021176214062, 0.05373830066802243, 0.9611244565709495, 0.17456623430209883, 0.7568444007001681, 0.1934428035899871, 0.7627246256391255, 0.7943996030326728, 0.8443509164901559, 0.11312102824454573, 0.4090022894174953, 0.318756421775908, 0.5312350498129236, 0.14822024697091385, 0.9072840499197423, 0.5060896061779371, 0.07246298772731308, 0.10180596440846501, 0.8009943335091578, 0.39274176246891745, 0.1926532068538217, 0.21244924134944043, 0.2743173978517537, 0.5714718805753365, 0.773544437204778, 0.9841771752342547, 0.43039526895454105, 0.7151577476514861, 0.5409781796556354, 0.36278440920163013, 0.6296835123206291, 0.6187736514808505, 0.5163059077341391, 0.784028482171324, 0.5556983121221952, 0.31550494191037604, 0.13855210157086983, 0.5524249187209392, 0.016424038801321594, 0.7886351012793188, 0.5646911014806594, 0.5892082844262537, 0.2612580471499718, 0.352065021568685, 0.020638606510735014, 0.960064787997212, 0.18703023173673383, 0.39734893639452695, 0.8977084479850741, 0.6813816976740278, 0.7972228365574756, 0.7153000764825456, 0.653455964981695, 0.01518918044487616, 0.4067779299332781, 0.8676292823290721, 0.38570407959340847, 0.9397726852152095, 0.9917770609932849, 0.3567897551362671, 0.34294040178204543, 0.8565073714002363, 0.13279344343600996, 0.36779623411195317, 0.08496244903920802, 0.40750341718954264, 0.2995369189488719, 0.3055325623431403, 0.8234513700236281, 0.04053935232111938, 0.38295587514489204, 0.8717039984904328, 0.8089398107303143, 0.1657573080052983]}, {\"histfunc\": \"count\", \"histnorm\": \"\", \"marker\": {\"color\": \"rgba(55, 128, 191, 1.0)\", \"line\": {\"color\": \"#4D5663\", \"width\": 1.3}}, \"name\": \"b\", \"opacity\": 0.8, \"orientation\": \"v\", \"type\": \"histogram\", \"x\": [0.008484814894207826, 0.8408479999493951, 0.8499214452829574, 0.5726771585836316, 0.7865207990605371, 0.7868377706280152, 0.09720434892168417, 0.9494074364619389, 0.4386672132622379, 0.7629220061419595, 0.056655897142321, 0.7369903838613389, 0.9709681427516909, 0.24416216093550347, 0.29338210543863463, 0.055089101912519256, 0.39345938549636283, 0.3339973741128144, 0.9309010709818574, 0.13512306879244207, 0.3884001102057618, 0.8256722204525522, 0.03511092320587539, 0.5615365058229448, 0.9356855175647266, 0.217697614912566, 0.22692541921786968, 0.20564345276651597, 0.054424671337641284, 0.5917786983674175, 0.3658592010457351, 0.0012792365005099837, 0.7599424049298078, 0.5700800909309705, 0.05494013209509341, 0.031219043527694335, 0.6718729767981022, 0.5862550646386457, 0.44069065381378925, 0.21962685524970615, 0.8553220260778102, 0.8782358429876926, 0.2008189984927159, 0.7269546513000072, 0.5372377973135868, 0.5116943266117566, 0.9508867242899575, 0.44147878414871056, 0.5908137530816118, 0.35424418360906385, 0.5005999286558352, 0.48775082970760364, 0.3539052285926868, 0.7630157555677833, 0.40949665811605096, 0.8284905373570312, 0.8861626191405431, 0.1374749929531599, 0.3957989792125023, 0.42968323528611496, 0.24435483367344113, 0.2313971748498158, 0.17670212864692225, 0.313455930870694, 0.12797016098328184, 0.4571636692075972, 0.6567516576675733, 0.8706051731500367, 0.9051970591113245, 0.3674249362996005, 0.27471815762714136, 0.9676528405632756, 0.8010191677470813, 0.4715048968630188, 0.9870821947624538, 0.10140246552964183, 0.9940694283325159, 0.5961713631022668, 0.9206435579608296, 0.6459779880477002, 0.0972014606164534, 0.18370190107812612, 0.3698640126475756, 0.6469474984880067, 0.46457428431396475, 0.5278219299898446, 0.8682356857825627, 0.4927307544647007, 0.30555468856181967, 0.14959904816371816, 0.4451892754818141, 0.8272338866902836, 0.43321447664383506, 0.2540841307502508, 0.2647811939835465, 0.40321827487092576, 0.6769394162895097, 0.7679311470343188, 0.036123287913476854, 0.8873171445150825]}, {\"histfunc\": \"count\", \"histnorm\": \"\", \"marker\": {\"color\": \"rgba(50, 171, 96, 1.0)\", \"line\": {\"color\": \"#4D5663\", \"width\": 1.3}}, \"name\": \"c\", \"opacity\": 0.8, \"orientation\": \"v\", \"type\": \"histogram\", \"x\": [0.04613811798592782, 0.34607045731146424, 0.17028813074289184, 0.2864007792724781, 0.48877205467824625, 0.956309208939353, 0.3629837434671247, 0.8638492135946637, 0.7437077970900959, 0.4469424776981441, 0.18229917948169394, 0.5285815086388055, 0.34506684381582164, 0.09333922524644733, 0.3285811071121212, 0.471248518708244, 0.7571499910510242, 0.5781068134212827, 0.6587484482528596, 0.6844868063330476, 0.48758576159643996, 0.47653810629404636, 0.8910728234484395, 0.04210674855959318, 0.6530706550124397, 0.21547349841214203, 0.2642087947305727, 0.2782390836896538, 0.7443726147927304, 0.2204682241935758, 0.3999825077003105, 0.6997236683061265, 0.16084021945523408, 0.5631654082682856, 0.9381249546544231, 0.13859362968919697, 0.5128851208131295, 0.4482643268389004, 0.48360284976090473, 0.9881471283548107, 0.11167270895833392, 0.012938588047189281, 0.45139911102761654, 0.28269195158225, 0.23007343539170066, 0.6524531230420789, 0.2024651211752877, 0.5207293317128894, 0.7176684444789336, 0.810884480364629, 0.7114618836611942, 0.7910756616594143, 0.13336043836213696, 0.6509202548866944, 0.33855831141540627, 0.5944437961335536, 0.9636764914481345, 0.7558556625527437, 0.9318494784313223, 0.7102057730458753, 0.9052148422448995, 0.8980378688418761, 0.27076650817640624, 0.7900287856073639, 0.46046096553207383, 0.20410602224683072, 0.7734434030254108, 0.5602247073818434, 0.26240247202561595, 0.688411320297325, 0.9745962232002224, 0.383493356446618, 0.23178364502854687, 0.37464216951685014, 0.6625195527337091, 0.9735951731358191, 0.0314450269096751, 0.2713264251966431, 0.31066907724467363, 0.32479756738015864, 0.9341224217790378, 0.7144664058124355, 0.49495085171140896, 0.6777524719951455, 0.43063395060179477, 0.31828524251255264, 0.7313674300702365, 0.1895057031751206, 0.6628399090039835, 0.7291762855736365, 0.9560739317752358, 0.11542907755383736, 0.5751579027609738, 0.3675439222311988, 0.399767266530899, 0.8716114714963399, 0.9307084479236808, 0.6014087233828076, 0.6213969982422567, 0.13314755008335377]}, {\"histfunc\": \"count\", \"histnorm\": \"\", \"marker\": {\"color\": \"rgba(128, 0, 128, 1.0)\", \"line\": {\"color\": \"#4D5663\", \"width\": 1.3}}, \"name\": \"d\", \"opacity\": 0.8, \"orientation\": \"v\", \"type\": \"histogram\", \"x\": [0.9566108073977128, 0.8444191875503092, 0.18334171011962908, 0.608089647470051, 0.6812389337946556, 0.367842639379405, 0.8011488673947204, 0.4429191697777034, 0.2810099357785899, 0.8086402365632324, 0.6825277099525353, 0.26427839284915466, 0.039748768271550716, 0.8670004079276084, 0.23396643137989948, 0.5620654766002696, 0.02403338031186386, 0.2243387129729496, 0.27060159034340603, 0.2218321570061872, 0.8092652834038221, 0.2186741680474139, 0.2902639105895267, 0.1951631702100578, 0.5204544963593836, 0.435934578539095, 0.13960745030482435, 0.6011421706053695, 0.6986424998000117, 0.8150009941683579, 0.5747388981492346, 0.2159716225635646, 0.6132049616082921, 0.18939630044993205, 0.9960903671582757, 0.7831881905393172, 0.6569872345230608, 0.09253724018061382, 0.9540750043511717, 0.8948911559514927, 0.8899914668139246, 0.4504009311032493, 0.49016355457675265, 0.8161065439165177, 0.19535207601662496, 0.0564254955730954, 0.6948551429393903, 0.5332775070089872, 0.6569285714779126, 0.645828609615786, 0.47401998827529235, 0.20952726391112453, 0.47424192754348593, 0.4612596177744622, 0.5342267533908256, 0.11314174460315607, 0.6549678266598988, 0.8841606646837228, 0.9430488376015432, 0.7986078792165076, 0.3636545080909319, 0.7928660284340845, 0.7398529066920971, 0.5279994666453754, 0.7776078267301005, 0.48886506124487494, 0.17318360582676184, 0.9259185188747907, 0.7240864876428721, 0.2297746347261278, 0.7419247382429166, 0.7240439314010384, 0.9922555910049015, 0.5150390145851004, 0.2001285970908857, 0.22602327261445576, 0.34057694043450293, 0.743467114325375, 0.5170549783522641, 0.7077575336708546, 0.05464685732645247, 0.6361908760100221, 0.6100767341201884, 0.6587634700336871, 0.4783795013613179, 0.11949228088174157, 0.8180776834399803, 0.8856318467398211, 0.48233987309482107, 0.18697045258522627, 0.15310566740162657, 0.14592239288812514, 0.3110522636599604, 0.06985482875904436, 0.39092531967933797, 0.4986772151376274, 0.41408390976067444, 0.5488987989904192, 0.42723654108315146, 0.7795830982870661]}, {\"histfunc\": \"count\", \"histnorm\": \"\", \"marker\": {\"color\": \"rgba(219, 64, 82, 1.0)\", \"line\": {\"color\": \"#4D5663\", \"width\": 1.3}}, \"name\": \"e\", \"opacity\": 0.8, \"orientation\": \"v\", \"type\": \"histogram\", \"x\": [0.6013637156399603, 0.5271682788505216, 0.5513440216419655, 0.7110113720482127, 0.4667017394606837, 0.6639238658652822, 0.3169723234560681, 0.25128064265296957, 0.728302979344527, 0.9947241563841406, 0.9167049562270316, 0.6298628389994819, 0.0165647968132151, 0.8662885044313382, 0.1187791556506772, 0.11889860761146165, 0.394919623658572, 0.8273414672204222, 0.96669111078202, 0.5410037328827398, 0.6926761792945402, 0.16410612026388716, 0.8079185931275206, 0.7087151540307003, 0.4939215298483909, 0.7654003949541137, 0.8671681989707414, 0.4385138197907362, 0.6749644204934976, 0.6539276156154139, 0.7333239002591271, 0.7023693813398851, 0.7519839597632265, 0.3951476231451576, 0.4294342564744037, 0.2904463113532679, 0.6365218552278359, 0.21811523008402212, 0.13753113887204949, 0.321437374566665, 0.8913107529581442, 0.6275734226410186, 0.06714635132266034, 0.43874671669245946, 0.2619242073819328, 0.8411216034018133, 0.09532463901003685, 0.1869289067100144, 0.6100949971579153, 0.5352382961130531, 0.2285755331697662, 0.19442723605847445, 0.002823657853186279, 0.45263296935945885, 0.5333382410880027, 0.07837305411466644, 0.10584270878671753, 0.5360539260669133, 0.2710213037672593, 0.5757638949706747, 0.5889980755153273, 0.4200946458091561, 0.7436043788209346, 0.049512513321167684, 0.2836180797446246, 0.09968941176568857, 0.5371217266947671, 0.45257271760479356, 0.16561220574734903, 0.05635686071257162, 0.8187071868069177, 0.7702765188149665, 0.5482628644135715, 0.45638575578704543, 0.9136497498592872, 0.7175712030667944, 0.19659640722490734, 0.15893996849909597, 0.1888235749058922, 0.06069763513678328, 0.1878771679671366, 0.9891889952474058, 0.3738964806317848, 0.9668583624591595, 0.1631586313843798, 0.7702814971249056, 0.18699856804117, 0.8185558799761203, 0.7858704625347678, 0.36841508288287106, 0.8461307454389135, 0.45449519099258584, 0.6924253065822177, 0.5218994880625021, 0.5860411412917591, 0.7982945500766028, 0.756073030726754, 0.4017982721516776, 0.657169143756664, 0.3993520250228566]}],\n",
       "                        {\"barmode\": \"overlay\", \"legend\": {\"bgcolor\": \"#F5F6F9\", \"font\": {\"color\": \"#4D5663\"}}, \"paper_bgcolor\": \"#F5F6F9\", \"plot_bgcolor\": \"#F5F6F9\", \"template\": {\"data\": {\"bar\": [{\"error_x\": {\"color\": \"#2a3f5f\"}, \"error_y\": {\"color\": \"#2a3f5f\"}, \"marker\": {\"line\": {\"color\": \"#E5ECF6\", \"width\": 0.5}}, \"type\": \"bar\"}], \"barpolar\": [{\"marker\": {\"line\": {\"color\": \"#E5ECF6\", \"width\": 0.5}}, \"type\": \"barpolar\"}], \"carpet\": [{\"aaxis\": {\"endlinecolor\": \"#2a3f5f\", \"gridcolor\": \"white\", \"linecolor\": \"white\", \"minorgridcolor\": \"white\", \"startlinecolor\": \"#2a3f5f\"}, \"baxis\": {\"endlinecolor\": \"#2a3f5f\", \"gridcolor\": \"white\", \"linecolor\": \"white\", \"minorgridcolor\": \"white\", \"startlinecolor\": \"#2a3f5f\"}, \"type\": \"carpet\"}], \"choropleth\": [{\"colorbar\": {\"outlinewidth\": 0, \"ticks\": \"\"}, \"type\": \"choropleth\"}], \"contour\": [{\"colorbar\": {\"outlinewidth\": 0, \"ticks\": \"\"}, \"colorscale\": [[0.0, \"#0d0887\"], [0.1111111111111111, \"#46039f\"], [0.2222222222222222, \"#7201a8\"], [0.3333333333333333, \"#9c179e\"], [0.4444444444444444, \"#bd3786\"], [0.5555555555555556, \"#d8576b\"], [0.6666666666666666, \"#ed7953\"], [0.7777777777777778, \"#fb9f3a\"], [0.8888888888888888, \"#fdca26\"], [1.0, \"#f0f921\"]], \"type\": \"contour\"}], \"contourcarpet\": [{\"colorbar\": {\"outlinewidth\": 0, \"ticks\": \"\"}, \"type\": \"contourcarpet\"}], \"heatmap\": [{\"colorbar\": {\"outlinewidth\": 0, \"ticks\": \"\"}, \"colorscale\": [[0.0, \"#0d0887\"], [0.1111111111111111, \"#46039f\"], [0.2222222222222222, \"#7201a8\"], [0.3333333333333333, \"#9c179e\"], [0.4444444444444444, \"#bd3786\"], [0.5555555555555556, \"#d8576b\"], [0.6666666666666666, \"#ed7953\"], [0.7777777777777778, \"#fb9f3a\"], [0.8888888888888888, \"#fdca26\"], [1.0, \"#f0f921\"]], \"type\": \"heatmap\"}], \"heatmapgl\": [{\"colorbar\": {\"outlinewidth\": 0, \"ticks\": \"\"}, \"colorscale\": [[0.0, \"#0d0887\"], [0.1111111111111111, \"#46039f\"], [0.2222222222222222, \"#7201a8\"], [0.3333333333333333, \"#9c179e\"], [0.4444444444444444, \"#bd3786\"], [0.5555555555555556, \"#d8576b\"], [0.6666666666666666, \"#ed7953\"], [0.7777777777777778, \"#fb9f3a\"], [0.8888888888888888, \"#fdca26\"], [1.0, \"#f0f921\"]], \"type\": \"heatmapgl\"}], \"histogram\": [{\"marker\": {\"colorbar\": {\"outlinewidth\": 0, \"ticks\": \"\"}}, \"type\": \"histogram\"}], \"histogram2d\": [{\"colorbar\": {\"outlinewidth\": 0, \"ticks\": \"\"}, \"colorscale\": [[0.0, \"#0d0887\"], [0.1111111111111111, \"#46039f\"], [0.2222222222222222, \"#7201a8\"], [0.3333333333333333, \"#9c179e\"], [0.4444444444444444, \"#bd3786\"], [0.5555555555555556, \"#d8576b\"], [0.6666666666666666, \"#ed7953\"], [0.7777777777777778, \"#fb9f3a\"], [0.8888888888888888, \"#fdca26\"], [1.0, \"#f0f921\"]], \"type\": \"histogram2d\"}], \"histogram2dcontour\": [{\"colorbar\": {\"outlinewidth\": 0, \"ticks\": \"\"}, \"colorscale\": [[0.0, \"#0d0887\"], [0.1111111111111111, \"#46039f\"], [0.2222222222222222, \"#7201a8\"], [0.3333333333333333, \"#9c179e\"], [0.4444444444444444, \"#bd3786\"], [0.5555555555555556, \"#d8576b\"], [0.6666666666666666, \"#ed7953\"], [0.7777777777777778, \"#fb9f3a\"], [0.8888888888888888, \"#fdca26\"], [1.0, \"#f0f921\"]], \"type\": \"histogram2dcontour\"}], \"mesh3d\": [{\"colorbar\": {\"outlinewidth\": 0, \"ticks\": \"\"}, \"type\": \"mesh3d\"}], \"parcoords\": [{\"line\": {\"colorbar\": {\"outlinewidth\": 0, \"ticks\": \"\"}}, \"type\": \"parcoords\"}], \"pie\": [{\"automargin\": true, \"type\": \"pie\"}], \"scatter\": [{\"marker\": {\"colorbar\": {\"outlinewidth\": 0, \"ticks\": \"\"}}, \"type\": \"scatter\"}], \"scatter3d\": [{\"line\": {\"colorbar\": {\"outlinewidth\": 0, \"ticks\": \"\"}}, \"marker\": {\"colorbar\": {\"outlinewidth\": 0, \"ticks\": \"\"}}, \"type\": \"scatter3d\"}], \"scattercarpet\": [{\"marker\": {\"colorbar\": {\"outlinewidth\": 0, \"ticks\": \"\"}}, \"type\": \"scattercarpet\"}], \"scattergeo\": [{\"marker\": {\"colorbar\": {\"outlinewidth\": 0, \"ticks\": \"\"}}, \"type\": \"scattergeo\"}], \"scattergl\": [{\"marker\": {\"colorbar\": {\"outlinewidth\": 0, \"ticks\": \"\"}}, \"type\": \"scattergl\"}], \"scattermapbox\": [{\"marker\": {\"colorbar\": {\"outlinewidth\": 0, \"ticks\": \"\"}}, \"type\": \"scattermapbox\"}], \"scatterpolar\": [{\"marker\": {\"colorbar\": {\"outlinewidth\": 0, \"ticks\": \"\"}}, \"type\": \"scatterpolar\"}], \"scatterpolargl\": [{\"marker\": {\"colorbar\": {\"outlinewidth\": 0, \"ticks\": \"\"}}, \"type\": \"scatterpolargl\"}], \"scatterternary\": [{\"marker\": {\"colorbar\": {\"outlinewidth\": 0, \"ticks\": \"\"}}, \"type\": \"scatterternary\"}], \"surface\": [{\"colorbar\": {\"outlinewidth\": 0, \"ticks\": \"\"}, \"colorscale\": [[0.0, \"#0d0887\"], [0.1111111111111111, \"#46039f\"], [0.2222222222222222, \"#7201a8\"], [0.3333333333333333, \"#9c179e\"], [0.4444444444444444, \"#bd3786\"], [0.5555555555555556, \"#d8576b\"], [0.6666666666666666, \"#ed7953\"], [0.7777777777777778, \"#fb9f3a\"], [0.8888888888888888, \"#fdca26\"], [1.0, \"#f0f921\"]], \"type\": \"surface\"}], \"table\": [{\"cells\": {\"fill\": {\"color\": \"#EBF0F8\"}, \"line\": {\"color\": \"white\"}}, \"header\": {\"fill\": {\"color\": \"#C8D4E3\"}, \"line\": {\"color\": \"white\"}}, \"type\": \"table\"}]}, \"layout\": {\"annotationdefaults\": {\"arrowcolor\": \"#2a3f5f\", \"arrowhead\": 0, \"arrowwidth\": 1}, \"coloraxis\": {\"colorbar\": {\"outlinewidth\": 0, \"ticks\": \"\"}}, \"colorscale\": {\"diverging\": [[0, \"#8e0152\"], [0.1, \"#c51b7d\"], [0.2, \"#de77ae\"], [0.3, \"#f1b6da\"], [0.4, \"#fde0ef\"], [0.5, \"#f7f7f7\"], [0.6, \"#e6f5d0\"], [0.7, \"#b8e186\"], [0.8, \"#7fbc41\"], [0.9, \"#4d9221\"], [1, \"#276419\"]], \"sequential\": [[0.0, \"#0d0887\"], [0.1111111111111111, \"#46039f\"], [0.2222222222222222, \"#7201a8\"], [0.3333333333333333, \"#9c179e\"], [0.4444444444444444, \"#bd3786\"], [0.5555555555555556, \"#d8576b\"], [0.6666666666666666, \"#ed7953\"], [0.7777777777777778, \"#fb9f3a\"], [0.8888888888888888, \"#fdca26\"], [1.0, \"#f0f921\"]], \"sequentialminus\": [[0.0, \"#0d0887\"], [0.1111111111111111, \"#46039f\"], [0.2222222222222222, \"#7201a8\"], [0.3333333333333333, \"#9c179e\"], [0.4444444444444444, \"#bd3786\"], [0.5555555555555556, \"#d8576b\"], [0.6666666666666666, \"#ed7953\"], [0.7777777777777778, \"#fb9f3a\"], [0.8888888888888888, \"#fdca26\"], [1.0, \"#f0f921\"]]}, \"colorway\": [\"#636efa\", \"#EF553B\", \"#00cc96\", \"#ab63fa\", \"#FFA15A\", \"#19d3f3\", \"#FF6692\", \"#B6E880\", \"#FF97FF\", \"#FECB52\"], \"font\": {\"color\": \"#2a3f5f\"}, \"geo\": {\"bgcolor\": \"white\", \"lakecolor\": \"white\", \"landcolor\": \"#E5ECF6\", \"showlakes\": true, \"showland\": true, \"subunitcolor\": \"white\"}, \"hoverlabel\": {\"align\": \"left\"}, \"hovermode\": \"closest\", \"mapbox\": {\"style\": \"light\"}, \"paper_bgcolor\": \"white\", \"plot_bgcolor\": \"#E5ECF6\", \"polar\": {\"angularaxis\": {\"gridcolor\": \"white\", \"linecolor\": \"white\", \"ticks\": \"\"}, \"bgcolor\": \"#E5ECF6\", \"radialaxis\": {\"gridcolor\": \"white\", \"linecolor\": \"white\", \"ticks\": \"\"}}, \"scene\": {\"xaxis\": {\"backgroundcolor\": \"#E5ECF6\", \"gridcolor\": \"white\", \"gridwidth\": 2, \"linecolor\": \"white\", \"showbackground\": true, \"ticks\": \"\", \"zerolinecolor\": \"white\"}, \"yaxis\": {\"backgroundcolor\": \"#E5ECF6\", \"gridcolor\": \"white\", \"gridwidth\": 2, \"linecolor\": \"white\", \"showbackground\": true, \"ticks\": \"\", \"zerolinecolor\": \"white\"}, \"zaxis\": {\"backgroundcolor\": \"#E5ECF6\", \"gridcolor\": \"white\", \"gridwidth\": 2, \"linecolor\": \"white\", \"showbackground\": true, \"ticks\": \"\", \"zerolinecolor\": \"white\"}}, \"shapedefaults\": {\"line\": {\"color\": \"#2a3f5f\"}}, \"ternary\": {\"aaxis\": {\"gridcolor\": \"white\", \"linecolor\": \"white\", \"ticks\": \"\"}, \"baxis\": {\"gridcolor\": \"white\", \"linecolor\": \"white\", \"ticks\": \"\"}, \"bgcolor\": \"#E5ECF6\", \"caxis\": {\"gridcolor\": \"white\", \"linecolor\": \"white\", \"ticks\": \"\"}}, \"title\": {\"x\": 0.05}, \"xaxis\": {\"automargin\": true, \"gridcolor\": \"white\", \"linecolor\": \"white\", \"ticks\": \"\", \"title\": {\"standoff\": 15}, \"zerolinecolor\": \"white\", \"zerolinewidth\": 2}, \"yaxis\": {\"automargin\": true, \"gridcolor\": \"white\", \"linecolor\": \"white\", \"ticks\": \"\", \"title\": {\"standoff\": 15}, \"zerolinecolor\": \"white\", \"zerolinewidth\": 2}}}, \"title\": {\"font\": {\"color\": \"#4D5663\"}}, \"xaxis\": {\"gridcolor\": \"#E1E5ED\", \"showgrid\": true, \"tickfont\": {\"color\": \"#4D5663\"}, \"title\": {\"font\": {\"color\": \"#4D5663\"}, \"text\": \"\"}, \"zerolinecolor\": \"#E1E5ED\"}, \"yaxis\": {\"gridcolor\": \"#E1E5ED\", \"showgrid\": true, \"tickfont\": {\"color\": \"#4D5663\"}, \"title\": {\"font\": {\"color\": \"#4D5663\"}, \"text\": \"\"}, \"zerolinecolor\": \"#E1E5ED\"}},\n",
       "                        {\"showLink\": true, \"linkText\": \"Export to plot.ly\", \"plotlyServerURL\": \"https://plot.ly\", \"responsive\": true}\n",
       "                    ).then(function(){\n",
       "                            \n",
       "var gd = document.getElementById('f8b3242b-cdc5-4f04-bdc0-7ae674388d39');\n",
       "var x = new MutationObserver(function (mutations, observer) {{\n",
       "        var display = window.getComputedStyle(gd).display;\n",
       "        if (!display || display === 'none') {{\n",
       "            console.log([gd, 'removed!']);\n",
       "            Plotly.purge(gd);\n",
       "            observer.disconnect();\n",
       "        }}\n",
       "}});\n",
       "\n",
       "// Listen for the removal of the full notebook cells\n",
       "var notebookContainer = gd.closest('#notebook-container');\n",
       "if (notebookContainer) {{\n",
       "    x.observe(notebookContainer, {childList: true});\n",
       "}}\n",
       "\n",
       "// Listen for the clearing of the current output cell\n",
       "var outputEl = gd.closest('.output');\n",
       "if (outputEl) {{\n",
       "    x.observe(outputEl, {childList: true});\n",
       "}}\n",
       "\n",
       "                        })\n",
       "                };\n",
       "                });\n",
       "            </script>\n",
       "        </div>"
      ]
     },
     "metadata": {},
     "output_type": "display_data"
    }
   ],
   "source": [
    "df.iplot(kind='hist')"
   ]
  },
  {
   "cell_type": "code",
   "execution_count": 23,
   "metadata": {},
   "outputs": [
    {
     "data": {
      "application/vnd.plotly.v1+json": {
       "config": {
        "linkText": "Export to plot.ly",
        "plotlyServerURL": "https://plot.ly",
        "showLink": true
       },
       "data": [
        {
         "line": {
          "color": "rgba(255, 153, 51, 1.0)",
          "dash": "solid",
          "shape": "linear",
          "width": 1.3
         },
         "mode": "lines",
         "name": "a",
         "text": "",
         "type": "scatter",
         "x": [
          0,
          1,
          2,
          3,
          4,
          5,
          6,
          7,
          8,
          9,
          10,
          11,
          12,
          13,
          14,
          15,
          16,
          17,
          18,
          19,
          20,
          21,
          22,
          23,
          24,
          25,
          26,
          27,
          28,
          29,
          30,
          31,
          32,
          33,
          34,
          35,
          36,
          37,
          38,
          39,
          40,
          41,
          42,
          43,
          44,
          45,
          46,
          47,
          48,
          49,
          50,
          51,
          52,
          53,
          54,
          55,
          56,
          57,
          58,
          59,
          60,
          61,
          62,
          63,
          64,
          65,
          66,
          67,
          68,
          69,
          70,
          71,
          72,
          73,
          74,
          75,
          76,
          77,
          78,
          79,
          80,
          81,
          82,
          83,
          84,
          85,
          86,
          87,
          88,
          89,
          90,
          91,
          92,
          93,
          94,
          95,
          96,
          97,
          98,
          99
         ],
         "y": [
          0.5455922216802196,
          0.43472500449870477,
          0.613642013686985,
          0.9211448307679699,
          0.2588938404677139,
          0.18935557603674213,
          0.9745657493445745,
          0.9377281421796986,
          0.22123585838170656,
          0.572233811834976,
          0.18054447650951355,
          0.666350405851922,
          0.23953597422162398,
          0.30093904689715467,
          0.9847621169618693,
          0.24802386351476724,
          0.9308873833185077,
          0.5840465242216989,
          0.3071437567529606,
          0.12354577497377328,
          0.07938597912175616,
          0.17263742068543397,
          0.4962355048927183,
          0.8947578768508239,
          0.7235331078724248,
          0.6217985486529243,
          0.3952021176214062,
          0.05373830066802243,
          0.9611244565709495,
          0.17456623430209883,
          0.7568444007001681,
          0.1934428035899871,
          0.7627246256391255,
          0.7943996030326728,
          0.8443509164901559,
          0.11312102824454573,
          0.4090022894174953,
          0.318756421775908,
          0.5312350498129236,
          0.14822024697091385,
          0.9072840499197423,
          0.5060896061779371,
          0.07246298772731308,
          0.10180596440846501,
          0.8009943335091578,
          0.39274176246891745,
          0.1926532068538217,
          0.21244924134944043,
          0.2743173978517537,
          0.5714718805753365,
          0.773544437204778,
          0.9841771752342547,
          0.43039526895454105,
          0.7151577476514861,
          0.5409781796556354,
          0.36278440920163013,
          0.6296835123206291,
          0.6187736514808505,
          0.5163059077341391,
          0.784028482171324,
          0.5556983121221952,
          0.31550494191037604,
          0.13855210157086983,
          0.5524249187209392,
          0.016424038801321594,
          0.7886351012793188,
          0.5646911014806594,
          0.5892082844262537,
          0.2612580471499718,
          0.352065021568685,
          0.020638606510735014,
          0.960064787997212,
          0.18703023173673383,
          0.39734893639452695,
          0.8977084479850741,
          0.6813816976740278,
          0.7972228365574756,
          0.7153000764825456,
          0.653455964981695,
          0.01518918044487616,
          0.4067779299332781,
          0.8676292823290721,
          0.38570407959340847,
          0.9397726852152095,
          0.9917770609932849,
          0.3567897551362671,
          0.34294040178204543,
          0.8565073714002363,
          0.13279344343600996,
          0.36779623411195317,
          0.08496244903920802,
          0.40750341718954264,
          0.2995369189488719,
          0.3055325623431403,
          0.8234513700236281,
          0.04053935232111938,
          0.38295587514489204,
          0.8717039984904328,
          0.8089398107303143,
          0.1657573080052983
         ]
        },
        {
         "line": {
          "color": "rgba(55, 128, 191, 1.0)",
          "dash": "solid",
          "shape": "linear",
          "width": 1.3
         },
         "mode": "lines",
         "name": "b",
         "text": "",
         "type": "scatter",
         "x": [
          0,
          1,
          2,
          3,
          4,
          5,
          6,
          7,
          8,
          9,
          10,
          11,
          12,
          13,
          14,
          15,
          16,
          17,
          18,
          19,
          20,
          21,
          22,
          23,
          24,
          25,
          26,
          27,
          28,
          29,
          30,
          31,
          32,
          33,
          34,
          35,
          36,
          37,
          38,
          39,
          40,
          41,
          42,
          43,
          44,
          45,
          46,
          47,
          48,
          49,
          50,
          51,
          52,
          53,
          54,
          55,
          56,
          57,
          58,
          59,
          60,
          61,
          62,
          63,
          64,
          65,
          66,
          67,
          68,
          69,
          70,
          71,
          72,
          73,
          74,
          75,
          76,
          77,
          78,
          79,
          80,
          81,
          82,
          83,
          84,
          85,
          86,
          87,
          88,
          89,
          90,
          91,
          92,
          93,
          94,
          95,
          96,
          97,
          98,
          99
         ],
         "y": [
          0.008484814894207826,
          0.8408479999493951,
          0.8499214452829574,
          0.5726771585836316,
          0.7865207990605371,
          0.7868377706280152,
          0.09720434892168417,
          0.9494074364619389,
          0.4386672132622379,
          0.7629220061419595,
          0.056655897142321,
          0.7369903838613389,
          0.9709681427516909,
          0.24416216093550347,
          0.29338210543863463,
          0.055089101912519256,
          0.39345938549636283,
          0.3339973741128144,
          0.9309010709818574,
          0.13512306879244207,
          0.3884001102057618,
          0.8256722204525522,
          0.03511092320587539,
          0.5615365058229448,
          0.9356855175647266,
          0.217697614912566,
          0.22692541921786968,
          0.20564345276651597,
          0.054424671337641284,
          0.5917786983674175,
          0.3658592010457351,
          0.0012792365005099837,
          0.7599424049298078,
          0.5700800909309705,
          0.05494013209509341,
          0.031219043527694335,
          0.6718729767981022,
          0.5862550646386457,
          0.44069065381378925,
          0.21962685524970615,
          0.8553220260778102,
          0.8782358429876926,
          0.2008189984927159,
          0.7269546513000072,
          0.5372377973135868,
          0.5116943266117566,
          0.9508867242899575,
          0.44147878414871056,
          0.5908137530816118,
          0.35424418360906385,
          0.5005999286558352,
          0.48775082970760364,
          0.3539052285926868,
          0.7630157555677833,
          0.40949665811605096,
          0.8284905373570312,
          0.8861626191405431,
          0.1374749929531599,
          0.3957989792125023,
          0.42968323528611496,
          0.24435483367344113,
          0.2313971748498158,
          0.17670212864692225,
          0.313455930870694,
          0.12797016098328184,
          0.4571636692075972,
          0.6567516576675733,
          0.8706051731500367,
          0.9051970591113245,
          0.3674249362996005,
          0.27471815762714136,
          0.9676528405632756,
          0.8010191677470813,
          0.4715048968630188,
          0.9870821947624538,
          0.10140246552964183,
          0.9940694283325159,
          0.5961713631022668,
          0.9206435579608296,
          0.6459779880477002,
          0.0972014606164534,
          0.18370190107812612,
          0.3698640126475756,
          0.6469474984880067,
          0.46457428431396475,
          0.5278219299898446,
          0.8682356857825627,
          0.4927307544647007,
          0.30555468856181967,
          0.14959904816371816,
          0.4451892754818141,
          0.8272338866902836,
          0.43321447664383506,
          0.2540841307502508,
          0.2647811939835465,
          0.40321827487092576,
          0.6769394162895097,
          0.7679311470343188,
          0.036123287913476854,
          0.8873171445150825
         ]
        },
        {
         "line": {
          "color": "rgba(50, 171, 96, 1.0)",
          "dash": "solid",
          "shape": "linear",
          "width": 1.3
         },
         "mode": "lines",
         "name": "c",
         "text": "",
         "type": "scatter",
         "x": [
          0,
          1,
          2,
          3,
          4,
          5,
          6,
          7,
          8,
          9,
          10,
          11,
          12,
          13,
          14,
          15,
          16,
          17,
          18,
          19,
          20,
          21,
          22,
          23,
          24,
          25,
          26,
          27,
          28,
          29,
          30,
          31,
          32,
          33,
          34,
          35,
          36,
          37,
          38,
          39,
          40,
          41,
          42,
          43,
          44,
          45,
          46,
          47,
          48,
          49,
          50,
          51,
          52,
          53,
          54,
          55,
          56,
          57,
          58,
          59,
          60,
          61,
          62,
          63,
          64,
          65,
          66,
          67,
          68,
          69,
          70,
          71,
          72,
          73,
          74,
          75,
          76,
          77,
          78,
          79,
          80,
          81,
          82,
          83,
          84,
          85,
          86,
          87,
          88,
          89,
          90,
          91,
          92,
          93,
          94,
          95,
          96,
          97,
          98,
          99
         ],
         "y": [
          0.04613811798592782,
          0.34607045731146424,
          0.17028813074289184,
          0.2864007792724781,
          0.48877205467824625,
          0.956309208939353,
          0.3629837434671247,
          0.8638492135946637,
          0.7437077970900959,
          0.4469424776981441,
          0.18229917948169394,
          0.5285815086388055,
          0.34506684381582164,
          0.09333922524644733,
          0.3285811071121212,
          0.471248518708244,
          0.7571499910510242,
          0.5781068134212827,
          0.6587484482528596,
          0.6844868063330476,
          0.48758576159643996,
          0.47653810629404636,
          0.8910728234484395,
          0.04210674855959318,
          0.6530706550124397,
          0.21547349841214203,
          0.2642087947305727,
          0.2782390836896538,
          0.7443726147927304,
          0.2204682241935758,
          0.3999825077003105,
          0.6997236683061265,
          0.16084021945523408,
          0.5631654082682856,
          0.9381249546544231,
          0.13859362968919697,
          0.5128851208131295,
          0.4482643268389004,
          0.48360284976090473,
          0.9881471283548107,
          0.11167270895833392,
          0.012938588047189281,
          0.45139911102761654,
          0.28269195158225,
          0.23007343539170066,
          0.6524531230420789,
          0.2024651211752877,
          0.5207293317128894,
          0.7176684444789336,
          0.810884480364629,
          0.7114618836611942,
          0.7910756616594143,
          0.13336043836213696,
          0.6509202548866944,
          0.33855831141540627,
          0.5944437961335536,
          0.9636764914481345,
          0.7558556625527437,
          0.9318494784313223,
          0.7102057730458753,
          0.9052148422448995,
          0.8980378688418761,
          0.27076650817640624,
          0.7900287856073639,
          0.46046096553207383,
          0.20410602224683072,
          0.7734434030254108,
          0.5602247073818434,
          0.26240247202561595,
          0.688411320297325,
          0.9745962232002224,
          0.383493356446618,
          0.23178364502854687,
          0.37464216951685014,
          0.6625195527337091,
          0.9735951731358191,
          0.0314450269096751,
          0.2713264251966431,
          0.31066907724467363,
          0.32479756738015864,
          0.9341224217790378,
          0.7144664058124355,
          0.49495085171140896,
          0.6777524719951455,
          0.43063395060179477,
          0.31828524251255264,
          0.7313674300702365,
          0.1895057031751206,
          0.6628399090039835,
          0.7291762855736365,
          0.9560739317752358,
          0.11542907755383736,
          0.5751579027609738,
          0.3675439222311988,
          0.399767266530899,
          0.8716114714963399,
          0.9307084479236808,
          0.6014087233828076,
          0.6213969982422567,
          0.13314755008335377
         ]
        },
        {
         "line": {
          "color": "rgba(128, 0, 128, 1.0)",
          "dash": "solid",
          "shape": "linear",
          "width": 1.3
         },
         "mode": "lines",
         "name": "d",
         "text": "",
         "type": "scatter",
         "x": [
          0,
          1,
          2,
          3,
          4,
          5,
          6,
          7,
          8,
          9,
          10,
          11,
          12,
          13,
          14,
          15,
          16,
          17,
          18,
          19,
          20,
          21,
          22,
          23,
          24,
          25,
          26,
          27,
          28,
          29,
          30,
          31,
          32,
          33,
          34,
          35,
          36,
          37,
          38,
          39,
          40,
          41,
          42,
          43,
          44,
          45,
          46,
          47,
          48,
          49,
          50,
          51,
          52,
          53,
          54,
          55,
          56,
          57,
          58,
          59,
          60,
          61,
          62,
          63,
          64,
          65,
          66,
          67,
          68,
          69,
          70,
          71,
          72,
          73,
          74,
          75,
          76,
          77,
          78,
          79,
          80,
          81,
          82,
          83,
          84,
          85,
          86,
          87,
          88,
          89,
          90,
          91,
          92,
          93,
          94,
          95,
          96,
          97,
          98,
          99
         ],
         "y": [
          0.9566108073977128,
          0.8444191875503092,
          0.18334171011962908,
          0.608089647470051,
          0.6812389337946556,
          0.367842639379405,
          0.8011488673947204,
          0.4429191697777034,
          0.2810099357785899,
          0.8086402365632324,
          0.6825277099525353,
          0.26427839284915466,
          0.039748768271550716,
          0.8670004079276084,
          0.23396643137989948,
          0.5620654766002696,
          0.02403338031186386,
          0.2243387129729496,
          0.27060159034340603,
          0.2218321570061872,
          0.8092652834038221,
          0.2186741680474139,
          0.2902639105895267,
          0.1951631702100578,
          0.5204544963593836,
          0.435934578539095,
          0.13960745030482435,
          0.6011421706053695,
          0.6986424998000117,
          0.8150009941683579,
          0.5747388981492346,
          0.2159716225635646,
          0.6132049616082921,
          0.18939630044993205,
          0.9960903671582757,
          0.7831881905393172,
          0.6569872345230608,
          0.09253724018061382,
          0.9540750043511717,
          0.8948911559514927,
          0.8899914668139246,
          0.4504009311032493,
          0.49016355457675265,
          0.8161065439165177,
          0.19535207601662496,
          0.0564254955730954,
          0.6948551429393903,
          0.5332775070089872,
          0.6569285714779126,
          0.645828609615786,
          0.47401998827529235,
          0.20952726391112453,
          0.47424192754348593,
          0.4612596177744622,
          0.5342267533908256,
          0.11314174460315607,
          0.6549678266598988,
          0.8841606646837228,
          0.9430488376015432,
          0.7986078792165076,
          0.3636545080909319,
          0.7928660284340845,
          0.7398529066920971,
          0.5279994666453754,
          0.7776078267301005,
          0.48886506124487494,
          0.17318360582676184,
          0.9259185188747907,
          0.7240864876428721,
          0.2297746347261278,
          0.7419247382429166,
          0.7240439314010384,
          0.9922555910049015,
          0.5150390145851004,
          0.2001285970908857,
          0.22602327261445576,
          0.34057694043450293,
          0.743467114325375,
          0.5170549783522641,
          0.7077575336708546,
          0.05464685732645247,
          0.6361908760100221,
          0.6100767341201884,
          0.6587634700336871,
          0.4783795013613179,
          0.11949228088174157,
          0.8180776834399803,
          0.8856318467398211,
          0.48233987309482107,
          0.18697045258522627,
          0.15310566740162657,
          0.14592239288812514,
          0.3110522636599604,
          0.06985482875904436,
          0.39092531967933797,
          0.4986772151376274,
          0.41408390976067444,
          0.5488987989904192,
          0.42723654108315146,
          0.7795830982870661
         ]
        },
        {
         "line": {
          "color": "rgba(219, 64, 82, 1.0)",
          "dash": "solid",
          "shape": "linear",
          "width": 1.3
         },
         "mode": "lines",
         "name": "e",
         "text": "",
         "type": "scatter",
         "x": [
          0,
          1,
          2,
          3,
          4,
          5,
          6,
          7,
          8,
          9,
          10,
          11,
          12,
          13,
          14,
          15,
          16,
          17,
          18,
          19,
          20,
          21,
          22,
          23,
          24,
          25,
          26,
          27,
          28,
          29,
          30,
          31,
          32,
          33,
          34,
          35,
          36,
          37,
          38,
          39,
          40,
          41,
          42,
          43,
          44,
          45,
          46,
          47,
          48,
          49,
          50,
          51,
          52,
          53,
          54,
          55,
          56,
          57,
          58,
          59,
          60,
          61,
          62,
          63,
          64,
          65,
          66,
          67,
          68,
          69,
          70,
          71,
          72,
          73,
          74,
          75,
          76,
          77,
          78,
          79,
          80,
          81,
          82,
          83,
          84,
          85,
          86,
          87,
          88,
          89,
          90,
          91,
          92,
          93,
          94,
          95,
          96,
          97,
          98,
          99
         ],
         "y": [
          0.6013637156399603,
          0.5271682788505216,
          0.5513440216419655,
          0.7110113720482127,
          0.4667017394606837,
          0.6639238658652822,
          0.3169723234560681,
          0.25128064265296957,
          0.728302979344527,
          0.9947241563841406,
          0.9167049562270316,
          0.6298628389994819,
          0.0165647968132151,
          0.8662885044313382,
          0.1187791556506772,
          0.11889860761146165,
          0.394919623658572,
          0.8273414672204222,
          0.96669111078202,
          0.5410037328827398,
          0.6926761792945402,
          0.16410612026388716,
          0.8079185931275206,
          0.7087151540307003,
          0.4939215298483909,
          0.7654003949541137,
          0.8671681989707414,
          0.4385138197907362,
          0.6749644204934976,
          0.6539276156154139,
          0.7333239002591271,
          0.7023693813398851,
          0.7519839597632265,
          0.3951476231451576,
          0.4294342564744037,
          0.2904463113532679,
          0.6365218552278359,
          0.21811523008402212,
          0.13753113887204949,
          0.321437374566665,
          0.8913107529581442,
          0.6275734226410186,
          0.06714635132266034,
          0.43874671669245946,
          0.2619242073819328,
          0.8411216034018133,
          0.09532463901003685,
          0.1869289067100144,
          0.6100949971579153,
          0.5352382961130531,
          0.2285755331697662,
          0.19442723605847445,
          0.002823657853186279,
          0.45263296935945885,
          0.5333382410880027,
          0.07837305411466644,
          0.10584270878671753,
          0.5360539260669133,
          0.2710213037672593,
          0.5757638949706747,
          0.5889980755153273,
          0.4200946458091561,
          0.7436043788209346,
          0.049512513321167684,
          0.2836180797446246,
          0.09968941176568857,
          0.5371217266947671,
          0.45257271760479356,
          0.16561220574734903,
          0.05635686071257162,
          0.8187071868069177,
          0.7702765188149665,
          0.5482628644135715,
          0.45638575578704543,
          0.9136497498592872,
          0.7175712030667944,
          0.19659640722490734,
          0.15893996849909597,
          0.1888235749058922,
          0.06069763513678328,
          0.1878771679671366,
          0.9891889952474058,
          0.3738964806317848,
          0.9668583624591595,
          0.1631586313843798,
          0.7702814971249056,
          0.18699856804117,
          0.8185558799761203,
          0.7858704625347678,
          0.36841508288287106,
          0.8461307454389135,
          0.45449519099258584,
          0.6924253065822177,
          0.5218994880625021,
          0.5860411412917591,
          0.7982945500766028,
          0.756073030726754,
          0.4017982721516776,
          0.657169143756664,
          0.3993520250228566
         ]
        },
        {
         "connectgaps": false,
         "fill": "tozeroy",
         "line": {
          "color": "green",
          "dash": "solid",
          "shape": "linear",
          "width": 0.5
         },
         "mode": "lines",
         "name": "Spread",
         "showlegend": false,
         "type": "scatter",
         "x": [
          0,
          1,
          2,
          3,
          4,
          5,
          6,
          7,
          8,
          9,
          10,
          11,
          12,
          13,
          14,
          15,
          16,
          17,
          18,
          19,
          20,
          21,
          22,
          23,
          24,
          25,
          26,
          27,
          28,
          29,
          30,
          31,
          32,
          33,
          34,
          35,
          36,
          37,
          38,
          39,
          40,
          41,
          42,
          43,
          44,
          45,
          46,
          47,
          48,
          49,
          50,
          51,
          52,
          53,
          54,
          55,
          56,
          57,
          58,
          59,
          60,
          61,
          62,
          63,
          64,
          65,
          66,
          67,
          68,
          69,
          70,
          71,
          72,
          73,
          74,
          75,
          76,
          77,
          78,
          79,
          80,
          81,
          82,
          83,
          84,
          85,
          86,
          87,
          88,
          89,
          90,
          91,
          92,
          93,
          94,
          95,
          96,
          97,
          98,
          99
         ],
         "xaxis": "x2",
         "y": [
          0.5371074067860118,
          "",
          "",
          0.3484676721843384,
          "",
          "",
          0.8773614004228903,
          "",
          "",
          "",
          0.12388857936719255,
          "",
          "",
          0.0567768859616512,
          0.6913800115232347,
          0.19293476160224798,
          0.5374279978221449,
          0.2500491501088845,
          "",
          "",
          "",
          "",
          0.4611245816868429,
          0.3332213710278791,
          "",
          0.40410093374035827,
          0.16827669840353654,
          "",
          0.9066997852333082,
          "",
          0.390985199654433,
          0.19216356708947713,
          0.002782220709317662,
          0.2243195121017023,
          0.7894107843950625,
          0.0819019847168514,
          "",
          "",
          0.09054439599913433,
          "",
          0.05196202384193216,
          "",
          "",
          "",
          0.26375653619557105,
          "",
          "",
          "",
          "",
          0.21722769696627264,
          0.2729445085489427,
          0.4964263455266511,
          0.07649004036185425,
          "",
          0.13148152153958448,
          "",
          "",
          0.4812986585276906,
          0.1205069285216368,
          0.3543452468852091,
          0.3113434784487541,
          0.08410776706056022,
          "",
          0.23896898785024523,
          "",
          0.3314714320717216,
          "",
          "",
          "",
          "",
          "",
          "",
          "",
          "",
          "",
          0.579979232144386,
          "",
          0.11912871338027875,
          "",
          "",
          0.3095764693168247,
          0.683927381250946,
          0.015840066945832842,
          0.2928251867272028,
          0.5272027766793201,
          "",
          "",
          0.36377661693553554,
          "",
          0.218197185948235,
          "",
          "",
          "",
          0.051448431592889476,
          0.5586701760400816,
          "",
          "",
          0.10377285145611403,
          0.7728165228168374,
          ""
         ],
         "yaxis": "y2"
        },
        {
         "connectgaps": false,
         "fill": "tozeroy",
         "line": {
          "color": "red",
          "dash": "solid",
          "shape": "linear",
          "width": 0.5
         },
         "mode": "lines",
         "name": "Spread",
         "showlegend": false,
         "type": "scatter",
         "x": [
          0,
          1,
          2,
          3,
          4,
          5,
          6,
          7,
          8,
          9,
          10,
          11,
          12,
          13,
          14,
          15,
          16,
          17,
          18,
          19,
          20,
          21,
          22,
          23,
          24,
          25,
          26,
          27,
          28,
          29,
          30,
          31,
          32,
          33,
          34,
          35,
          36,
          37,
          38,
          39,
          40,
          41,
          42,
          43,
          44,
          45,
          46,
          47,
          48,
          49,
          50,
          51,
          52,
          53,
          54,
          55,
          56,
          57,
          58,
          59,
          60,
          61,
          62,
          63,
          64,
          65,
          66,
          67,
          68,
          69,
          70,
          71,
          72,
          73,
          74,
          75,
          76,
          77,
          78,
          79,
          80,
          81,
          82,
          83,
          84,
          85,
          86,
          87,
          88,
          89,
          90,
          91,
          92,
          93,
          94,
          95,
          96,
          97,
          98,
          99
         ],
         "xaxis": "x2",
         "y": [
          "",
          -0.4061229954506903,
          -0.23627943159597242,
          "",
          -0.5276269585928232,
          -0.597482194591273,
          "",
          -0.011679294282240349,
          -0.21743135488053134,
          -0.19068819430698347,
          "",
          -0.0706399780094169,
          -0.7314321685300669,
          "",
          "",
          "",
          "",
          "",
          -0.6237573142288968,
          -0.011577293818668788,
          -0.30901413108400566,
          -0.6530347997671182,
          "",
          "",
          -0.21215240969230187,
          "",
          "",
          -0.15190515209849353,
          "",
          -0.41721246406531864,
          "",
          "",
          "",
          "",
          "",
          "",
          -0.2628706873806069,
          -0.2674986428627377,
          "",
          -0.0714066082787923,
          "",
          -0.37214623680975556,
          -0.12835601076540282,
          -0.6251486868915422,
          "",
          -0.11895256414283917,
          -0.7582335174361358,
          -0.22902954279927012,
          -0.3164963552298581,
          "",
          "",
          "",
          "",
          -0.04785800791629724,
          "",
          -0.465706128155401,
          -0.2564791068199139,
          "",
          "",
          "",
          "",
          "",
          -0.03815002707605242,
          "",
          -0.11154612218196025,
          "",
          -0.09206055618691389,
          -0.281396888723783,
          -0.6439390119613527,
          -0.01535991473091547,
          -0.25407955111640634,
          -0.007588052566063652,
          -0.6139889360103474,
          -0.07415596046849182,
          -0.08937374677737975,
          "",
          -0.19684659177504027,
          "",
          -0.26718759297913464,
          -0.6307888076028241,
          "",
          "",
          "",
          "",
          "",
          -0.17103217485357747,
          -0.5252952840005173,
          "",
          -0.1727612451258097,
          "",
          -0.36022682644260606,
          -0.419730469500741,
          -0.13367755769496314,
          "",
          "",
          -0.3626789225498064,
          -0.29398354114461767,
          "",
          "",
          -0.7215598365097842
         ],
         "yaxis": "y2"
        }
       ],
       "layout": {
        "hovermode": "x",
        "legend": {
         "bgcolor": "#F5F6F9",
         "font": {
          "color": "#4D5663"
         }
        },
        "paper_bgcolor": "#F5F6F9",
        "plot_bgcolor": "#F5F6F9",
        "template": {
         "data": {
          "bar": [
           {
            "error_x": {
             "color": "#2a3f5f"
            },
            "error_y": {
             "color": "#2a3f5f"
            },
            "marker": {
             "line": {
              "color": "#E5ECF6",
              "width": 0.5
             }
            },
            "type": "bar"
           }
          ],
          "barpolar": [
           {
            "marker": {
             "line": {
              "color": "#E5ECF6",
              "width": 0.5
             }
            },
            "type": "barpolar"
           }
          ],
          "carpet": [
           {
            "aaxis": {
             "endlinecolor": "#2a3f5f",
             "gridcolor": "white",
             "linecolor": "white",
             "minorgridcolor": "white",
             "startlinecolor": "#2a3f5f"
            },
            "baxis": {
             "endlinecolor": "#2a3f5f",
             "gridcolor": "white",
             "linecolor": "white",
             "minorgridcolor": "white",
             "startlinecolor": "#2a3f5f"
            },
            "type": "carpet"
           }
          ],
          "choropleth": [
           {
            "colorbar": {
             "outlinewidth": 0,
             "ticks": ""
            },
            "type": "choropleth"
           }
          ],
          "contour": [
           {
            "colorbar": {
             "outlinewidth": 0,
             "ticks": ""
            },
            "colorscale": [
             [
              0,
              "#0d0887"
             ],
             [
              0.1111111111111111,
              "#46039f"
             ],
             [
              0.2222222222222222,
              "#7201a8"
             ],
             [
              0.3333333333333333,
              "#9c179e"
             ],
             [
              0.4444444444444444,
              "#bd3786"
             ],
             [
              0.5555555555555556,
              "#d8576b"
             ],
             [
              0.6666666666666666,
              "#ed7953"
             ],
             [
              0.7777777777777778,
              "#fb9f3a"
             ],
             [
              0.8888888888888888,
              "#fdca26"
             ],
             [
              1,
              "#f0f921"
             ]
            ],
            "type": "contour"
           }
          ],
          "contourcarpet": [
           {
            "colorbar": {
             "outlinewidth": 0,
             "ticks": ""
            },
            "type": "contourcarpet"
           }
          ],
          "heatmap": [
           {
            "colorbar": {
             "outlinewidth": 0,
             "ticks": ""
            },
            "colorscale": [
             [
              0,
              "#0d0887"
             ],
             [
              0.1111111111111111,
              "#46039f"
             ],
             [
              0.2222222222222222,
              "#7201a8"
             ],
             [
              0.3333333333333333,
              "#9c179e"
             ],
             [
              0.4444444444444444,
              "#bd3786"
             ],
             [
              0.5555555555555556,
              "#d8576b"
             ],
             [
              0.6666666666666666,
              "#ed7953"
             ],
             [
              0.7777777777777778,
              "#fb9f3a"
             ],
             [
              0.8888888888888888,
              "#fdca26"
             ],
             [
              1,
              "#f0f921"
             ]
            ],
            "type": "heatmap"
           }
          ],
          "heatmapgl": [
           {
            "colorbar": {
             "outlinewidth": 0,
             "ticks": ""
            },
            "colorscale": [
             [
              0,
              "#0d0887"
             ],
             [
              0.1111111111111111,
              "#46039f"
             ],
             [
              0.2222222222222222,
              "#7201a8"
             ],
             [
              0.3333333333333333,
              "#9c179e"
             ],
             [
              0.4444444444444444,
              "#bd3786"
             ],
             [
              0.5555555555555556,
              "#d8576b"
             ],
             [
              0.6666666666666666,
              "#ed7953"
             ],
             [
              0.7777777777777778,
              "#fb9f3a"
             ],
             [
              0.8888888888888888,
              "#fdca26"
             ],
             [
              1,
              "#f0f921"
             ]
            ],
            "type": "heatmapgl"
           }
          ],
          "histogram": [
           {
            "marker": {
             "colorbar": {
              "outlinewidth": 0,
              "ticks": ""
             }
            },
            "type": "histogram"
           }
          ],
          "histogram2d": [
           {
            "colorbar": {
             "outlinewidth": 0,
             "ticks": ""
            },
            "colorscale": [
             [
              0,
              "#0d0887"
             ],
             [
              0.1111111111111111,
              "#46039f"
             ],
             [
              0.2222222222222222,
              "#7201a8"
             ],
             [
              0.3333333333333333,
              "#9c179e"
             ],
             [
              0.4444444444444444,
              "#bd3786"
             ],
             [
              0.5555555555555556,
              "#d8576b"
             ],
             [
              0.6666666666666666,
              "#ed7953"
             ],
             [
              0.7777777777777778,
              "#fb9f3a"
             ],
             [
              0.8888888888888888,
              "#fdca26"
             ],
             [
              1,
              "#f0f921"
             ]
            ],
            "type": "histogram2d"
           }
          ],
          "histogram2dcontour": [
           {
            "colorbar": {
             "outlinewidth": 0,
             "ticks": ""
            },
            "colorscale": [
             [
              0,
              "#0d0887"
             ],
             [
              0.1111111111111111,
              "#46039f"
             ],
             [
              0.2222222222222222,
              "#7201a8"
             ],
             [
              0.3333333333333333,
              "#9c179e"
             ],
             [
              0.4444444444444444,
              "#bd3786"
             ],
             [
              0.5555555555555556,
              "#d8576b"
             ],
             [
              0.6666666666666666,
              "#ed7953"
             ],
             [
              0.7777777777777778,
              "#fb9f3a"
             ],
             [
              0.8888888888888888,
              "#fdca26"
             ],
             [
              1,
              "#f0f921"
             ]
            ],
            "type": "histogram2dcontour"
           }
          ],
          "mesh3d": [
           {
            "colorbar": {
             "outlinewidth": 0,
             "ticks": ""
            },
            "type": "mesh3d"
           }
          ],
          "parcoords": [
           {
            "line": {
             "colorbar": {
              "outlinewidth": 0,
              "ticks": ""
             }
            },
            "type": "parcoords"
           }
          ],
          "pie": [
           {
            "automargin": true,
            "type": "pie"
           }
          ],
          "scatter": [
           {
            "marker": {
             "colorbar": {
              "outlinewidth": 0,
              "ticks": ""
             }
            },
            "type": "scatter"
           }
          ],
          "scatter3d": [
           {
            "line": {
             "colorbar": {
              "outlinewidth": 0,
              "ticks": ""
             }
            },
            "marker": {
             "colorbar": {
              "outlinewidth": 0,
              "ticks": ""
             }
            },
            "type": "scatter3d"
           }
          ],
          "scattercarpet": [
           {
            "marker": {
             "colorbar": {
              "outlinewidth": 0,
              "ticks": ""
             }
            },
            "type": "scattercarpet"
           }
          ],
          "scattergeo": [
           {
            "marker": {
             "colorbar": {
              "outlinewidth": 0,
              "ticks": ""
             }
            },
            "type": "scattergeo"
           }
          ],
          "scattergl": [
           {
            "marker": {
             "colorbar": {
              "outlinewidth": 0,
              "ticks": ""
             }
            },
            "type": "scattergl"
           }
          ],
          "scattermapbox": [
           {
            "marker": {
             "colorbar": {
              "outlinewidth": 0,
              "ticks": ""
             }
            },
            "type": "scattermapbox"
           }
          ],
          "scatterpolar": [
           {
            "marker": {
             "colorbar": {
              "outlinewidth": 0,
              "ticks": ""
             }
            },
            "type": "scatterpolar"
           }
          ],
          "scatterpolargl": [
           {
            "marker": {
             "colorbar": {
              "outlinewidth": 0,
              "ticks": ""
             }
            },
            "type": "scatterpolargl"
           }
          ],
          "scatterternary": [
           {
            "marker": {
             "colorbar": {
              "outlinewidth": 0,
              "ticks": ""
             }
            },
            "type": "scatterternary"
           }
          ],
          "surface": [
           {
            "colorbar": {
             "outlinewidth": 0,
             "ticks": ""
            },
            "colorscale": [
             [
              0,
              "#0d0887"
             ],
             [
              0.1111111111111111,
              "#46039f"
             ],
             [
              0.2222222222222222,
              "#7201a8"
             ],
             [
              0.3333333333333333,
              "#9c179e"
             ],
             [
              0.4444444444444444,
              "#bd3786"
             ],
             [
              0.5555555555555556,
              "#d8576b"
             ],
             [
              0.6666666666666666,
              "#ed7953"
             ],
             [
              0.7777777777777778,
              "#fb9f3a"
             ],
             [
              0.8888888888888888,
              "#fdca26"
             ],
             [
              1,
              "#f0f921"
             ]
            ],
            "type": "surface"
           }
          ],
          "table": [
           {
            "cells": {
             "fill": {
              "color": "#EBF0F8"
             },
             "line": {
              "color": "white"
             }
            },
            "header": {
             "fill": {
              "color": "#C8D4E3"
             },
             "line": {
              "color": "white"
             }
            },
            "type": "table"
           }
          ]
         },
         "layout": {
          "annotationdefaults": {
           "arrowcolor": "#2a3f5f",
           "arrowhead": 0,
           "arrowwidth": 1
          },
          "coloraxis": {
           "colorbar": {
            "outlinewidth": 0,
            "ticks": ""
           }
          },
          "colorscale": {
           "diverging": [
            [
             0,
             "#8e0152"
            ],
            [
             0.1,
             "#c51b7d"
            ],
            [
             0.2,
             "#de77ae"
            ],
            [
             0.3,
             "#f1b6da"
            ],
            [
             0.4,
             "#fde0ef"
            ],
            [
             0.5,
             "#f7f7f7"
            ],
            [
             0.6,
             "#e6f5d0"
            ],
            [
             0.7,
             "#b8e186"
            ],
            [
             0.8,
             "#7fbc41"
            ],
            [
             0.9,
             "#4d9221"
            ],
            [
             1,
             "#276419"
            ]
           ],
           "sequential": [
            [
             0,
             "#0d0887"
            ],
            [
             0.1111111111111111,
             "#46039f"
            ],
            [
             0.2222222222222222,
             "#7201a8"
            ],
            [
             0.3333333333333333,
             "#9c179e"
            ],
            [
             0.4444444444444444,
             "#bd3786"
            ],
            [
             0.5555555555555556,
             "#d8576b"
            ],
            [
             0.6666666666666666,
             "#ed7953"
            ],
            [
             0.7777777777777778,
             "#fb9f3a"
            ],
            [
             0.8888888888888888,
             "#fdca26"
            ],
            [
             1,
             "#f0f921"
            ]
           ],
           "sequentialminus": [
            [
             0,
             "#0d0887"
            ],
            [
             0.1111111111111111,
             "#46039f"
            ],
            [
             0.2222222222222222,
             "#7201a8"
            ],
            [
             0.3333333333333333,
             "#9c179e"
            ],
            [
             0.4444444444444444,
             "#bd3786"
            ],
            [
             0.5555555555555556,
             "#d8576b"
            ],
            [
             0.6666666666666666,
             "#ed7953"
            ],
            [
             0.7777777777777778,
             "#fb9f3a"
            ],
            [
             0.8888888888888888,
             "#fdca26"
            ],
            [
             1,
             "#f0f921"
            ]
           ]
          },
          "colorway": [
           "#636efa",
           "#EF553B",
           "#00cc96",
           "#ab63fa",
           "#FFA15A",
           "#19d3f3",
           "#FF6692",
           "#B6E880",
           "#FF97FF",
           "#FECB52"
          ],
          "font": {
           "color": "#2a3f5f"
          },
          "geo": {
           "bgcolor": "white",
           "lakecolor": "white",
           "landcolor": "#E5ECF6",
           "showlakes": true,
           "showland": true,
           "subunitcolor": "white"
          },
          "hoverlabel": {
           "align": "left"
          },
          "hovermode": "closest",
          "mapbox": {
           "style": "light"
          },
          "paper_bgcolor": "white",
          "plot_bgcolor": "#E5ECF6",
          "polar": {
           "angularaxis": {
            "gridcolor": "white",
            "linecolor": "white",
            "ticks": ""
           },
           "bgcolor": "#E5ECF6",
           "radialaxis": {
            "gridcolor": "white",
            "linecolor": "white",
            "ticks": ""
           }
          },
          "scene": {
           "xaxis": {
            "backgroundcolor": "#E5ECF6",
            "gridcolor": "white",
            "gridwidth": 2,
            "linecolor": "white",
            "showbackground": true,
            "ticks": "",
            "zerolinecolor": "white"
           },
           "yaxis": {
            "backgroundcolor": "#E5ECF6",
            "gridcolor": "white",
            "gridwidth": 2,
            "linecolor": "white",
            "showbackground": true,
            "ticks": "",
            "zerolinecolor": "white"
           },
           "zaxis": {
            "backgroundcolor": "#E5ECF6",
            "gridcolor": "white",
            "gridwidth": 2,
            "linecolor": "white",
            "showbackground": true,
            "ticks": "",
            "zerolinecolor": "white"
           }
          },
          "shapedefaults": {
           "line": {
            "color": "#2a3f5f"
           }
          },
          "ternary": {
           "aaxis": {
            "gridcolor": "white",
            "linecolor": "white",
            "ticks": ""
           },
           "baxis": {
            "gridcolor": "white",
            "linecolor": "white",
            "ticks": ""
           },
           "bgcolor": "#E5ECF6",
           "caxis": {
            "gridcolor": "white",
            "linecolor": "white",
            "ticks": ""
           }
          },
          "title": {
           "x": 0.05
          },
          "xaxis": {
           "automargin": true,
           "gridcolor": "white",
           "linecolor": "white",
           "ticks": "",
           "title": {
            "standoff": 15
           },
           "zerolinecolor": "white",
           "zerolinewidth": 2
          },
          "yaxis": {
           "automargin": true,
           "gridcolor": "white",
           "linecolor": "white",
           "ticks": "",
           "title": {
            "standoff": 15
           },
           "zerolinecolor": "white",
           "zerolinewidth": 2
          }
         }
        },
        "title": {
         "font": {
          "color": "#4D5663"
         }
        },
        "xaxis": {
         "gridcolor": "#E1E5ED",
         "showgrid": true,
         "tickfont": {
          "color": "#4D5663"
         },
         "title": {
          "font": {
           "color": "#4D5663"
          },
          "text": ""
         },
         "zerolinecolor": "#E1E5ED"
        },
        "xaxis2": {
         "anchor": "y2",
         "gridcolor": "#E1E5ED",
         "showgrid": true,
         "showticklabels": false,
         "tickfont": {
          "color": "#4D5663"
         },
         "title": {
          "font": {
           "color": "#4D5663"
          },
          "text": ""
         },
         "zerolinecolor": "#E1E5ED"
        },
        "yaxis": {
         "domain": [
          0.3,
          1
         ],
         "gridcolor": "#E1E5ED",
         "showgrid": true,
         "tickfont": {
          "color": "#4D5663"
         },
         "title": {
          "font": {
           "color": "#4D5663"
          },
          "text": ""
         },
         "zerolinecolor": "#E1E5ED"
        },
        "yaxis2": {
         "domain": [
          0,
          0.25
         ],
         "gridcolor": "#E1E5ED",
         "showgrid": true,
         "tickfont": {
          "color": "#4D5663"
         },
         "title": {
          "font": {
           "color": "#4D5663"
          },
          "text": "Spread"
         },
         "zerolinecolor": "#E1E5ED"
        }
       }
      },
      "text/html": [
       "<div>\n",
       "        \n",
       "        \n",
       "            <div id=\"04d11217-82eb-4ce7-90cc-fbc9ef4bdbf3\" class=\"plotly-graph-div\" style=\"height:525px; width:100%;\"></div>\n",
       "            <script type=\"text/javascript\">\n",
       "                require([\"plotly\"], function(Plotly) {\n",
       "                    window.PLOTLYENV=window.PLOTLYENV || {};\n",
       "                    window.PLOTLYENV.BASE_URL='https://plot.ly';\n",
       "                    \n",
       "                if (document.getElementById(\"04d11217-82eb-4ce7-90cc-fbc9ef4bdbf3\")) {\n",
       "                    Plotly.newPlot(\n",
       "                        '04d11217-82eb-4ce7-90cc-fbc9ef4bdbf3',\n",
       "                        [{\"line\": {\"color\": \"rgba(255, 153, 51, 1.0)\", \"dash\": \"solid\", \"shape\": \"linear\", \"width\": 1.3}, \"mode\": \"lines\", \"name\": \"a\", \"text\": \"\", \"type\": \"scatter\", \"x\": [0, 1, 2, 3, 4, 5, 6, 7, 8, 9, 10, 11, 12, 13, 14, 15, 16, 17, 18, 19, 20, 21, 22, 23, 24, 25, 26, 27, 28, 29, 30, 31, 32, 33, 34, 35, 36, 37, 38, 39, 40, 41, 42, 43, 44, 45, 46, 47, 48, 49, 50, 51, 52, 53, 54, 55, 56, 57, 58, 59, 60, 61, 62, 63, 64, 65, 66, 67, 68, 69, 70, 71, 72, 73, 74, 75, 76, 77, 78, 79, 80, 81, 82, 83, 84, 85, 86, 87, 88, 89, 90, 91, 92, 93, 94, 95, 96, 97, 98, 99], \"y\": [0.5455922216802196, 0.43472500449870477, 0.613642013686985, 0.9211448307679699, 0.2588938404677139, 0.18935557603674213, 0.9745657493445745, 0.9377281421796986, 0.22123585838170656, 0.572233811834976, 0.18054447650951355, 0.666350405851922, 0.23953597422162398, 0.30093904689715467, 0.9847621169618693, 0.24802386351476724, 0.9308873833185077, 0.5840465242216989, 0.3071437567529606, 0.12354577497377328, 0.07938597912175616, 0.17263742068543397, 0.4962355048927183, 0.8947578768508239, 0.7235331078724248, 0.6217985486529243, 0.3952021176214062, 0.05373830066802243, 0.9611244565709495, 0.17456623430209883, 0.7568444007001681, 0.1934428035899871, 0.7627246256391255, 0.7943996030326728, 0.8443509164901559, 0.11312102824454573, 0.4090022894174953, 0.318756421775908, 0.5312350498129236, 0.14822024697091385, 0.9072840499197423, 0.5060896061779371, 0.07246298772731308, 0.10180596440846501, 0.8009943335091578, 0.39274176246891745, 0.1926532068538217, 0.21244924134944043, 0.2743173978517537, 0.5714718805753365, 0.773544437204778, 0.9841771752342547, 0.43039526895454105, 0.7151577476514861, 0.5409781796556354, 0.36278440920163013, 0.6296835123206291, 0.6187736514808505, 0.5163059077341391, 0.784028482171324, 0.5556983121221952, 0.31550494191037604, 0.13855210157086983, 0.5524249187209392, 0.016424038801321594, 0.7886351012793188, 0.5646911014806594, 0.5892082844262537, 0.2612580471499718, 0.352065021568685, 0.020638606510735014, 0.960064787997212, 0.18703023173673383, 0.39734893639452695, 0.8977084479850741, 0.6813816976740278, 0.7972228365574756, 0.7153000764825456, 0.653455964981695, 0.01518918044487616, 0.4067779299332781, 0.8676292823290721, 0.38570407959340847, 0.9397726852152095, 0.9917770609932849, 0.3567897551362671, 0.34294040178204543, 0.8565073714002363, 0.13279344343600996, 0.36779623411195317, 0.08496244903920802, 0.40750341718954264, 0.2995369189488719, 0.3055325623431403, 0.8234513700236281, 0.04053935232111938, 0.38295587514489204, 0.8717039984904328, 0.8089398107303143, 0.1657573080052983]}, {\"line\": {\"color\": \"rgba(55, 128, 191, 1.0)\", \"dash\": \"solid\", \"shape\": \"linear\", \"width\": 1.3}, \"mode\": \"lines\", \"name\": \"b\", \"text\": \"\", \"type\": \"scatter\", \"x\": [0, 1, 2, 3, 4, 5, 6, 7, 8, 9, 10, 11, 12, 13, 14, 15, 16, 17, 18, 19, 20, 21, 22, 23, 24, 25, 26, 27, 28, 29, 30, 31, 32, 33, 34, 35, 36, 37, 38, 39, 40, 41, 42, 43, 44, 45, 46, 47, 48, 49, 50, 51, 52, 53, 54, 55, 56, 57, 58, 59, 60, 61, 62, 63, 64, 65, 66, 67, 68, 69, 70, 71, 72, 73, 74, 75, 76, 77, 78, 79, 80, 81, 82, 83, 84, 85, 86, 87, 88, 89, 90, 91, 92, 93, 94, 95, 96, 97, 98, 99], \"y\": [0.008484814894207826, 0.8408479999493951, 0.8499214452829574, 0.5726771585836316, 0.7865207990605371, 0.7868377706280152, 0.09720434892168417, 0.9494074364619389, 0.4386672132622379, 0.7629220061419595, 0.056655897142321, 0.7369903838613389, 0.9709681427516909, 0.24416216093550347, 0.29338210543863463, 0.055089101912519256, 0.39345938549636283, 0.3339973741128144, 0.9309010709818574, 0.13512306879244207, 0.3884001102057618, 0.8256722204525522, 0.03511092320587539, 0.5615365058229448, 0.9356855175647266, 0.217697614912566, 0.22692541921786968, 0.20564345276651597, 0.054424671337641284, 0.5917786983674175, 0.3658592010457351, 0.0012792365005099837, 0.7599424049298078, 0.5700800909309705, 0.05494013209509341, 0.031219043527694335, 0.6718729767981022, 0.5862550646386457, 0.44069065381378925, 0.21962685524970615, 0.8553220260778102, 0.8782358429876926, 0.2008189984927159, 0.7269546513000072, 0.5372377973135868, 0.5116943266117566, 0.9508867242899575, 0.44147878414871056, 0.5908137530816118, 0.35424418360906385, 0.5005999286558352, 0.48775082970760364, 0.3539052285926868, 0.7630157555677833, 0.40949665811605096, 0.8284905373570312, 0.8861626191405431, 0.1374749929531599, 0.3957989792125023, 0.42968323528611496, 0.24435483367344113, 0.2313971748498158, 0.17670212864692225, 0.313455930870694, 0.12797016098328184, 0.4571636692075972, 0.6567516576675733, 0.8706051731500367, 0.9051970591113245, 0.3674249362996005, 0.27471815762714136, 0.9676528405632756, 0.8010191677470813, 0.4715048968630188, 0.9870821947624538, 0.10140246552964183, 0.9940694283325159, 0.5961713631022668, 0.9206435579608296, 0.6459779880477002, 0.0972014606164534, 0.18370190107812612, 0.3698640126475756, 0.6469474984880067, 0.46457428431396475, 0.5278219299898446, 0.8682356857825627, 0.4927307544647007, 0.30555468856181967, 0.14959904816371816, 0.4451892754818141, 0.8272338866902836, 0.43321447664383506, 0.2540841307502508, 0.2647811939835465, 0.40321827487092576, 0.6769394162895097, 0.7679311470343188, 0.036123287913476854, 0.8873171445150825]}, {\"line\": {\"color\": \"rgba(50, 171, 96, 1.0)\", \"dash\": \"solid\", \"shape\": \"linear\", \"width\": 1.3}, \"mode\": \"lines\", \"name\": \"c\", \"text\": \"\", \"type\": \"scatter\", \"x\": [0, 1, 2, 3, 4, 5, 6, 7, 8, 9, 10, 11, 12, 13, 14, 15, 16, 17, 18, 19, 20, 21, 22, 23, 24, 25, 26, 27, 28, 29, 30, 31, 32, 33, 34, 35, 36, 37, 38, 39, 40, 41, 42, 43, 44, 45, 46, 47, 48, 49, 50, 51, 52, 53, 54, 55, 56, 57, 58, 59, 60, 61, 62, 63, 64, 65, 66, 67, 68, 69, 70, 71, 72, 73, 74, 75, 76, 77, 78, 79, 80, 81, 82, 83, 84, 85, 86, 87, 88, 89, 90, 91, 92, 93, 94, 95, 96, 97, 98, 99], \"y\": [0.04613811798592782, 0.34607045731146424, 0.17028813074289184, 0.2864007792724781, 0.48877205467824625, 0.956309208939353, 0.3629837434671247, 0.8638492135946637, 0.7437077970900959, 0.4469424776981441, 0.18229917948169394, 0.5285815086388055, 0.34506684381582164, 0.09333922524644733, 0.3285811071121212, 0.471248518708244, 0.7571499910510242, 0.5781068134212827, 0.6587484482528596, 0.6844868063330476, 0.48758576159643996, 0.47653810629404636, 0.8910728234484395, 0.04210674855959318, 0.6530706550124397, 0.21547349841214203, 0.2642087947305727, 0.2782390836896538, 0.7443726147927304, 0.2204682241935758, 0.3999825077003105, 0.6997236683061265, 0.16084021945523408, 0.5631654082682856, 0.9381249546544231, 0.13859362968919697, 0.5128851208131295, 0.4482643268389004, 0.48360284976090473, 0.9881471283548107, 0.11167270895833392, 0.012938588047189281, 0.45139911102761654, 0.28269195158225, 0.23007343539170066, 0.6524531230420789, 0.2024651211752877, 0.5207293317128894, 0.7176684444789336, 0.810884480364629, 0.7114618836611942, 0.7910756616594143, 0.13336043836213696, 0.6509202548866944, 0.33855831141540627, 0.5944437961335536, 0.9636764914481345, 0.7558556625527437, 0.9318494784313223, 0.7102057730458753, 0.9052148422448995, 0.8980378688418761, 0.27076650817640624, 0.7900287856073639, 0.46046096553207383, 0.20410602224683072, 0.7734434030254108, 0.5602247073818434, 0.26240247202561595, 0.688411320297325, 0.9745962232002224, 0.383493356446618, 0.23178364502854687, 0.37464216951685014, 0.6625195527337091, 0.9735951731358191, 0.0314450269096751, 0.2713264251966431, 0.31066907724467363, 0.32479756738015864, 0.9341224217790378, 0.7144664058124355, 0.49495085171140896, 0.6777524719951455, 0.43063395060179477, 0.31828524251255264, 0.7313674300702365, 0.1895057031751206, 0.6628399090039835, 0.7291762855736365, 0.9560739317752358, 0.11542907755383736, 0.5751579027609738, 0.3675439222311988, 0.399767266530899, 0.8716114714963399, 0.9307084479236808, 0.6014087233828076, 0.6213969982422567, 0.13314755008335377]}, {\"line\": {\"color\": \"rgba(128, 0, 128, 1.0)\", \"dash\": \"solid\", \"shape\": \"linear\", \"width\": 1.3}, \"mode\": \"lines\", \"name\": \"d\", \"text\": \"\", \"type\": \"scatter\", \"x\": [0, 1, 2, 3, 4, 5, 6, 7, 8, 9, 10, 11, 12, 13, 14, 15, 16, 17, 18, 19, 20, 21, 22, 23, 24, 25, 26, 27, 28, 29, 30, 31, 32, 33, 34, 35, 36, 37, 38, 39, 40, 41, 42, 43, 44, 45, 46, 47, 48, 49, 50, 51, 52, 53, 54, 55, 56, 57, 58, 59, 60, 61, 62, 63, 64, 65, 66, 67, 68, 69, 70, 71, 72, 73, 74, 75, 76, 77, 78, 79, 80, 81, 82, 83, 84, 85, 86, 87, 88, 89, 90, 91, 92, 93, 94, 95, 96, 97, 98, 99], \"y\": [0.9566108073977128, 0.8444191875503092, 0.18334171011962908, 0.608089647470051, 0.6812389337946556, 0.367842639379405, 0.8011488673947204, 0.4429191697777034, 0.2810099357785899, 0.8086402365632324, 0.6825277099525353, 0.26427839284915466, 0.039748768271550716, 0.8670004079276084, 0.23396643137989948, 0.5620654766002696, 0.02403338031186386, 0.2243387129729496, 0.27060159034340603, 0.2218321570061872, 0.8092652834038221, 0.2186741680474139, 0.2902639105895267, 0.1951631702100578, 0.5204544963593836, 0.435934578539095, 0.13960745030482435, 0.6011421706053695, 0.6986424998000117, 0.8150009941683579, 0.5747388981492346, 0.2159716225635646, 0.6132049616082921, 0.18939630044993205, 0.9960903671582757, 0.7831881905393172, 0.6569872345230608, 0.09253724018061382, 0.9540750043511717, 0.8948911559514927, 0.8899914668139246, 0.4504009311032493, 0.49016355457675265, 0.8161065439165177, 0.19535207601662496, 0.0564254955730954, 0.6948551429393903, 0.5332775070089872, 0.6569285714779126, 0.645828609615786, 0.47401998827529235, 0.20952726391112453, 0.47424192754348593, 0.4612596177744622, 0.5342267533908256, 0.11314174460315607, 0.6549678266598988, 0.8841606646837228, 0.9430488376015432, 0.7986078792165076, 0.3636545080909319, 0.7928660284340845, 0.7398529066920971, 0.5279994666453754, 0.7776078267301005, 0.48886506124487494, 0.17318360582676184, 0.9259185188747907, 0.7240864876428721, 0.2297746347261278, 0.7419247382429166, 0.7240439314010384, 0.9922555910049015, 0.5150390145851004, 0.2001285970908857, 0.22602327261445576, 0.34057694043450293, 0.743467114325375, 0.5170549783522641, 0.7077575336708546, 0.05464685732645247, 0.6361908760100221, 0.6100767341201884, 0.6587634700336871, 0.4783795013613179, 0.11949228088174157, 0.8180776834399803, 0.8856318467398211, 0.48233987309482107, 0.18697045258522627, 0.15310566740162657, 0.14592239288812514, 0.3110522636599604, 0.06985482875904436, 0.39092531967933797, 0.4986772151376274, 0.41408390976067444, 0.5488987989904192, 0.42723654108315146, 0.7795830982870661]}, {\"line\": {\"color\": \"rgba(219, 64, 82, 1.0)\", \"dash\": \"solid\", \"shape\": \"linear\", \"width\": 1.3}, \"mode\": \"lines\", \"name\": \"e\", \"text\": \"\", \"type\": \"scatter\", \"x\": [0, 1, 2, 3, 4, 5, 6, 7, 8, 9, 10, 11, 12, 13, 14, 15, 16, 17, 18, 19, 20, 21, 22, 23, 24, 25, 26, 27, 28, 29, 30, 31, 32, 33, 34, 35, 36, 37, 38, 39, 40, 41, 42, 43, 44, 45, 46, 47, 48, 49, 50, 51, 52, 53, 54, 55, 56, 57, 58, 59, 60, 61, 62, 63, 64, 65, 66, 67, 68, 69, 70, 71, 72, 73, 74, 75, 76, 77, 78, 79, 80, 81, 82, 83, 84, 85, 86, 87, 88, 89, 90, 91, 92, 93, 94, 95, 96, 97, 98, 99], \"y\": [0.6013637156399603, 0.5271682788505216, 0.5513440216419655, 0.7110113720482127, 0.4667017394606837, 0.6639238658652822, 0.3169723234560681, 0.25128064265296957, 0.728302979344527, 0.9947241563841406, 0.9167049562270316, 0.6298628389994819, 0.0165647968132151, 0.8662885044313382, 0.1187791556506772, 0.11889860761146165, 0.394919623658572, 0.8273414672204222, 0.96669111078202, 0.5410037328827398, 0.6926761792945402, 0.16410612026388716, 0.8079185931275206, 0.7087151540307003, 0.4939215298483909, 0.7654003949541137, 0.8671681989707414, 0.4385138197907362, 0.6749644204934976, 0.6539276156154139, 0.7333239002591271, 0.7023693813398851, 0.7519839597632265, 0.3951476231451576, 0.4294342564744037, 0.2904463113532679, 0.6365218552278359, 0.21811523008402212, 0.13753113887204949, 0.321437374566665, 0.8913107529581442, 0.6275734226410186, 0.06714635132266034, 0.43874671669245946, 0.2619242073819328, 0.8411216034018133, 0.09532463901003685, 0.1869289067100144, 0.6100949971579153, 0.5352382961130531, 0.2285755331697662, 0.19442723605847445, 0.002823657853186279, 0.45263296935945885, 0.5333382410880027, 0.07837305411466644, 0.10584270878671753, 0.5360539260669133, 0.2710213037672593, 0.5757638949706747, 0.5889980755153273, 0.4200946458091561, 0.7436043788209346, 0.049512513321167684, 0.2836180797446246, 0.09968941176568857, 0.5371217266947671, 0.45257271760479356, 0.16561220574734903, 0.05635686071257162, 0.8187071868069177, 0.7702765188149665, 0.5482628644135715, 0.45638575578704543, 0.9136497498592872, 0.7175712030667944, 0.19659640722490734, 0.15893996849909597, 0.1888235749058922, 0.06069763513678328, 0.1878771679671366, 0.9891889952474058, 0.3738964806317848, 0.9668583624591595, 0.1631586313843798, 0.7702814971249056, 0.18699856804117, 0.8185558799761203, 0.7858704625347678, 0.36841508288287106, 0.8461307454389135, 0.45449519099258584, 0.6924253065822177, 0.5218994880625021, 0.5860411412917591, 0.7982945500766028, 0.756073030726754, 0.4017982721516776, 0.657169143756664, 0.3993520250228566]}, {\"connectgaps\": false, \"fill\": \"tozeroy\", \"line\": {\"color\": \"green\", \"dash\": \"solid\", \"shape\": \"linear\", \"width\": 0.5}, \"mode\": \"lines\", \"name\": \"Spread\", \"showlegend\": false, \"type\": \"scatter\", \"x\": [0, 1, 2, 3, 4, 5, 6, 7, 8, 9, 10, 11, 12, 13, 14, 15, 16, 17, 18, 19, 20, 21, 22, 23, 24, 25, 26, 27, 28, 29, 30, 31, 32, 33, 34, 35, 36, 37, 38, 39, 40, 41, 42, 43, 44, 45, 46, 47, 48, 49, 50, 51, 52, 53, 54, 55, 56, 57, 58, 59, 60, 61, 62, 63, 64, 65, 66, 67, 68, 69, 70, 71, 72, 73, 74, 75, 76, 77, 78, 79, 80, 81, 82, 83, 84, 85, 86, 87, 88, 89, 90, 91, 92, 93, 94, 95, 96, 97, 98, 99], \"xaxis\": \"x2\", \"y\": [0.5371074067860118, \"\", \"\", 0.3484676721843384, \"\", \"\", 0.8773614004228903, \"\", \"\", \"\", 0.12388857936719255, \"\", \"\", 0.0567768859616512, 0.6913800115232347, 0.19293476160224798, 0.5374279978221449, 0.2500491501088845, \"\", \"\", \"\", \"\", 0.4611245816868429, 0.3332213710278791, \"\", 0.40410093374035827, 0.16827669840353654, \"\", 0.9066997852333082, \"\", 0.390985199654433, 0.19216356708947713, 0.002782220709317662, 0.2243195121017023, 0.7894107843950625, 0.0819019847168514, \"\", \"\", 0.09054439599913433, \"\", 0.05196202384193216, \"\", \"\", \"\", 0.26375653619557105, \"\", \"\", \"\", \"\", 0.21722769696627264, 0.2729445085489427, 0.4964263455266511, 0.07649004036185425, \"\", 0.13148152153958448, \"\", \"\", 0.4812986585276906, 0.1205069285216368, 0.3543452468852091, 0.3113434784487541, 0.08410776706056022, \"\", 0.23896898785024523, \"\", 0.3314714320717216, \"\", \"\", \"\", \"\", \"\", \"\", \"\", \"\", \"\", 0.579979232144386, \"\", 0.11912871338027875, \"\", \"\", 0.3095764693168247, 0.683927381250946, 0.015840066945832842, 0.2928251867272028, 0.5272027766793201, \"\", \"\", 0.36377661693553554, \"\", 0.218197185948235, \"\", \"\", \"\", 0.051448431592889476, 0.5586701760400816, \"\", \"\", 0.10377285145611403, 0.7728165228168374, \"\"], \"yaxis\": \"y2\"}, {\"connectgaps\": false, \"fill\": \"tozeroy\", \"line\": {\"color\": \"red\", \"dash\": \"solid\", \"shape\": \"linear\", \"width\": 0.5}, \"mode\": \"lines\", \"name\": \"Spread\", \"showlegend\": false, \"type\": \"scatter\", \"x\": [0, 1, 2, 3, 4, 5, 6, 7, 8, 9, 10, 11, 12, 13, 14, 15, 16, 17, 18, 19, 20, 21, 22, 23, 24, 25, 26, 27, 28, 29, 30, 31, 32, 33, 34, 35, 36, 37, 38, 39, 40, 41, 42, 43, 44, 45, 46, 47, 48, 49, 50, 51, 52, 53, 54, 55, 56, 57, 58, 59, 60, 61, 62, 63, 64, 65, 66, 67, 68, 69, 70, 71, 72, 73, 74, 75, 76, 77, 78, 79, 80, 81, 82, 83, 84, 85, 86, 87, 88, 89, 90, 91, 92, 93, 94, 95, 96, 97, 98, 99], \"xaxis\": \"x2\", \"y\": [\"\", -0.4061229954506903, -0.23627943159597242, \"\", -0.5276269585928232, -0.597482194591273, \"\", -0.011679294282240349, -0.21743135488053134, -0.19068819430698347, \"\", -0.0706399780094169, -0.7314321685300669, \"\", \"\", \"\", \"\", \"\", -0.6237573142288968, -0.011577293818668788, -0.30901413108400566, -0.6530347997671182, \"\", \"\", -0.21215240969230187, \"\", \"\", -0.15190515209849353, \"\", -0.41721246406531864, \"\", \"\", \"\", \"\", \"\", \"\", -0.2628706873806069, -0.2674986428627377, \"\", -0.0714066082787923, \"\", -0.37214623680975556, -0.12835601076540282, -0.6251486868915422, \"\", -0.11895256414283917, -0.7582335174361358, -0.22902954279927012, -0.3164963552298581, \"\", \"\", \"\", \"\", -0.04785800791629724, \"\", -0.465706128155401, -0.2564791068199139, \"\", \"\", \"\", \"\", \"\", -0.03815002707605242, \"\", -0.11154612218196025, \"\", -0.09206055618691389, -0.281396888723783, -0.6439390119613527, -0.01535991473091547, -0.25407955111640634, -0.007588052566063652, -0.6139889360103474, -0.07415596046849182, -0.08937374677737975, \"\", -0.19684659177504027, \"\", -0.26718759297913464, -0.6307888076028241, \"\", \"\", \"\", \"\", \"\", -0.17103217485357747, -0.5252952840005173, \"\", -0.1727612451258097, \"\", -0.36022682644260606, -0.419730469500741, -0.13367755769496314, \"\", \"\", -0.3626789225498064, -0.29398354114461767, \"\", \"\", -0.7215598365097842], \"yaxis\": \"y2\"}],\n",
       "                        {\"hovermode\": \"x\", \"legend\": {\"bgcolor\": \"#F5F6F9\", \"font\": {\"color\": \"#4D5663\"}}, \"paper_bgcolor\": \"#F5F6F9\", \"plot_bgcolor\": \"#F5F6F9\", \"template\": {\"data\": {\"bar\": [{\"error_x\": {\"color\": \"#2a3f5f\"}, \"error_y\": {\"color\": \"#2a3f5f\"}, \"marker\": {\"line\": {\"color\": \"#E5ECF6\", \"width\": 0.5}}, \"type\": \"bar\"}], \"barpolar\": [{\"marker\": {\"line\": {\"color\": \"#E5ECF6\", \"width\": 0.5}}, \"type\": \"barpolar\"}], \"carpet\": [{\"aaxis\": {\"endlinecolor\": \"#2a3f5f\", \"gridcolor\": \"white\", \"linecolor\": \"white\", \"minorgridcolor\": \"white\", \"startlinecolor\": \"#2a3f5f\"}, \"baxis\": {\"endlinecolor\": \"#2a3f5f\", \"gridcolor\": \"white\", \"linecolor\": \"white\", \"minorgridcolor\": \"white\", \"startlinecolor\": \"#2a3f5f\"}, \"type\": \"carpet\"}], \"choropleth\": [{\"colorbar\": {\"outlinewidth\": 0, \"ticks\": \"\"}, \"type\": \"choropleth\"}], \"contour\": [{\"colorbar\": {\"outlinewidth\": 0, \"ticks\": \"\"}, \"colorscale\": [[0.0, \"#0d0887\"], [0.1111111111111111, \"#46039f\"], [0.2222222222222222, \"#7201a8\"], [0.3333333333333333, \"#9c179e\"], [0.4444444444444444, \"#bd3786\"], [0.5555555555555556, \"#d8576b\"], [0.6666666666666666, \"#ed7953\"], [0.7777777777777778, \"#fb9f3a\"], [0.8888888888888888, \"#fdca26\"], [1.0, \"#f0f921\"]], \"type\": \"contour\"}], \"contourcarpet\": [{\"colorbar\": {\"outlinewidth\": 0, \"ticks\": \"\"}, \"type\": \"contourcarpet\"}], \"heatmap\": [{\"colorbar\": {\"outlinewidth\": 0, \"ticks\": \"\"}, \"colorscale\": [[0.0, \"#0d0887\"], [0.1111111111111111, \"#46039f\"], [0.2222222222222222, \"#7201a8\"], [0.3333333333333333, \"#9c179e\"], [0.4444444444444444, \"#bd3786\"], [0.5555555555555556, \"#d8576b\"], [0.6666666666666666, \"#ed7953\"], [0.7777777777777778, \"#fb9f3a\"], [0.8888888888888888, \"#fdca26\"], [1.0, \"#f0f921\"]], \"type\": \"heatmap\"}], \"heatmapgl\": [{\"colorbar\": {\"outlinewidth\": 0, \"ticks\": \"\"}, \"colorscale\": [[0.0, \"#0d0887\"], [0.1111111111111111, \"#46039f\"], [0.2222222222222222, \"#7201a8\"], [0.3333333333333333, \"#9c179e\"], [0.4444444444444444, \"#bd3786\"], [0.5555555555555556, \"#d8576b\"], [0.6666666666666666, \"#ed7953\"], [0.7777777777777778, \"#fb9f3a\"], [0.8888888888888888, \"#fdca26\"], [1.0, \"#f0f921\"]], \"type\": \"heatmapgl\"}], \"histogram\": [{\"marker\": {\"colorbar\": {\"outlinewidth\": 0, \"ticks\": \"\"}}, \"type\": \"histogram\"}], \"histogram2d\": [{\"colorbar\": {\"outlinewidth\": 0, \"ticks\": \"\"}, \"colorscale\": [[0.0, \"#0d0887\"], [0.1111111111111111, \"#46039f\"], [0.2222222222222222, \"#7201a8\"], [0.3333333333333333, \"#9c179e\"], [0.4444444444444444, \"#bd3786\"], [0.5555555555555556, \"#d8576b\"], [0.6666666666666666, \"#ed7953\"], [0.7777777777777778, \"#fb9f3a\"], [0.8888888888888888, \"#fdca26\"], [1.0, \"#f0f921\"]], \"type\": \"histogram2d\"}], \"histogram2dcontour\": [{\"colorbar\": {\"outlinewidth\": 0, \"ticks\": \"\"}, \"colorscale\": [[0.0, \"#0d0887\"], [0.1111111111111111, \"#46039f\"], [0.2222222222222222, \"#7201a8\"], [0.3333333333333333, \"#9c179e\"], [0.4444444444444444, \"#bd3786\"], [0.5555555555555556, \"#d8576b\"], [0.6666666666666666, \"#ed7953\"], [0.7777777777777778, \"#fb9f3a\"], [0.8888888888888888, \"#fdca26\"], [1.0, \"#f0f921\"]], \"type\": \"histogram2dcontour\"}], \"mesh3d\": [{\"colorbar\": {\"outlinewidth\": 0, \"ticks\": \"\"}, \"type\": \"mesh3d\"}], \"parcoords\": [{\"line\": {\"colorbar\": {\"outlinewidth\": 0, \"ticks\": \"\"}}, \"type\": \"parcoords\"}], \"pie\": [{\"automargin\": true, \"type\": \"pie\"}], \"scatter\": [{\"marker\": {\"colorbar\": {\"outlinewidth\": 0, \"ticks\": \"\"}}, \"type\": \"scatter\"}], \"scatter3d\": [{\"line\": {\"colorbar\": {\"outlinewidth\": 0, \"ticks\": \"\"}}, \"marker\": {\"colorbar\": {\"outlinewidth\": 0, \"ticks\": \"\"}}, \"type\": \"scatter3d\"}], \"scattercarpet\": [{\"marker\": {\"colorbar\": {\"outlinewidth\": 0, \"ticks\": \"\"}}, \"type\": \"scattercarpet\"}], \"scattergeo\": [{\"marker\": {\"colorbar\": {\"outlinewidth\": 0, \"ticks\": \"\"}}, \"type\": \"scattergeo\"}], \"scattergl\": [{\"marker\": {\"colorbar\": {\"outlinewidth\": 0, \"ticks\": \"\"}}, \"type\": \"scattergl\"}], \"scattermapbox\": [{\"marker\": {\"colorbar\": {\"outlinewidth\": 0, \"ticks\": \"\"}}, \"type\": \"scattermapbox\"}], \"scatterpolar\": [{\"marker\": {\"colorbar\": {\"outlinewidth\": 0, \"ticks\": \"\"}}, \"type\": \"scatterpolar\"}], \"scatterpolargl\": [{\"marker\": {\"colorbar\": {\"outlinewidth\": 0, \"ticks\": \"\"}}, \"type\": \"scatterpolargl\"}], \"scatterternary\": [{\"marker\": {\"colorbar\": {\"outlinewidth\": 0, \"ticks\": \"\"}}, \"type\": \"scatterternary\"}], \"surface\": [{\"colorbar\": {\"outlinewidth\": 0, \"ticks\": \"\"}, \"colorscale\": [[0.0, \"#0d0887\"], [0.1111111111111111, \"#46039f\"], [0.2222222222222222, \"#7201a8\"], [0.3333333333333333, \"#9c179e\"], [0.4444444444444444, \"#bd3786\"], [0.5555555555555556, \"#d8576b\"], [0.6666666666666666, \"#ed7953\"], [0.7777777777777778, \"#fb9f3a\"], [0.8888888888888888, \"#fdca26\"], [1.0, \"#f0f921\"]], \"type\": \"surface\"}], \"table\": [{\"cells\": {\"fill\": {\"color\": \"#EBF0F8\"}, \"line\": {\"color\": \"white\"}}, \"header\": {\"fill\": {\"color\": \"#C8D4E3\"}, \"line\": {\"color\": \"white\"}}, \"type\": \"table\"}]}, \"layout\": {\"annotationdefaults\": {\"arrowcolor\": \"#2a3f5f\", \"arrowhead\": 0, \"arrowwidth\": 1}, \"coloraxis\": {\"colorbar\": {\"outlinewidth\": 0, \"ticks\": \"\"}}, \"colorscale\": {\"diverging\": [[0, \"#8e0152\"], [0.1, \"#c51b7d\"], [0.2, \"#de77ae\"], [0.3, \"#f1b6da\"], [0.4, \"#fde0ef\"], [0.5, \"#f7f7f7\"], [0.6, \"#e6f5d0\"], [0.7, \"#b8e186\"], [0.8, \"#7fbc41\"], [0.9, \"#4d9221\"], [1, \"#276419\"]], \"sequential\": [[0.0, \"#0d0887\"], [0.1111111111111111, \"#46039f\"], [0.2222222222222222, \"#7201a8\"], [0.3333333333333333, \"#9c179e\"], [0.4444444444444444, \"#bd3786\"], [0.5555555555555556, \"#d8576b\"], [0.6666666666666666, \"#ed7953\"], [0.7777777777777778, \"#fb9f3a\"], [0.8888888888888888, \"#fdca26\"], [1.0, \"#f0f921\"]], \"sequentialminus\": [[0.0, \"#0d0887\"], [0.1111111111111111, \"#46039f\"], [0.2222222222222222, \"#7201a8\"], [0.3333333333333333, \"#9c179e\"], [0.4444444444444444, \"#bd3786\"], [0.5555555555555556, \"#d8576b\"], [0.6666666666666666, \"#ed7953\"], [0.7777777777777778, \"#fb9f3a\"], [0.8888888888888888, \"#fdca26\"], [1.0, \"#f0f921\"]]}, \"colorway\": [\"#636efa\", \"#EF553B\", \"#00cc96\", \"#ab63fa\", \"#FFA15A\", \"#19d3f3\", \"#FF6692\", \"#B6E880\", \"#FF97FF\", \"#FECB52\"], \"font\": {\"color\": \"#2a3f5f\"}, \"geo\": {\"bgcolor\": \"white\", \"lakecolor\": \"white\", \"landcolor\": \"#E5ECF6\", \"showlakes\": true, \"showland\": true, \"subunitcolor\": \"white\"}, \"hoverlabel\": {\"align\": \"left\"}, \"hovermode\": \"closest\", \"mapbox\": {\"style\": \"light\"}, \"paper_bgcolor\": \"white\", \"plot_bgcolor\": \"#E5ECF6\", \"polar\": {\"angularaxis\": {\"gridcolor\": \"white\", \"linecolor\": \"white\", \"ticks\": \"\"}, \"bgcolor\": \"#E5ECF6\", \"radialaxis\": {\"gridcolor\": \"white\", \"linecolor\": \"white\", \"ticks\": \"\"}}, \"scene\": {\"xaxis\": {\"backgroundcolor\": \"#E5ECF6\", \"gridcolor\": \"white\", \"gridwidth\": 2, \"linecolor\": \"white\", \"showbackground\": true, \"ticks\": \"\", \"zerolinecolor\": \"white\"}, \"yaxis\": {\"backgroundcolor\": \"#E5ECF6\", \"gridcolor\": \"white\", \"gridwidth\": 2, \"linecolor\": \"white\", \"showbackground\": true, \"ticks\": \"\", \"zerolinecolor\": \"white\"}, \"zaxis\": {\"backgroundcolor\": \"#E5ECF6\", \"gridcolor\": \"white\", \"gridwidth\": 2, \"linecolor\": \"white\", \"showbackground\": true, \"ticks\": \"\", \"zerolinecolor\": \"white\"}}, \"shapedefaults\": {\"line\": {\"color\": \"#2a3f5f\"}}, \"ternary\": {\"aaxis\": {\"gridcolor\": \"white\", \"linecolor\": \"white\", \"ticks\": \"\"}, \"baxis\": {\"gridcolor\": \"white\", \"linecolor\": \"white\", \"ticks\": \"\"}, \"bgcolor\": \"#E5ECF6\", \"caxis\": {\"gridcolor\": \"white\", \"linecolor\": \"white\", \"ticks\": \"\"}}, \"title\": {\"x\": 0.05}, \"xaxis\": {\"automargin\": true, \"gridcolor\": \"white\", \"linecolor\": \"white\", \"ticks\": \"\", \"title\": {\"standoff\": 15}, \"zerolinecolor\": \"white\", \"zerolinewidth\": 2}, \"yaxis\": {\"automargin\": true, \"gridcolor\": \"white\", \"linecolor\": \"white\", \"ticks\": \"\", \"title\": {\"standoff\": 15}, \"zerolinecolor\": \"white\", \"zerolinewidth\": 2}}}, \"title\": {\"font\": {\"color\": \"#4D5663\"}}, \"xaxis\": {\"gridcolor\": \"#E1E5ED\", \"showgrid\": true, \"tickfont\": {\"color\": \"#4D5663\"}, \"title\": {\"font\": {\"color\": \"#4D5663\"}, \"text\": \"\"}, \"zerolinecolor\": \"#E1E5ED\"}, \"xaxis2\": {\"anchor\": \"y2\", \"gridcolor\": \"#E1E5ED\", \"showgrid\": true, \"showticklabels\": false, \"tickfont\": {\"color\": \"#4D5663\"}, \"title\": {\"font\": {\"color\": \"#4D5663\"}, \"text\": \"\"}, \"zerolinecolor\": \"#E1E5ED\"}, \"yaxis\": {\"domain\": [0.3, 1], \"gridcolor\": \"#E1E5ED\", \"showgrid\": true, \"tickfont\": {\"color\": \"#4D5663\"}, \"title\": {\"font\": {\"color\": \"#4D5663\"}, \"text\": \"\"}, \"zerolinecolor\": \"#E1E5ED\"}, \"yaxis2\": {\"domain\": [0, 0.25], \"gridcolor\": \"#E1E5ED\", \"showgrid\": true, \"tickfont\": {\"color\": \"#4D5663\"}, \"title\": {\"font\": {\"color\": \"#4D5663\"}, \"text\": \"Spread\"}, \"zerolinecolor\": \"#E1E5ED\"}},\n",
       "                        {\"showLink\": true, \"linkText\": \"Export to plot.ly\", \"plotlyServerURL\": \"https://plot.ly\", \"responsive\": true}\n",
       "                    ).then(function(){\n",
       "                            \n",
       "var gd = document.getElementById('04d11217-82eb-4ce7-90cc-fbc9ef4bdbf3');\n",
       "var x = new MutationObserver(function (mutations, observer) {{\n",
       "        var display = window.getComputedStyle(gd).display;\n",
       "        if (!display || display === 'none') {{\n",
       "            console.log([gd, 'removed!']);\n",
       "            Plotly.purge(gd);\n",
       "            observer.disconnect();\n",
       "        }}\n",
       "}});\n",
       "\n",
       "// Listen for the removal of the full notebook cells\n",
       "var notebookContainer = gd.closest('#notebook-container');\n",
       "if (notebookContainer) {{\n",
       "    x.observe(notebookContainer, {childList: true});\n",
       "}}\n",
       "\n",
       "// Listen for the clearing of the current output cell\n",
       "var outputEl = gd.closest('.output');\n",
       "if (outputEl) {{\n",
       "    x.observe(outputEl, {childList: true});\n",
       "}}\n",
       "\n",
       "                        })\n",
       "                };\n",
       "                });\n",
       "            </script>\n",
       "        </div>"
      ]
     },
     "metadata": {},
     "output_type": "display_data"
    }
   ],
   "source": [
    "df.iplot(kind='spread')"
   ]
  },
  {
   "cell_type": "code",
   "execution_count": 22,
   "metadata": {},
   "outputs": [
    {
     "data": {
      "application/vnd.plotly.v1+json": {
       "config": {
        "linkText": "Export to plot.ly",
        "plotlyServerURL": "https://plot.ly",
        "showLink": true
       },
       "data": [
        {
         "marker": {
          "color": [
           "rgb(255, 153, 51)",
           "rgb(55, 128, 191)",
           "rgb(50, 171, 96)",
           "rgb(128, 0, 128)",
           "rgb(219, 64, 82)",
           "rgb(0, 128, 128)",
           "rgb(255, 255, 51)",
           "rgb(128, 128, 0)",
           "rgb(251, 128, 114)",
           "rgb(128, 177, 211)"
          ],
          "line": {
           "width": 1.3
          },
          "size": [
           12,
           96,
           97,
           69,
           91,
           91,
           21,
           107,
           56,
           88,
           17,
           86,
           109,
           36,
           41,
           17,
           51,
           45,
           105,
           25,
           50,
           95,
           15,
           68,
           106,
           33,
           34,
           32,
           17,
           71,
           48,
           12,
           88,
           69,
           17,
           15,
           79,
           70,
           56,
           33,
           98,
           100,
           32,
           85,
           65,
           63,
           107,
           56,
           71,
           47,
           62,
           61,
           47,
           88,
           53,
           95,
           101,
           25,
           51,
           55,
           36,
           35,
           29,
           43,
           24,
           57,
           78,
           99,
           103,
           48,
           39,
           109,
           92,
           59,
           111,
           22,
           112,
           71,
           104,
           76,
           21,
           30,
           49,
           77,
           58,
           65,
           99,
           61,
           42,
           26,
           56,
           95,
           55,
           37,
           38,
           52,
           80,
           89,
           15,
           101
          ],
          "symbol": "circle"
         },
         "mode": "markers",
         "text": "",
         "type": "scatter",
         "x": [
          0.5455922216802196,
          0.43472500449870477,
          0.613642013686985,
          0.9211448307679699,
          0.2588938404677139,
          0.18935557603674213,
          0.9745657493445745,
          0.9377281421796986,
          0.22123585838170656,
          0.572233811834976,
          0.18054447650951355,
          0.666350405851922,
          0.23953597422162398,
          0.30093904689715467,
          0.9847621169618693,
          0.24802386351476724,
          0.9308873833185077,
          0.5840465242216989,
          0.3071437567529606,
          0.12354577497377328,
          0.07938597912175616,
          0.17263742068543397,
          0.4962355048927183,
          0.8947578768508239,
          0.7235331078724248,
          0.6217985486529243,
          0.3952021176214062,
          0.05373830066802243,
          0.9611244565709495,
          0.17456623430209883,
          0.7568444007001681,
          0.1934428035899871,
          0.7627246256391255,
          0.7943996030326728,
          0.8443509164901559,
          0.11312102824454573,
          0.4090022894174953,
          0.318756421775908,
          0.5312350498129236,
          0.14822024697091385,
          0.9072840499197423,
          0.5060896061779371,
          0.07246298772731308,
          0.10180596440846501,
          0.8009943335091578,
          0.39274176246891745,
          0.1926532068538217,
          0.21244924134944043,
          0.2743173978517537,
          0.5714718805753365,
          0.773544437204778,
          0.9841771752342547,
          0.43039526895454105,
          0.7151577476514861,
          0.5409781796556354,
          0.36278440920163013,
          0.6296835123206291,
          0.6187736514808505,
          0.5163059077341391,
          0.784028482171324,
          0.5556983121221952,
          0.31550494191037604,
          0.13855210157086983,
          0.5524249187209392,
          0.016424038801321594,
          0.7886351012793188,
          0.5646911014806594,
          0.5892082844262537,
          0.2612580471499718,
          0.352065021568685,
          0.020638606510735014,
          0.960064787997212,
          0.18703023173673383,
          0.39734893639452695,
          0.8977084479850741,
          0.6813816976740278,
          0.7972228365574756,
          0.7153000764825456,
          0.653455964981695,
          0.01518918044487616,
          0.4067779299332781,
          0.8676292823290721,
          0.38570407959340847,
          0.9397726852152095,
          0.9917770609932849,
          0.3567897551362671,
          0.34294040178204543,
          0.8565073714002363,
          0.13279344343600996,
          0.36779623411195317,
          0.08496244903920802,
          0.40750341718954264,
          0.2995369189488719,
          0.3055325623431403,
          0.8234513700236281,
          0.04053935232111938,
          0.38295587514489204,
          0.8717039984904328,
          0.8089398107303143,
          0.1657573080052983
         ],
         "y": [
          0.04613811798592782,
          0.34607045731146424,
          0.17028813074289184,
          0.2864007792724781,
          0.48877205467824625,
          0.956309208939353,
          0.3629837434671247,
          0.8638492135946637,
          0.7437077970900959,
          0.4469424776981441,
          0.18229917948169394,
          0.5285815086388055,
          0.34506684381582164,
          0.09333922524644733,
          0.3285811071121212,
          0.471248518708244,
          0.7571499910510242,
          0.5781068134212827,
          0.6587484482528596,
          0.6844868063330476,
          0.48758576159643996,
          0.47653810629404636,
          0.8910728234484395,
          0.04210674855959318,
          0.6530706550124397,
          0.21547349841214203,
          0.2642087947305727,
          0.2782390836896538,
          0.7443726147927304,
          0.2204682241935758,
          0.3999825077003105,
          0.6997236683061265,
          0.16084021945523408,
          0.5631654082682856,
          0.9381249546544231,
          0.13859362968919697,
          0.5128851208131295,
          0.4482643268389004,
          0.48360284976090473,
          0.9881471283548107,
          0.11167270895833392,
          0.012938588047189281,
          0.45139911102761654,
          0.28269195158225,
          0.23007343539170066,
          0.6524531230420789,
          0.2024651211752877,
          0.5207293317128894,
          0.7176684444789336,
          0.810884480364629,
          0.7114618836611942,
          0.7910756616594143,
          0.13336043836213696,
          0.6509202548866944,
          0.33855831141540627,
          0.5944437961335536,
          0.9636764914481345,
          0.7558556625527437,
          0.9318494784313223,
          0.7102057730458753,
          0.9052148422448995,
          0.8980378688418761,
          0.27076650817640624,
          0.7900287856073639,
          0.46046096553207383,
          0.20410602224683072,
          0.7734434030254108,
          0.5602247073818434,
          0.26240247202561595,
          0.688411320297325,
          0.9745962232002224,
          0.383493356446618,
          0.23178364502854687,
          0.37464216951685014,
          0.6625195527337091,
          0.9735951731358191,
          0.0314450269096751,
          0.2713264251966431,
          0.31066907724467363,
          0.32479756738015864,
          0.9341224217790378,
          0.7144664058124355,
          0.49495085171140896,
          0.6777524719951455,
          0.43063395060179477,
          0.31828524251255264,
          0.7313674300702365,
          0.1895057031751206,
          0.6628399090039835,
          0.7291762855736365,
          0.9560739317752358,
          0.11542907755383736,
          0.5751579027609738,
          0.3675439222311988,
          0.399767266530899,
          0.8716114714963399,
          0.9307084479236808,
          0.6014087233828076,
          0.6213969982422567,
          0.13314755008335377
         ]
        }
       ],
       "layout": {
        "legend": {
         "bgcolor": "#F5F6F9",
         "font": {
          "color": "#4D5663"
         }
        },
        "paper_bgcolor": "#F5F6F9",
        "plot_bgcolor": "#F5F6F9",
        "template": {
         "data": {
          "bar": [
           {
            "error_x": {
             "color": "#2a3f5f"
            },
            "error_y": {
             "color": "#2a3f5f"
            },
            "marker": {
             "line": {
              "color": "#E5ECF6",
              "width": 0.5
             }
            },
            "type": "bar"
           }
          ],
          "barpolar": [
           {
            "marker": {
             "line": {
              "color": "#E5ECF6",
              "width": 0.5
             }
            },
            "type": "barpolar"
           }
          ],
          "carpet": [
           {
            "aaxis": {
             "endlinecolor": "#2a3f5f",
             "gridcolor": "white",
             "linecolor": "white",
             "minorgridcolor": "white",
             "startlinecolor": "#2a3f5f"
            },
            "baxis": {
             "endlinecolor": "#2a3f5f",
             "gridcolor": "white",
             "linecolor": "white",
             "minorgridcolor": "white",
             "startlinecolor": "#2a3f5f"
            },
            "type": "carpet"
           }
          ],
          "choropleth": [
           {
            "colorbar": {
             "outlinewidth": 0,
             "ticks": ""
            },
            "type": "choropleth"
           }
          ],
          "contour": [
           {
            "colorbar": {
             "outlinewidth": 0,
             "ticks": ""
            },
            "colorscale": [
             [
              0,
              "#0d0887"
             ],
             [
              0.1111111111111111,
              "#46039f"
             ],
             [
              0.2222222222222222,
              "#7201a8"
             ],
             [
              0.3333333333333333,
              "#9c179e"
             ],
             [
              0.4444444444444444,
              "#bd3786"
             ],
             [
              0.5555555555555556,
              "#d8576b"
             ],
             [
              0.6666666666666666,
              "#ed7953"
             ],
             [
              0.7777777777777778,
              "#fb9f3a"
             ],
             [
              0.8888888888888888,
              "#fdca26"
             ],
             [
              1,
              "#f0f921"
             ]
            ],
            "type": "contour"
           }
          ],
          "contourcarpet": [
           {
            "colorbar": {
             "outlinewidth": 0,
             "ticks": ""
            },
            "type": "contourcarpet"
           }
          ],
          "heatmap": [
           {
            "colorbar": {
             "outlinewidth": 0,
             "ticks": ""
            },
            "colorscale": [
             [
              0,
              "#0d0887"
             ],
             [
              0.1111111111111111,
              "#46039f"
             ],
             [
              0.2222222222222222,
              "#7201a8"
             ],
             [
              0.3333333333333333,
              "#9c179e"
             ],
             [
              0.4444444444444444,
              "#bd3786"
             ],
             [
              0.5555555555555556,
              "#d8576b"
             ],
             [
              0.6666666666666666,
              "#ed7953"
             ],
             [
              0.7777777777777778,
              "#fb9f3a"
             ],
             [
              0.8888888888888888,
              "#fdca26"
             ],
             [
              1,
              "#f0f921"
             ]
            ],
            "type": "heatmap"
           }
          ],
          "heatmapgl": [
           {
            "colorbar": {
             "outlinewidth": 0,
             "ticks": ""
            },
            "colorscale": [
             [
              0,
              "#0d0887"
             ],
             [
              0.1111111111111111,
              "#46039f"
             ],
             [
              0.2222222222222222,
              "#7201a8"
             ],
             [
              0.3333333333333333,
              "#9c179e"
             ],
             [
              0.4444444444444444,
              "#bd3786"
             ],
             [
              0.5555555555555556,
              "#d8576b"
             ],
             [
              0.6666666666666666,
              "#ed7953"
             ],
             [
              0.7777777777777778,
              "#fb9f3a"
             ],
             [
              0.8888888888888888,
              "#fdca26"
             ],
             [
              1,
              "#f0f921"
             ]
            ],
            "type": "heatmapgl"
           }
          ],
          "histogram": [
           {
            "marker": {
             "colorbar": {
              "outlinewidth": 0,
              "ticks": ""
             }
            },
            "type": "histogram"
           }
          ],
          "histogram2d": [
           {
            "colorbar": {
             "outlinewidth": 0,
             "ticks": ""
            },
            "colorscale": [
             [
              0,
              "#0d0887"
             ],
             [
              0.1111111111111111,
              "#46039f"
             ],
             [
              0.2222222222222222,
              "#7201a8"
             ],
             [
              0.3333333333333333,
              "#9c179e"
             ],
             [
              0.4444444444444444,
              "#bd3786"
             ],
             [
              0.5555555555555556,
              "#d8576b"
             ],
             [
              0.6666666666666666,
              "#ed7953"
             ],
             [
              0.7777777777777778,
              "#fb9f3a"
             ],
             [
              0.8888888888888888,
              "#fdca26"
             ],
             [
              1,
              "#f0f921"
             ]
            ],
            "type": "histogram2d"
           }
          ],
          "histogram2dcontour": [
           {
            "colorbar": {
             "outlinewidth": 0,
             "ticks": ""
            },
            "colorscale": [
             [
              0,
              "#0d0887"
             ],
             [
              0.1111111111111111,
              "#46039f"
             ],
             [
              0.2222222222222222,
              "#7201a8"
             ],
             [
              0.3333333333333333,
              "#9c179e"
             ],
             [
              0.4444444444444444,
              "#bd3786"
             ],
             [
              0.5555555555555556,
              "#d8576b"
             ],
             [
              0.6666666666666666,
              "#ed7953"
             ],
             [
              0.7777777777777778,
              "#fb9f3a"
             ],
             [
              0.8888888888888888,
              "#fdca26"
             ],
             [
              1,
              "#f0f921"
             ]
            ],
            "type": "histogram2dcontour"
           }
          ],
          "mesh3d": [
           {
            "colorbar": {
             "outlinewidth": 0,
             "ticks": ""
            },
            "type": "mesh3d"
           }
          ],
          "parcoords": [
           {
            "line": {
             "colorbar": {
              "outlinewidth": 0,
              "ticks": ""
             }
            },
            "type": "parcoords"
           }
          ],
          "pie": [
           {
            "automargin": true,
            "type": "pie"
           }
          ],
          "scatter": [
           {
            "marker": {
             "colorbar": {
              "outlinewidth": 0,
              "ticks": ""
             }
            },
            "type": "scatter"
           }
          ],
          "scatter3d": [
           {
            "line": {
             "colorbar": {
              "outlinewidth": 0,
              "ticks": ""
             }
            },
            "marker": {
             "colorbar": {
              "outlinewidth": 0,
              "ticks": ""
             }
            },
            "type": "scatter3d"
           }
          ],
          "scattercarpet": [
           {
            "marker": {
             "colorbar": {
              "outlinewidth": 0,
              "ticks": ""
             }
            },
            "type": "scattercarpet"
           }
          ],
          "scattergeo": [
           {
            "marker": {
             "colorbar": {
              "outlinewidth": 0,
              "ticks": ""
             }
            },
            "type": "scattergeo"
           }
          ],
          "scattergl": [
           {
            "marker": {
             "colorbar": {
              "outlinewidth": 0,
              "ticks": ""
             }
            },
            "type": "scattergl"
           }
          ],
          "scattermapbox": [
           {
            "marker": {
             "colorbar": {
              "outlinewidth": 0,
              "ticks": ""
             }
            },
            "type": "scattermapbox"
           }
          ],
          "scatterpolar": [
           {
            "marker": {
             "colorbar": {
              "outlinewidth": 0,
              "ticks": ""
             }
            },
            "type": "scatterpolar"
           }
          ],
          "scatterpolargl": [
           {
            "marker": {
             "colorbar": {
              "outlinewidth": 0,
              "ticks": ""
             }
            },
            "type": "scatterpolargl"
           }
          ],
          "scatterternary": [
           {
            "marker": {
             "colorbar": {
              "outlinewidth": 0,
              "ticks": ""
             }
            },
            "type": "scatterternary"
           }
          ],
          "surface": [
           {
            "colorbar": {
             "outlinewidth": 0,
             "ticks": ""
            },
            "colorscale": [
             [
              0,
              "#0d0887"
             ],
             [
              0.1111111111111111,
              "#46039f"
             ],
             [
              0.2222222222222222,
              "#7201a8"
             ],
             [
              0.3333333333333333,
              "#9c179e"
             ],
             [
              0.4444444444444444,
              "#bd3786"
             ],
             [
              0.5555555555555556,
              "#d8576b"
             ],
             [
              0.6666666666666666,
              "#ed7953"
             ],
             [
              0.7777777777777778,
              "#fb9f3a"
             ],
             [
              0.8888888888888888,
              "#fdca26"
             ],
             [
              1,
              "#f0f921"
             ]
            ],
            "type": "surface"
           }
          ],
          "table": [
           {
            "cells": {
             "fill": {
              "color": "#EBF0F8"
             },
             "line": {
              "color": "white"
             }
            },
            "header": {
             "fill": {
              "color": "#C8D4E3"
             },
             "line": {
              "color": "white"
             }
            },
            "type": "table"
           }
          ]
         },
         "layout": {
          "annotationdefaults": {
           "arrowcolor": "#2a3f5f",
           "arrowhead": 0,
           "arrowwidth": 1
          },
          "coloraxis": {
           "colorbar": {
            "outlinewidth": 0,
            "ticks": ""
           }
          },
          "colorscale": {
           "diverging": [
            [
             0,
             "#8e0152"
            ],
            [
             0.1,
             "#c51b7d"
            ],
            [
             0.2,
             "#de77ae"
            ],
            [
             0.3,
             "#f1b6da"
            ],
            [
             0.4,
             "#fde0ef"
            ],
            [
             0.5,
             "#f7f7f7"
            ],
            [
             0.6,
             "#e6f5d0"
            ],
            [
             0.7,
             "#b8e186"
            ],
            [
             0.8,
             "#7fbc41"
            ],
            [
             0.9,
             "#4d9221"
            ],
            [
             1,
             "#276419"
            ]
           ],
           "sequential": [
            [
             0,
             "#0d0887"
            ],
            [
             0.1111111111111111,
             "#46039f"
            ],
            [
             0.2222222222222222,
             "#7201a8"
            ],
            [
             0.3333333333333333,
             "#9c179e"
            ],
            [
             0.4444444444444444,
             "#bd3786"
            ],
            [
             0.5555555555555556,
             "#d8576b"
            ],
            [
             0.6666666666666666,
             "#ed7953"
            ],
            [
             0.7777777777777778,
             "#fb9f3a"
            ],
            [
             0.8888888888888888,
             "#fdca26"
            ],
            [
             1,
             "#f0f921"
            ]
           ],
           "sequentialminus": [
            [
             0,
             "#0d0887"
            ],
            [
             0.1111111111111111,
             "#46039f"
            ],
            [
             0.2222222222222222,
             "#7201a8"
            ],
            [
             0.3333333333333333,
             "#9c179e"
            ],
            [
             0.4444444444444444,
             "#bd3786"
            ],
            [
             0.5555555555555556,
             "#d8576b"
            ],
            [
             0.6666666666666666,
             "#ed7953"
            ],
            [
             0.7777777777777778,
             "#fb9f3a"
            ],
            [
             0.8888888888888888,
             "#fdca26"
            ],
            [
             1,
             "#f0f921"
            ]
           ]
          },
          "colorway": [
           "#636efa",
           "#EF553B",
           "#00cc96",
           "#ab63fa",
           "#FFA15A",
           "#19d3f3",
           "#FF6692",
           "#B6E880",
           "#FF97FF",
           "#FECB52"
          ],
          "font": {
           "color": "#2a3f5f"
          },
          "geo": {
           "bgcolor": "white",
           "lakecolor": "white",
           "landcolor": "#E5ECF6",
           "showlakes": true,
           "showland": true,
           "subunitcolor": "white"
          },
          "hoverlabel": {
           "align": "left"
          },
          "hovermode": "closest",
          "mapbox": {
           "style": "light"
          },
          "paper_bgcolor": "white",
          "plot_bgcolor": "#E5ECF6",
          "polar": {
           "angularaxis": {
            "gridcolor": "white",
            "linecolor": "white",
            "ticks": ""
           },
           "bgcolor": "#E5ECF6",
           "radialaxis": {
            "gridcolor": "white",
            "linecolor": "white",
            "ticks": ""
           }
          },
          "scene": {
           "xaxis": {
            "backgroundcolor": "#E5ECF6",
            "gridcolor": "white",
            "gridwidth": 2,
            "linecolor": "white",
            "showbackground": true,
            "ticks": "",
            "zerolinecolor": "white"
           },
           "yaxis": {
            "backgroundcolor": "#E5ECF6",
            "gridcolor": "white",
            "gridwidth": 2,
            "linecolor": "white",
            "showbackground": true,
            "ticks": "",
            "zerolinecolor": "white"
           },
           "zaxis": {
            "backgroundcolor": "#E5ECF6",
            "gridcolor": "white",
            "gridwidth": 2,
            "linecolor": "white",
            "showbackground": true,
            "ticks": "",
            "zerolinecolor": "white"
           }
          },
          "shapedefaults": {
           "line": {
            "color": "#2a3f5f"
           }
          },
          "ternary": {
           "aaxis": {
            "gridcolor": "white",
            "linecolor": "white",
            "ticks": ""
           },
           "baxis": {
            "gridcolor": "white",
            "linecolor": "white",
            "ticks": ""
           },
           "bgcolor": "#E5ECF6",
           "caxis": {
            "gridcolor": "white",
            "linecolor": "white",
            "ticks": ""
           }
          },
          "title": {
           "x": 0.05
          },
          "xaxis": {
           "automargin": true,
           "gridcolor": "white",
           "linecolor": "white",
           "ticks": "",
           "title": {
            "standoff": 15
           },
           "zerolinecolor": "white",
           "zerolinewidth": 2
          },
          "yaxis": {
           "automargin": true,
           "gridcolor": "white",
           "linecolor": "white",
           "ticks": "",
           "title": {
            "standoff": 15
           },
           "zerolinecolor": "white",
           "zerolinewidth": 2
          }
         }
        },
        "title": {
         "font": {
          "color": "#4D5663"
         }
        },
        "xaxis": {
         "gridcolor": "#E1E5ED",
         "showgrid": true,
         "tickfont": {
          "color": "#4D5663"
         },
         "title": {
          "font": {
           "color": "#4D5663"
          },
          "text": ""
         },
         "zerolinecolor": "#E1E5ED"
        },
        "yaxis": {
         "gridcolor": "#E1E5ED",
         "showgrid": true,
         "tickfont": {
          "color": "#4D5663"
         },
         "title": {
          "font": {
           "color": "#4D5663"
          },
          "text": ""
         },
         "zerolinecolor": "#E1E5ED"
        }
       }
      },
      "text/html": [
       "<div>\n",
       "        \n",
       "        \n",
       "            <div id=\"0608839b-4859-48dc-b472-6c32958ba4b3\" class=\"plotly-graph-div\" style=\"height:525px; width:100%;\"></div>\n",
       "            <script type=\"text/javascript\">\n",
       "                require([\"plotly\"], function(Plotly) {\n",
       "                    window.PLOTLYENV=window.PLOTLYENV || {};\n",
       "                    window.PLOTLYENV.BASE_URL='https://plot.ly';\n",
       "                    \n",
       "                if (document.getElementById(\"0608839b-4859-48dc-b472-6c32958ba4b3\")) {\n",
       "                    Plotly.newPlot(\n",
       "                        '0608839b-4859-48dc-b472-6c32958ba4b3',\n",
       "                        [{\"marker\": {\"color\": [\"rgb(255, 153, 51)\", \"rgb(55, 128, 191)\", \"rgb(50, 171, 96)\", \"rgb(128, 0, 128)\", \"rgb(219, 64, 82)\", \"rgb(0, 128, 128)\", \"rgb(255, 255, 51)\", \"rgb(128, 128, 0)\", \"rgb(251, 128, 114)\", \"rgb(128, 177, 211)\"], \"line\": {\"width\": 1.3}, \"size\": [12, 96, 97, 69, 91, 91, 21, 107, 56, 88, 17, 86, 109, 36, 41, 17, 51, 45, 105, 25, 50, 95, 15, 68, 106, 33, 34, 32, 17, 71, 48, 12, 88, 69, 17, 15, 79, 70, 56, 33, 98, 100, 32, 85, 65, 63, 107, 56, 71, 47, 62, 61, 47, 88, 53, 95, 101, 25, 51, 55, 36, 35, 29, 43, 24, 57, 78, 99, 103, 48, 39, 109, 92, 59, 111, 22, 112, 71, 104, 76, 21, 30, 49, 77, 58, 65, 99, 61, 42, 26, 56, 95, 55, 37, 38, 52, 80, 89, 15, 101], \"symbol\": \"circle\"}, \"mode\": \"markers\", \"text\": \"\", \"type\": \"scatter\", \"x\": [0.5455922216802196, 0.43472500449870477, 0.613642013686985, 0.9211448307679699, 0.2588938404677139, 0.18935557603674213, 0.9745657493445745, 0.9377281421796986, 0.22123585838170656, 0.572233811834976, 0.18054447650951355, 0.666350405851922, 0.23953597422162398, 0.30093904689715467, 0.9847621169618693, 0.24802386351476724, 0.9308873833185077, 0.5840465242216989, 0.3071437567529606, 0.12354577497377328, 0.07938597912175616, 0.17263742068543397, 0.4962355048927183, 0.8947578768508239, 0.7235331078724248, 0.6217985486529243, 0.3952021176214062, 0.05373830066802243, 0.9611244565709495, 0.17456623430209883, 0.7568444007001681, 0.1934428035899871, 0.7627246256391255, 0.7943996030326728, 0.8443509164901559, 0.11312102824454573, 0.4090022894174953, 0.318756421775908, 0.5312350498129236, 0.14822024697091385, 0.9072840499197423, 0.5060896061779371, 0.07246298772731308, 0.10180596440846501, 0.8009943335091578, 0.39274176246891745, 0.1926532068538217, 0.21244924134944043, 0.2743173978517537, 0.5714718805753365, 0.773544437204778, 0.9841771752342547, 0.43039526895454105, 0.7151577476514861, 0.5409781796556354, 0.36278440920163013, 0.6296835123206291, 0.6187736514808505, 0.5163059077341391, 0.784028482171324, 0.5556983121221952, 0.31550494191037604, 0.13855210157086983, 0.5524249187209392, 0.016424038801321594, 0.7886351012793188, 0.5646911014806594, 0.5892082844262537, 0.2612580471499718, 0.352065021568685, 0.020638606510735014, 0.960064787997212, 0.18703023173673383, 0.39734893639452695, 0.8977084479850741, 0.6813816976740278, 0.7972228365574756, 0.7153000764825456, 0.653455964981695, 0.01518918044487616, 0.4067779299332781, 0.8676292823290721, 0.38570407959340847, 0.9397726852152095, 0.9917770609932849, 0.3567897551362671, 0.34294040178204543, 0.8565073714002363, 0.13279344343600996, 0.36779623411195317, 0.08496244903920802, 0.40750341718954264, 0.2995369189488719, 0.3055325623431403, 0.8234513700236281, 0.04053935232111938, 0.38295587514489204, 0.8717039984904328, 0.8089398107303143, 0.1657573080052983], \"y\": [0.04613811798592782, 0.34607045731146424, 0.17028813074289184, 0.2864007792724781, 0.48877205467824625, 0.956309208939353, 0.3629837434671247, 0.8638492135946637, 0.7437077970900959, 0.4469424776981441, 0.18229917948169394, 0.5285815086388055, 0.34506684381582164, 0.09333922524644733, 0.3285811071121212, 0.471248518708244, 0.7571499910510242, 0.5781068134212827, 0.6587484482528596, 0.6844868063330476, 0.48758576159643996, 0.47653810629404636, 0.8910728234484395, 0.04210674855959318, 0.6530706550124397, 0.21547349841214203, 0.2642087947305727, 0.2782390836896538, 0.7443726147927304, 0.2204682241935758, 0.3999825077003105, 0.6997236683061265, 0.16084021945523408, 0.5631654082682856, 0.9381249546544231, 0.13859362968919697, 0.5128851208131295, 0.4482643268389004, 0.48360284976090473, 0.9881471283548107, 0.11167270895833392, 0.012938588047189281, 0.45139911102761654, 0.28269195158225, 0.23007343539170066, 0.6524531230420789, 0.2024651211752877, 0.5207293317128894, 0.7176684444789336, 0.810884480364629, 0.7114618836611942, 0.7910756616594143, 0.13336043836213696, 0.6509202548866944, 0.33855831141540627, 0.5944437961335536, 0.9636764914481345, 0.7558556625527437, 0.9318494784313223, 0.7102057730458753, 0.9052148422448995, 0.8980378688418761, 0.27076650817640624, 0.7900287856073639, 0.46046096553207383, 0.20410602224683072, 0.7734434030254108, 0.5602247073818434, 0.26240247202561595, 0.688411320297325, 0.9745962232002224, 0.383493356446618, 0.23178364502854687, 0.37464216951685014, 0.6625195527337091, 0.9735951731358191, 0.0314450269096751, 0.2713264251966431, 0.31066907724467363, 0.32479756738015864, 0.9341224217790378, 0.7144664058124355, 0.49495085171140896, 0.6777524719951455, 0.43063395060179477, 0.31828524251255264, 0.7313674300702365, 0.1895057031751206, 0.6628399090039835, 0.7291762855736365, 0.9560739317752358, 0.11542907755383736, 0.5751579027609738, 0.3675439222311988, 0.399767266530899, 0.8716114714963399, 0.9307084479236808, 0.6014087233828076, 0.6213969982422567, 0.13314755008335377]}],\n",
       "                        {\"legend\": {\"bgcolor\": \"#F5F6F9\", \"font\": {\"color\": \"#4D5663\"}}, \"paper_bgcolor\": \"#F5F6F9\", \"plot_bgcolor\": \"#F5F6F9\", \"template\": {\"data\": {\"bar\": [{\"error_x\": {\"color\": \"#2a3f5f\"}, \"error_y\": {\"color\": \"#2a3f5f\"}, \"marker\": {\"line\": {\"color\": \"#E5ECF6\", \"width\": 0.5}}, \"type\": \"bar\"}], \"barpolar\": [{\"marker\": {\"line\": {\"color\": \"#E5ECF6\", \"width\": 0.5}}, \"type\": \"barpolar\"}], \"carpet\": [{\"aaxis\": {\"endlinecolor\": \"#2a3f5f\", \"gridcolor\": \"white\", \"linecolor\": \"white\", \"minorgridcolor\": \"white\", \"startlinecolor\": \"#2a3f5f\"}, \"baxis\": {\"endlinecolor\": \"#2a3f5f\", \"gridcolor\": \"white\", \"linecolor\": \"white\", \"minorgridcolor\": \"white\", \"startlinecolor\": \"#2a3f5f\"}, \"type\": \"carpet\"}], \"choropleth\": [{\"colorbar\": {\"outlinewidth\": 0, \"ticks\": \"\"}, \"type\": \"choropleth\"}], \"contour\": [{\"colorbar\": {\"outlinewidth\": 0, \"ticks\": \"\"}, \"colorscale\": [[0.0, \"#0d0887\"], [0.1111111111111111, \"#46039f\"], [0.2222222222222222, \"#7201a8\"], [0.3333333333333333, \"#9c179e\"], [0.4444444444444444, \"#bd3786\"], [0.5555555555555556, \"#d8576b\"], [0.6666666666666666, \"#ed7953\"], [0.7777777777777778, \"#fb9f3a\"], [0.8888888888888888, \"#fdca26\"], [1.0, \"#f0f921\"]], \"type\": \"contour\"}], \"contourcarpet\": [{\"colorbar\": {\"outlinewidth\": 0, \"ticks\": \"\"}, \"type\": \"contourcarpet\"}], \"heatmap\": [{\"colorbar\": {\"outlinewidth\": 0, \"ticks\": \"\"}, \"colorscale\": [[0.0, \"#0d0887\"], [0.1111111111111111, \"#46039f\"], [0.2222222222222222, \"#7201a8\"], [0.3333333333333333, \"#9c179e\"], [0.4444444444444444, \"#bd3786\"], [0.5555555555555556, \"#d8576b\"], [0.6666666666666666, \"#ed7953\"], [0.7777777777777778, \"#fb9f3a\"], [0.8888888888888888, \"#fdca26\"], [1.0, \"#f0f921\"]], \"type\": \"heatmap\"}], \"heatmapgl\": [{\"colorbar\": {\"outlinewidth\": 0, \"ticks\": \"\"}, \"colorscale\": [[0.0, \"#0d0887\"], [0.1111111111111111, \"#46039f\"], [0.2222222222222222, \"#7201a8\"], [0.3333333333333333, \"#9c179e\"], [0.4444444444444444, \"#bd3786\"], [0.5555555555555556, \"#d8576b\"], [0.6666666666666666, \"#ed7953\"], [0.7777777777777778, \"#fb9f3a\"], [0.8888888888888888, \"#fdca26\"], [1.0, \"#f0f921\"]], \"type\": \"heatmapgl\"}], \"histogram\": [{\"marker\": {\"colorbar\": {\"outlinewidth\": 0, \"ticks\": \"\"}}, \"type\": \"histogram\"}], \"histogram2d\": [{\"colorbar\": {\"outlinewidth\": 0, \"ticks\": \"\"}, \"colorscale\": [[0.0, \"#0d0887\"], [0.1111111111111111, \"#46039f\"], [0.2222222222222222, \"#7201a8\"], [0.3333333333333333, \"#9c179e\"], [0.4444444444444444, \"#bd3786\"], [0.5555555555555556, \"#d8576b\"], [0.6666666666666666, \"#ed7953\"], [0.7777777777777778, \"#fb9f3a\"], [0.8888888888888888, \"#fdca26\"], [1.0, \"#f0f921\"]], \"type\": \"histogram2d\"}], \"histogram2dcontour\": [{\"colorbar\": {\"outlinewidth\": 0, \"ticks\": \"\"}, \"colorscale\": [[0.0, \"#0d0887\"], [0.1111111111111111, \"#46039f\"], [0.2222222222222222, \"#7201a8\"], [0.3333333333333333, \"#9c179e\"], [0.4444444444444444, \"#bd3786\"], [0.5555555555555556, \"#d8576b\"], [0.6666666666666666, \"#ed7953\"], [0.7777777777777778, \"#fb9f3a\"], [0.8888888888888888, \"#fdca26\"], [1.0, \"#f0f921\"]], \"type\": \"histogram2dcontour\"}], \"mesh3d\": [{\"colorbar\": {\"outlinewidth\": 0, \"ticks\": \"\"}, \"type\": \"mesh3d\"}], \"parcoords\": [{\"line\": {\"colorbar\": {\"outlinewidth\": 0, \"ticks\": \"\"}}, \"type\": \"parcoords\"}], \"pie\": [{\"automargin\": true, \"type\": \"pie\"}], \"scatter\": [{\"marker\": {\"colorbar\": {\"outlinewidth\": 0, \"ticks\": \"\"}}, \"type\": \"scatter\"}], \"scatter3d\": [{\"line\": {\"colorbar\": {\"outlinewidth\": 0, \"ticks\": \"\"}}, \"marker\": {\"colorbar\": {\"outlinewidth\": 0, \"ticks\": \"\"}}, \"type\": \"scatter3d\"}], \"scattercarpet\": [{\"marker\": {\"colorbar\": {\"outlinewidth\": 0, \"ticks\": \"\"}}, \"type\": \"scattercarpet\"}], \"scattergeo\": [{\"marker\": {\"colorbar\": {\"outlinewidth\": 0, \"ticks\": \"\"}}, \"type\": \"scattergeo\"}], \"scattergl\": [{\"marker\": {\"colorbar\": {\"outlinewidth\": 0, \"ticks\": \"\"}}, \"type\": \"scattergl\"}], \"scattermapbox\": [{\"marker\": {\"colorbar\": {\"outlinewidth\": 0, \"ticks\": \"\"}}, \"type\": \"scattermapbox\"}], \"scatterpolar\": [{\"marker\": {\"colorbar\": {\"outlinewidth\": 0, \"ticks\": \"\"}}, \"type\": \"scatterpolar\"}], \"scatterpolargl\": [{\"marker\": {\"colorbar\": {\"outlinewidth\": 0, \"ticks\": \"\"}}, \"type\": \"scatterpolargl\"}], \"scatterternary\": [{\"marker\": {\"colorbar\": {\"outlinewidth\": 0, \"ticks\": \"\"}}, \"type\": \"scatterternary\"}], \"surface\": [{\"colorbar\": {\"outlinewidth\": 0, \"ticks\": \"\"}, \"colorscale\": [[0.0, \"#0d0887\"], [0.1111111111111111, \"#46039f\"], [0.2222222222222222, \"#7201a8\"], [0.3333333333333333, \"#9c179e\"], [0.4444444444444444, \"#bd3786\"], [0.5555555555555556, \"#d8576b\"], [0.6666666666666666, \"#ed7953\"], [0.7777777777777778, \"#fb9f3a\"], [0.8888888888888888, \"#fdca26\"], [1.0, \"#f0f921\"]], \"type\": \"surface\"}], \"table\": [{\"cells\": {\"fill\": {\"color\": \"#EBF0F8\"}, \"line\": {\"color\": \"white\"}}, \"header\": {\"fill\": {\"color\": \"#C8D4E3\"}, \"line\": {\"color\": \"white\"}}, \"type\": \"table\"}]}, \"layout\": {\"annotationdefaults\": {\"arrowcolor\": \"#2a3f5f\", \"arrowhead\": 0, \"arrowwidth\": 1}, \"coloraxis\": {\"colorbar\": {\"outlinewidth\": 0, \"ticks\": \"\"}}, \"colorscale\": {\"diverging\": [[0, \"#8e0152\"], [0.1, \"#c51b7d\"], [0.2, \"#de77ae\"], [0.3, \"#f1b6da\"], [0.4, \"#fde0ef\"], [0.5, \"#f7f7f7\"], [0.6, \"#e6f5d0\"], [0.7, \"#b8e186\"], [0.8, \"#7fbc41\"], [0.9, \"#4d9221\"], [1, \"#276419\"]], \"sequential\": [[0.0, \"#0d0887\"], [0.1111111111111111, \"#46039f\"], [0.2222222222222222, \"#7201a8\"], [0.3333333333333333, \"#9c179e\"], [0.4444444444444444, \"#bd3786\"], [0.5555555555555556, \"#d8576b\"], [0.6666666666666666, \"#ed7953\"], [0.7777777777777778, \"#fb9f3a\"], [0.8888888888888888, \"#fdca26\"], [1.0, \"#f0f921\"]], \"sequentialminus\": [[0.0, \"#0d0887\"], [0.1111111111111111, \"#46039f\"], [0.2222222222222222, \"#7201a8\"], [0.3333333333333333, \"#9c179e\"], [0.4444444444444444, \"#bd3786\"], [0.5555555555555556, \"#d8576b\"], [0.6666666666666666, \"#ed7953\"], [0.7777777777777778, \"#fb9f3a\"], [0.8888888888888888, \"#fdca26\"], [1.0, \"#f0f921\"]]}, \"colorway\": [\"#636efa\", \"#EF553B\", \"#00cc96\", \"#ab63fa\", \"#FFA15A\", \"#19d3f3\", \"#FF6692\", \"#B6E880\", \"#FF97FF\", \"#FECB52\"], \"font\": {\"color\": \"#2a3f5f\"}, \"geo\": {\"bgcolor\": \"white\", \"lakecolor\": \"white\", \"landcolor\": \"#E5ECF6\", \"showlakes\": true, \"showland\": true, \"subunitcolor\": \"white\"}, \"hoverlabel\": {\"align\": \"left\"}, \"hovermode\": \"closest\", \"mapbox\": {\"style\": \"light\"}, \"paper_bgcolor\": \"white\", \"plot_bgcolor\": \"#E5ECF6\", \"polar\": {\"angularaxis\": {\"gridcolor\": \"white\", \"linecolor\": \"white\", \"ticks\": \"\"}, \"bgcolor\": \"#E5ECF6\", \"radialaxis\": {\"gridcolor\": \"white\", \"linecolor\": \"white\", \"ticks\": \"\"}}, \"scene\": {\"xaxis\": {\"backgroundcolor\": \"#E5ECF6\", \"gridcolor\": \"white\", \"gridwidth\": 2, \"linecolor\": \"white\", \"showbackground\": true, \"ticks\": \"\", \"zerolinecolor\": \"white\"}, \"yaxis\": {\"backgroundcolor\": \"#E5ECF6\", \"gridcolor\": \"white\", \"gridwidth\": 2, \"linecolor\": \"white\", \"showbackground\": true, \"ticks\": \"\", \"zerolinecolor\": \"white\"}, \"zaxis\": {\"backgroundcolor\": \"#E5ECF6\", \"gridcolor\": \"white\", \"gridwidth\": 2, \"linecolor\": \"white\", \"showbackground\": true, \"ticks\": \"\", \"zerolinecolor\": \"white\"}}, \"shapedefaults\": {\"line\": {\"color\": \"#2a3f5f\"}}, \"ternary\": {\"aaxis\": {\"gridcolor\": \"white\", \"linecolor\": \"white\", \"ticks\": \"\"}, \"baxis\": {\"gridcolor\": \"white\", \"linecolor\": \"white\", \"ticks\": \"\"}, \"bgcolor\": \"#E5ECF6\", \"caxis\": {\"gridcolor\": \"white\", \"linecolor\": \"white\", \"ticks\": \"\"}}, \"title\": {\"x\": 0.05}, \"xaxis\": {\"automargin\": true, \"gridcolor\": \"white\", \"linecolor\": \"white\", \"ticks\": \"\", \"title\": {\"standoff\": 15}, \"zerolinecolor\": \"white\", \"zerolinewidth\": 2}, \"yaxis\": {\"automargin\": true, \"gridcolor\": \"white\", \"linecolor\": \"white\", \"ticks\": \"\", \"title\": {\"standoff\": 15}, \"zerolinecolor\": \"white\", \"zerolinewidth\": 2}}}, \"title\": {\"font\": {\"color\": \"#4D5663\"}}, \"xaxis\": {\"gridcolor\": \"#E1E5ED\", \"showgrid\": true, \"tickfont\": {\"color\": \"#4D5663\"}, \"title\": {\"font\": {\"color\": \"#4D5663\"}, \"text\": \"\"}, \"zerolinecolor\": \"#E1E5ED\"}, \"yaxis\": {\"gridcolor\": \"#E1E5ED\", \"showgrid\": true, \"tickfont\": {\"color\": \"#4D5663\"}, \"title\": {\"font\": {\"color\": \"#4D5663\"}, \"text\": \"\"}, \"zerolinecolor\": \"#E1E5ED\"}},\n",
       "                        {\"showLink\": true, \"linkText\": \"Export to plot.ly\", \"plotlyServerURL\": \"https://plot.ly\", \"responsive\": true}\n",
       "                    ).then(function(){\n",
       "                            \n",
       "var gd = document.getElementById('0608839b-4859-48dc-b472-6c32958ba4b3');\n",
       "var x = new MutationObserver(function (mutations, observer) {{\n",
       "        var display = window.getComputedStyle(gd).display;\n",
       "        if (!display || display === 'none') {{\n",
       "            console.log([gd, 'removed!']);\n",
       "            Plotly.purge(gd);\n",
       "            observer.disconnect();\n",
       "        }}\n",
       "}});\n",
       "\n",
       "// Listen for the removal of the full notebook cells\n",
       "var notebookContainer = gd.closest('#notebook-container');\n",
       "if (notebookContainer) {{\n",
       "    x.observe(notebookContainer, {childList: true});\n",
       "}}\n",
       "\n",
       "// Listen for the clearing of the current output cell\n",
       "var outputEl = gd.closest('.output');\n",
       "if (outputEl) {{\n",
       "    x.observe(outputEl, {childList: true});\n",
       "}}\n",
       "\n",
       "                        })\n",
       "                };\n",
       "                });\n",
       "            </script>\n",
       "        </div>"
      ]
     },
     "metadata": {},
     "output_type": "display_data"
    }
   ],
   "source": [
    "df.iplot(kind='bubble', x='a', y='c', size='b')"
   ]
  }
 ],
 "metadata": {
  "kernelspec": {
   "display_name": "Python 3",
   "language": "python",
   "name": "python3"
  },
  "language_info": {
   "codemirror_mode": {
    "name": "ipython",
    "version": 3
   },
   "file_extension": ".py",
   "mimetype": "text/x-python",
   "name": "python",
   "nbconvert_exporter": "python",
   "pygments_lexer": "ipython3",
   "version": "3.7.6"
  }
 },
 "nbformat": 4,
 "nbformat_minor": 4
}
